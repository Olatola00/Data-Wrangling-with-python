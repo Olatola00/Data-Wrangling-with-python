{
  "cells": [
    {
      "cell_type": "markdown",
      "metadata": {
        "jp-MarkdownHeadingCollapsed": true,
        "tags": [],
        "id": "J-I5DYNrwwyR"
      },
      "source": [
        "# Exploratory data analysis\n",
        "\n",
        "## Table of Contents\n",
        "<ul>\n",
        "<li><a href=\"#intro\">Introduction</a>\n",
        "    <ul><a href=\"#data\">The Datasets</a></ul>\n",
        "</li>\n",
        "<li><a href=\"#wrangling\">Data Wrangling</a>\n",
        "    <ul><a href=\"#gather\">Data Gathering</a></ul>\n",
        "    <ul><a href=\"#assess\">Data Assessment</a></ul>\n",
        "    <ul><a href=\"#clean\">Data Cleaning</a></ul>\n",
        "</li>\n",
        "    \n",
        "<li><a href=\"#viz\">Data Visualization and Analysis</a></li>\n",
        "<li><a href=\"#conclusions\">Conclusion</a></li>\n",
        "</ul>"
      ]
    },
    {
      "cell_type": "markdown",
      "metadata": {
        "jp-MarkdownHeadingCollapsed": true,
        "tags": [],
        "id": "4umWvAtFwwyT"
      },
      "source": [
        "<a id=\"#intro\"></a>\n",
        "# Introduction\n",
        "\n",
        "Dogs are the only mammal on earth having the most variable number of breeds. The [Fédération Cynologique Internationale (FCI)](https://www.hillspet.com/dog-care/behavior-appearance/how-many-dog-breeds-are-there), list about 360 breeds gobally, the **Labrador retriever** being the most popular of them all based on a rating by the [American Kennel Club](https://www.akc.org/most-popular-breeds/) in 2021.\n",
        "\n",
        "As part of the requirement to complete the data analyst nanodegree course on Udacity, this data wrangling project was carried out on various dog data.\n",
        "\n",
        "The 3 major objectives of this project is to:\n",
        "1. Gather dogs data from different sources in different file formats and\n",
        "2. Clean the data in preparation for analysis.\n",
        "3. Uncover basic insights about dogbreeds in the data.\n",
        "\n",
        "\n",
        "<a href=\"#data\"></a>\n",
        "## The Data\n",
        "The main dataset is the tweet archive of a Twitter user @dog_rates, also known as WeRateDogs. WeRateDogs is a Twitter account that rates people's dogs with a humorous comment about the dog. You can read more about them [here]().\n",
        "\n",
        "This data was emailed to the Udacity team by WeRateDogs as a **csv** file exclusively for use in this project. This archive contains basic tweet data (tweet ID, timestamp, text, etc.) for all 5000+ of their tweets as they stood on August 1, 2017.\n",
        "\n",
        "\n",
        "The first additional data was scraped from the **twitter's API** using the *tweepy* library on python. This data was required to get the number of likes (**favorite_count**) and retweets (**retweet_count**) each @WeRateDogs' tweets get since they were not included in the Twitter archive.\n",
        "\n",
        "The last additional data was genrated from the Twitter archive after each image in the archive was ran through a [neural network](https://www.youtube.com/watch?v=2-Ol7ZB0MmU) that can clasify breeds of dogs (although this is beyond the scope of this project but you can learn more about this was done on the Udacity's [Machine Learning Engineer Nanodegree course](https://www.udacity.com/course/machine-learning-engineer-nanodegree--nd009)). The result was provided as a **tsv** files available for download on Udacity's website.\n",
        "\n",
        "\n"
      ]
    },
    {
      "cell_type": "markdown",
      "metadata": {
        "id": "hy6b_-k_wwyU"
      },
      "source": [
        "<a id=\"#wrangling\"></a>\n",
        "# Data wrangling\n",
        "\n",
        "Data wrangling is a core part of data science. It involves bringing data together from various sources and organizing them in preparation for analysis. As earlier stated, data wrangling is the core focus of this project."
      ]
    },
    {
      "cell_type": "code",
      "execution_count": null,
      "metadata": {
        "id": "YdnoBEikwwyV"
      },
      "outputs": [],
      "source": [
        "# import necessary modules\n",
        "import pandas as pd\n",
        "import numpy as np\n",
        "import requests\n",
        "import json\n",
        "import os\n",
        "import seaborn as sns\n",
        "import matplotlib.pyplot as plt"
      ]
    },
    {
      "cell_type": "markdown",
      "metadata": {
        "id": "fqcXAx_qwwyW"
      },
      "source": [
        "<a id=\"#gather\"></a>\n",
        "## Data Gathering\n",
        "### 1. Main data: the Twitter archive\n",
        "This was provided as a **CSV** file."
      ]
    },
    {
      "cell_type": "code",
      "execution_count": null,
      "metadata": {
        "id": "sSVlZ4tOwwyW"
      },
      "outputs": [],
      "source": [
        "twitter_archive_df = pd.read_csv('twitter-archive-enhanced.csv')"
      ]
    },
    {
      "cell_type": "code",
      "execution_count": null,
      "metadata": {
        "id": "mSPmvmI_wwyX",
        "outputId": "ee370e52-3179-4cc3-c412-eb1c33a6e8d8"
      },
      "outputs": [
        {
          "name": "stdout",
          "output_type": "stream",
          "text": [
            "<class 'pandas.core.frame.DataFrame'>\n",
            "RangeIndex: 2356 entries, 0 to 2355\n",
            "Data columns (total 17 columns):\n",
            " #   Column                      Non-Null Count  Dtype  \n",
            "---  ------                      --------------  -----  \n",
            " 0   tweet_id                    2356 non-null   int64  \n",
            " 1   in_reply_to_status_id       78 non-null     float64\n",
            " 2   in_reply_to_user_id         78 non-null     float64\n",
            " 3   timestamp                   2356 non-null   object \n",
            " 4   source                      2356 non-null   object \n",
            " 5   text                        2356 non-null   object \n",
            " 6   retweeted_status_id         181 non-null    float64\n",
            " 7   retweeted_status_user_id    181 non-null    float64\n",
            " 8   retweeted_status_timestamp  181 non-null    object \n",
            " 9   expanded_urls               2297 non-null   object \n",
            " 10  rating_numerator            2356 non-null   int64  \n",
            " 11  rating_denominator          2356 non-null   int64  \n",
            " 12  name                        2356 non-null   object \n",
            " 13  doggo                       2356 non-null   object \n",
            " 14  floofer                     2356 non-null   object \n",
            " 15  pupper                      2356 non-null   object \n",
            " 16  puppo                       2356 non-null   object \n",
            "dtypes: float64(4), int64(3), object(10)\n",
            "memory usage: 313.0+ KB\n"
          ]
        }
      ],
      "source": [
        "twitter_archive_df.info()"
      ]
    },
    {
      "cell_type": "markdown",
      "metadata": {
        "id": "7AL9jErvwwyY"
      },
      "source": [
        "### 2. The predicted image file\n",
        "\n",
        "Gathering method: Use the *requests* library to download the tweet image prediction (image_predictions.tsv)."
      ]
    },
    {
      "cell_type": "code",
      "execution_count": null,
      "metadata": {
        "id": "sn8RBp0JwwyY"
      },
      "outputs": [],
      "source": [
        "url = 'https://d17h27t6h515a5.cloudfront.net/topher/2017/August/599fd2ad_image-predictions/image-predictions.tsv'\n",
        "response = requests.get(url)\n",
        "\n",
        "with open(url.split('/')[-1], mode = 'wb') as file:\n",
        "    file.write(response.content)\n",
        "\n",
        "image_prediction_df = pd.read_csv(url.split('/')[-1], sep = '\\t')"
      ]
    },
    {
      "cell_type": "code",
      "execution_count": null,
      "metadata": {
        "id": "R8obyai_wwyY",
        "outputId": "1ad5d020-72b6-4466-906b-269887e76c77"
      },
      "outputs": [
        {
          "name": "stdout",
          "output_type": "stream",
          "text": [
            "<class 'pandas.core.frame.DataFrame'>\n",
            "RangeIndex: 2075 entries, 0 to 2074\n",
            "Data columns (total 12 columns):\n",
            " #   Column    Non-Null Count  Dtype  \n",
            "---  ------    --------------  -----  \n",
            " 0   tweet_id  2075 non-null   int64  \n",
            " 1   jpg_url   2075 non-null   object \n",
            " 2   img_num   2075 non-null   int64  \n",
            " 3   p1        2075 non-null   object \n",
            " 4   p1_conf   2075 non-null   float64\n",
            " 5   p1_dog    2075 non-null   bool   \n",
            " 6   p2        2075 non-null   object \n",
            " 7   p2_conf   2075 non-null   float64\n",
            " 8   p2_dog    2075 non-null   bool   \n",
            " 9   p3        2075 non-null   object \n",
            " 10  p3_conf   2075 non-null   float64\n",
            " 11  p3_dog    2075 non-null   bool   \n",
            "dtypes: bool(3), float64(3), int64(2), object(4)\n",
            "memory usage: 152.1+ KB\n"
          ]
        }
      ],
      "source": [
        "image_prediction_df.info()"
      ]
    },
    {
      "cell_type": "markdown",
      "metadata": {
        "id": "jw9HQHqMwwyZ"
      },
      "source": [
        "### 3. Additional tweet data\n",
        "Gathering method: use the *Tweepy* library to query additional data via the Twitter API and save it as (tweet_json.txt)."
      ]
    },
    {
      "cell_type": "code",
      "execution_count": null,
      "metadata": {
        "id": "zH3TtTK8wwyZ"
      },
      "outputs": [],
      "source": [
        "# pip install tweepy"
      ]
    },
    {
      "cell_type": "markdown",
      "metadata": {
        "id": "yERjL4SIwwyZ"
      },
      "source": [
        "The API is used to programmatically get all tweet in twitter's db by their tweet_id. We will then go ahead to query the resulting JSON data."
      ]
    },
    {
      "cell_type": "code",
      "execution_count": null,
      "metadata": {
        "id": "bFCWv3mrwwyZ"
      },
      "outputs": [],
      "source": [
        "import tweepy\n",
        "from tweepy import OAuthHandler\n",
        "from timeit import default_timer as timer\n",
        "\n",
        "consumer_key = '************************'\n",
        "consumer_secret = '************************************************'\n",
        "access_token = '************************************************'\n",
        "access_secret = '************************************************'\n",
        "\n",
        "auth = tweepy.OAuthHandler(consumer_key, consumer_secret)\n",
        "auth.set_access_token(access_token, access_secret)\n",
        "\n",
        "api = tweepy.API(auth, wait_on_rate_limit=True)"
      ]
    },
    {
      "cell_type": "code",
      "execution_count": null,
      "metadata": {
        "id": "btdHQbW3wwya",
        "outputId": "e2e34b87-5a68-4692-ce51-21dcbd1e5b78"
      },
      "outputs": [
        {
          "data": {
            "text/plain": [
              "'\\ntweet_id = \"892420643555336193\"\\ntweet = api.get_status(tweet_id, tweet_mode=\\'extended\\')\\nprint(tweet._json[\\'full_text\\'])\\n'"
            ]
          },
          "execution_count": 8,
          "metadata": {},
          "output_type": "execute_result"
        }
      ],
      "source": [
        "# to test our API\n",
        "# query directly from the _json through API not the saved json.txt\n",
        "'''\n",
        "tweet_id = \"892420643555336193\"\n",
        "tweet = api.get_status(tweet_id, tweet_mode='extended')\n",
        "print(tweet._json['full_text'])\n",
        "'''"
      ]
    },
    {
      "cell_type": "markdown",
      "metadata": {
        "id": "4TznEUHnwwyb"
      },
      "source": [
        "> No need to run this next set of code every time\n",
        "\n",
        "> \"*tweepy.errors.TweepyException*\" was changed from the default \"*tweepy.errors.TweepError*\""
      ]
    },
    {
      "cell_type": "code",
      "execution_count": null,
      "metadata": {
        "id": "j5xwC2JVwwyb",
        "outputId": "59037bc5-853a-41e4-e888-a030528a35d6"
      },
      "outputs": [
        {
          "data": {
            "text/plain": [
              "' \\ncount = 0\\nfails_dict = {}\\nstart = timer()\\ntweet_ids = twitter_archive_df.tweet_id.values\\n# Save each tweet\\'s returned JSON as a new line in a .txt file\\nwith open(\\'tweet_json.txt\\', \\'w\\') as outfile:\\n    # This loop will likely take 20-30 minutes to run because of Twitter\\'s rate limit\\n    for tweet_id in tweet_ids:\\n        count += 1\\n        print(str(count) + \": \" + str(tweet_id))\\n        try:\\n            tweet = api.get_status(tweet_id, tweet_mode=\\'extended\\')\\n            print(\"Success\")\\n            json.dump(tweet._json, outfile)\\n            outfile.write(\\'\\n\\')\\n        except tweepy.errors.TweepyException as e:\\n            print(\"Fail\")\\n            fails_dict[tweet_id] = e\\n            pass\\nend = timer()\\nprint(end - start)\\nprint(fails_dict)\\n'"
            ]
          },
          "execution_count": 9,
          "metadata": {},
          "output_type": "execute_result"
        }
      ],
      "source": [
        "# Query Twitter's API for JSON data for each tweet ID in the Twitter archive\n",
        "'''\n",
        "count = 0\n",
        "fails_dict = {}\n",
        "start = timer()\n",
        "tweet_ids = twitter_archive_df.tweet_id.values\n",
        "# Save each tweet's returned JSON as a new line in a .txt file\n",
        "with open('tweet_json.txt', 'w') as outfile:\n",
        "    # This loop will likely take 20-30 minutes to run because of Twitter's rate limit\n",
        "    for tweet_id in tweet_ids:\n",
        "        count += 1\n",
        "        print(str(count) + \": \" + str(tweet_id))\n",
        "        try:\n",
        "            tweet = api.get_status(tweet_id, tweet_mode='extended')\n",
        "            print(\"Success\")\n",
        "            json.dump(tweet._json, outfile)\n",
        "            outfile.write('\\n')\n",
        "        except tweepy.errors.TweepyException as e:\n",
        "            print(\"Fail\")\n",
        "            fails_dict[tweet_id] = e\n",
        "            pass\n",
        "end = timer()\n",
        "print(end - start)\n",
        "print(fails_dict)\n",
        "'''"
      ]
    },
    {
      "cell_type": "markdown",
      "metadata": {
        "id": "4cQd43lxwwyb"
      },
      "source": [
        "> Why didn't we just save it as '.json' instead of '.txt'?"
      ]
    },
    {
      "cell_type": "markdown",
      "metadata": {
        "id": "PCI35wYfwwyb"
      },
      "source": [
        "Note: our file is written in JSON structure but saved as a txt file.\n",
        "So we have to first read the text file then convert each object in the JSON file to its corresponding python object ([deserialization](https://www.geeksforgeeks.org/read-json-file-using-python/))\n",
        "\n",
        "Why do we need to do this? This is to enable us access the text as a python dictionary."
      ]
    },
    {
      "cell_type": "code",
      "execution_count": null,
      "metadata": {
        "id": "IhGNtxgVwwyc"
      },
      "outputs": [],
      "source": [
        "tweets = []\n",
        "with open(\"tweet_json.txt\", \"r\", encoding = 'utf-8') as file:\n",
        "    text_lines = file.readlines()\n",
        "#     print(type(text_lines))\n",
        "# line 4 of this code is a str compared to line 7 which is a dict\n",
        "    for each_line in text_lines:\n",
        "        each_line = json.loads(each_line)\n",
        "#         print(type(each_line))\n",
        "        tweets.append(each_line)"
      ]
    },
    {
      "cell_type": "code",
      "execution_count": null,
      "metadata": {
        "collapsed": true,
        "jupyter": {
          "outputs_hidden": true
        },
        "tags": [],
        "id": "mYx6BRlSwwyc",
        "outputId": "096cbfdf-aee0-4c3a-8c69-7fe0224d7487"
      },
      "outputs": [
        {
          "data": {
            "text/plain": [
              "[{'created_at': 'Tue Aug 01 16:23:56 +0000 2017',\n",
              "  'id': 892420643555336193,\n",
              "  'id_str': '892420643555336193',\n",
              "  'full_text': \"This is Phineas. He's a mystical boy. Only ever appears in the hole of a donut. 13/10 https://t.co/MgUWQ76dJU\",\n",
              "  'truncated': False,\n",
              "  'display_text_range': [0, 85],\n",
              "  'entities': {'hashtags': [],\n",
              "   'symbols': [],\n",
              "   'user_mentions': [],\n",
              "   'urls': [],\n",
              "   'media': [{'id': 892420639486877696,\n",
              "     'id_str': '892420639486877696',\n",
              "     'indices': [86, 109],\n",
              "     'media_url': 'http://pbs.twimg.com/media/DGKD1-bXoAAIAUK.jpg',\n",
              "     'media_url_https': 'https://pbs.twimg.com/media/DGKD1-bXoAAIAUK.jpg',\n",
              "     'url': 'https://t.co/MgUWQ76dJU',\n",
              "     'display_url': 'pic.twitter.com/MgUWQ76dJU',\n",
              "     'expanded_url': 'https://twitter.com/dog_rates/status/892420643555336193/photo/1',\n",
              "     'type': 'photo',\n",
              "     'sizes': {'thumb': {'w': 150, 'h': 150, 'resize': 'crop'},\n",
              "      'medium': {'w': 540, 'h': 528, 'resize': 'fit'},\n",
              "      'small': {'w': 540, 'h': 528, 'resize': 'fit'},\n",
              "      'large': {'w': 540, 'h': 528, 'resize': 'fit'}}}]},\n",
              "  'extended_entities': {'media': [{'id': 892420639486877696,\n",
              "     'id_str': '892420639486877696',\n",
              "     'indices': [86, 109],\n",
              "     'media_url': 'http://pbs.twimg.com/media/DGKD1-bXoAAIAUK.jpg',\n",
              "     'media_url_https': 'https://pbs.twimg.com/media/DGKD1-bXoAAIAUK.jpg',\n",
              "     'url': 'https://t.co/MgUWQ76dJU',\n",
              "     'display_url': 'pic.twitter.com/MgUWQ76dJU',\n",
              "     'expanded_url': 'https://twitter.com/dog_rates/status/892420643555336193/photo/1',\n",
              "     'type': 'photo',\n",
              "     'sizes': {'thumb': {'w': 150, 'h': 150, 'resize': 'crop'},\n",
              "      'medium': {'w': 540, 'h': 528, 'resize': 'fit'},\n",
              "      'small': {'w': 540, 'h': 528, 'resize': 'fit'},\n",
              "      'large': {'w': 540, 'h': 528, 'resize': 'fit'}}}]},\n",
              "  'source': '<a href=\"http://twitter.com/download/iphone\" rel=\"nofollow\">Twitter for iPhone</a>',\n",
              "  'in_reply_to_status_id': None,\n",
              "  'in_reply_to_status_id_str': None,\n",
              "  'in_reply_to_user_id': None,\n",
              "  'in_reply_to_user_id_str': None,\n",
              "  'in_reply_to_screen_name': None,\n",
              "  'user': {'id': 4196983835,\n",
              "   'id_str': '4196983835',\n",
              "   'name': 'WeRateDogs®',\n",
              "   'screen_name': 'dog_rates',\n",
              "   'location': 'all our links ➜',\n",
              "   'description': 'Your Only Source For Professional Dog Ratings Instagram and Facebook ➜ WeRateDogs partnerships@weratedogs.com | nonprofit: @15outof10 ⠀⠀⠀⠀⠀⠀⠀⠀⠀⠀⠀⠀',\n",
              "   'url': 'https://t.co/YPc2XqmwyC',\n",
              "   'entities': {'url': {'urls': [{'url': 'https://t.co/YPc2XqmwyC',\n",
              "       'expanded_url': 'http://links.weratedogs.com',\n",
              "       'display_url': 'links.weratedogs.com',\n",
              "       'indices': [0, 23]}]},\n",
              "    'description': {'urls': []}},\n",
              "   'protected': False,\n",
              "   'followers_count': 9307902,\n",
              "   'friends_count': 21,\n",
              "   'listed_count': 7490,\n",
              "   'created_at': 'Sun Nov 15 21:41:29 +0000 2015',\n",
              "   'favourites_count': 147016,\n",
              "   'utc_offset': None,\n",
              "   'time_zone': None,\n",
              "   'geo_enabled': True,\n",
              "   'verified': True,\n",
              "   'statuses_count': 15864,\n",
              "   'lang': None,\n",
              "   'contributors_enabled': False,\n",
              "   'is_translator': False,\n",
              "   'is_translation_enabled': False,\n",
              "   'profile_background_color': '000000',\n",
              "   'profile_background_image_url': 'http://abs.twimg.com/images/themes/theme1/bg.png',\n",
              "   'profile_background_image_url_https': 'https://abs.twimg.com/images/themes/theme1/bg.png',\n",
              "   'profile_background_tile': False,\n",
              "   'profile_image_url': 'http://pbs.twimg.com/profile_images/1532010275708223491/-SBRbLoH_normal.jpg',\n",
              "   'profile_image_url_https': 'https://pbs.twimg.com/profile_images/1532010275708223491/-SBRbLoH_normal.jpg',\n",
              "   'profile_banner_url': 'https://pbs.twimg.com/profile_banners/4196983835/1617810473',\n",
              "   'profile_link_color': 'F5ABB5',\n",
              "   'profile_sidebar_border_color': '000000',\n",
              "   'profile_sidebar_fill_color': '000000',\n",
              "   'profile_text_color': '000000',\n",
              "   'profile_use_background_image': False,\n",
              "   'has_extended_profile': False,\n",
              "   'default_profile': False,\n",
              "   'default_profile_image': False,\n",
              "   'following': False,\n",
              "   'follow_request_sent': False,\n",
              "   'notifications': False,\n",
              "   'translator_type': 'none',\n",
              "   'withheld_in_countries': []},\n",
              "  'geo': None,\n",
              "  'coordinates': None,\n",
              "  'place': None,\n",
              "  'contributors': None,\n",
              "  'is_quote_status': False,\n",
              "  'retweet_count': 6996,\n",
              "  'favorite_count': 33768,\n",
              "  'favorited': False,\n",
              "  'retweeted': False,\n",
              "  'possibly_sensitive': False,\n",
              "  'possibly_sensitive_appealable': False,\n",
              "  'lang': 'en'},\n",
              " {'created_at': 'Tue Aug 01 00:17:27 +0000 2017',\n",
              "  'id': 892177421306343426,\n",
              "  'id_str': '892177421306343426',\n",
              "  'full_text': \"This is Tilly. She's just checking pup on you. Hopes you're doing ok. If not, she's available for pats, snugs, boops, the whole bit. 13/10 https://t.co/0Xxu71qeIV\",\n",
              "  'truncated': False,\n",
              "  'display_text_range': [0, 138],\n",
              "  'entities': {'hashtags': [],\n",
              "   'symbols': [],\n",
              "   'user_mentions': [],\n",
              "   'urls': [],\n",
              "   'media': [{'id': 892177413194625024,\n",
              "     'id_str': '892177413194625024',\n",
              "     'indices': [139, 162],\n",
              "     'media_url': 'http://pbs.twimg.com/media/DGGmoV4XsAAUL6n.jpg',\n",
              "     'media_url_https': 'https://pbs.twimg.com/media/DGGmoV4XsAAUL6n.jpg',\n",
              "     'url': 'https://t.co/0Xxu71qeIV',\n",
              "     'display_url': 'pic.twitter.com/0Xxu71qeIV',\n",
              "     'expanded_url': 'https://twitter.com/dog_rates/status/892177421306343426/photo/1',\n",
              "     'type': 'photo',\n",
              "     'sizes': {'thumb': {'w': 150, 'h': 150, 'resize': 'crop'},\n",
              "      'medium': {'w': 1055, 'h': 1200, 'resize': 'fit'},\n",
              "      'small': {'w': 598, 'h': 680, 'resize': 'fit'},\n",
              "      'large': {'w': 1407, 'h': 1600, 'resize': 'fit'}}}]},\n",
              "  'extended_entities': {'media': [{'id': 892177413194625024,\n",
              "     'id_str': '892177413194625024',\n",
              "     'indices': [139, 162],\n",
              "     'media_url': 'http://pbs.twimg.com/media/DGGmoV4XsAAUL6n.jpg',\n",
              "     'media_url_https': 'https://pbs.twimg.com/media/DGGmoV4XsAAUL6n.jpg',\n",
              "     'url': 'https://t.co/0Xxu71qeIV',\n",
              "     'display_url': 'pic.twitter.com/0Xxu71qeIV',\n",
              "     'expanded_url': 'https://twitter.com/dog_rates/status/892177421306343426/photo/1',\n",
              "     'type': 'photo',\n",
              "     'sizes': {'thumb': {'w': 150, 'h': 150, 'resize': 'crop'},\n",
              "      'medium': {'w': 1055, 'h': 1200, 'resize': 'fit'},\n",
              "      'small': {'w': 598, 'h': 680, 'resize': 'fit'},\n",
              "      'large': {'w': 1407, 'h': 1600, 'resize': 'fit'}}}]},\n",
              "  'source': '<a href=\"http://twitter.com/download/iphone\" rel=\"nofollow\">Twitter for iPhone</a>',\n",
              "  'in_reply_to_status_id': None,\n",
              "  'in_reply_to_status_id_str': None,\n",
              "  'in_reply_to_user_id': None,\n",
              "  'in_reply_to_user_id_str': None,\n",
              "  'in_reply_to_screen_name': None,\n",
              "  'user': {'id': 4196983835,\n",
              "   'id_str': '4196983835',\n",
              "   'name': 'WeRateDogs®',\n",
              "   'screen_name': 'dog_rates',\n",
              "   'location': 'all our links ➜',\n",
              "   'description': 'Your Only Source For Professional Dog Ratings Instagram and Facebook ➜ WeRateDogs partnerships@weratedogs.com | nonprofit: @15outof10 ⠀⠀⠀⠀⠀⠀⠀⠀⠀⠀⠀⠀',\n",
              "   'url': 'https://t.co/YPc2XqmwyC',\n",
              "   'entities': {'url': {'urls': [{'url': 'https://t.co/YPc2XqmwyC',\n",
              "       'expanded_url': 'http://links.weratedogs.com',\n",
              "       'display_url': 'links.weratedogs.com',\n",
              "       'indices': [0, 23]}]},\n",
              "    'description': {'urls': []}},\n",
              "   'protected': False,\n",
              "   'followers_count': 9307902,\n",
              "   'friends_count': 21,\n",
              "   'listed_count': 7490,\n",
              "   'created_at': 'Sun Nov 15 21:41:29 +0000 2015',\n",
              "   'favourites_count': 147016,\n",
              "   'utc_offset': None,\n",
              "   'time_zone': None,\n",
              "   'geo_enabled': True,\n",
              "   'verified': True,\n",
              "   'statuses_count': 15864,\n",
              "   'lang': None,\n",
              "   'contributors_enabled': False,\n",
              "   'is_translator': False,\n",
              "   'is_translation_enabled': False,\n",
              "   'profile_background_color': '000000',\n",
              "   'profile_background_image_url': 'http://abs.twimg.com/images/themes/theme1/bg.png',\n",
              "   'profile_background_image_url_https': 'https://abs.twimg.com/images/themes/theme1/bg.png',\n",
              "   'profile_background_tile': False,\n",
              "   'profile_image_url': 'http://pbs.twimg.com/profile_images/1532010275708223491/-SBRbLoH_normal.jpg',\n",
              "   'profile_image_url_https': 'https://pbs.twimg.com/profile_images/1532010275708223491/-SBRbLoH_normal.jpg',\n",
              "   'profile_banner_url': 'https://pbs.twimg.com/profile_banners/4196983835/1617810473',\n",
              "   'profile_link_color': 'F5ABB5',\n",
              "   'profile_sidebar_border_color': '000000',\n",
              "   'profile_sidebar_fill_color': '000000',\n",
              "   'profile_text_color': '000000',\n",
              "   'profile_use_background_image': False,\n",
              "   'has_extended_profile': False,\n",
              "   'default_profile': False,\n",
              "   'default_profile_image': False,\n",
              "   'following': False,\n",
              "   'follow_request_sent': False,\n",
              "   'notifications': False,\n",
              "   'translator_type': 'none',\n",
              "   'withheld_in_countries': []},\n",
              "  'geo': None,\n",
              "  'coordinates': None,\n",
              "  'place': None,\n",
              "  'contributors': None,\n",
              "  'is_quote_status': False,\n",
              "  'retweet_count': 5295,\n",
              "  'favorite_count': 29292,\n",
              "  'favorited': False,\n",
              "  'retweeted': False,\n",
              "  'possibly_sensitive': False,\n",
              "  'possibly_sensitive_appealable': False,\n",
              "  'lang': 'en'},\n",
              " {'created_at': 'Mon Jul 31 00:18:03 +0000 2017',\n",
              "  'id': 891815181378084864,\n",
              "  'id_str': '891815181378084864',\n",
              "  'full_text': 'This is Archie. He is a rare Norwegian Pouncing Corgo. Lives in the tall grass. You never know when one may strike. 12/10 https://t.co/wUnZnhtVJB',\n",
              "  'truncated': False,\n",
              "  'display_text_range': [0, 121],\n",
              "  'entities': {'hashtags': [],\n",
              "   'symbols': [],\n",
              "   'user_mentions': [],\n",
              "   'urls': [],\n",
              "   'media': [{'id': 891815175371796480,\n",
              "     'id_str': '891815175371796480',\n",
              "     'indices': [122, 145],\n",
              "     'media_url': 'http://pbs.twimg.com/media/DGBdLU1WsAANxJ9.jpg',\n",
              "     'media_url_https': 'https://pbs.twimg.com/media/DGBdLU1WsAANxJ9.jpg',\n",
              "     'url': 'https://t.co/wUnZnhtVJB',\n",
              "     'display_url': 'pic.twitter.com/wUnZnhtVJB',\n",
              "     'expanded_url': 'https://twitter.com/dog_rates/status/891815181378084864/photo/1',\n",
              "     'type': 'photo',\n",
              "     'sizes': {'thumb': {'w': 150, 'h': 150, 'resize': 'crop'},\n",
              "      'small': {'w': 510, 'h': 680, 'resize': 'fit'},\n",
              "      'medium': {'w': 901, 'h': 1200, 'resize': 'fit'},\n",
              "      'large': {'w': 1201, 'h': 1600, 'resize': 'fit'}}}]},\n",
              "  'extended_entities': {'media': [{'id': 891815175371796480,\n",
              "     'id_str': '891815175371796480',\n",
              "     'indices': [122, 145],\n",
              "     'media_url': 'http://pbs.twimg.com/media/DGBdLU1WsAANxJ9.jpg',\n",
              "     'media_url_https': 'https://pbs.twimg.com/media/DGBdLU1WsAANxJ9.jpg',\n",
              "     'url': 'https://t.co/wUnZnhtVJB',\n",
              "     'display_url': 'pic.twitter.com/wUnZnhtVJB',\n",
              "     'expanded_url': 'https://twitter.com/dog_rates/status/891815181378084864/photo/1',\n",
              "     'type': 'photo',\n",
              "     'sizes': {'thumb': {'w': 150, 'h': 150, 'resize': 'crop'},\n",
              "      'small': {'w': 510, 'h': 680, 'resize': 'fit'},\n",
              "      'medium': {'w': 901, 'h': 1200, 'resize': 'fit'},\n",
              "      'large': {'w': 1201, 'h': 1600, 'resize': 'fit'}}}]},\n",
              "  'source': '<a href=\"http://twitter.com/download/iphone\" rel=\"nofollow\">Twitter for iPhone</a>',\n",
              "  'in_reply_to_status_id': None,\n",
              "  'in_reply_to_status_id_str': None,\n",
              "  'in_reply_to_user_id': None,\n",
              "  'in_reply_to_user_id_str': None,\n",
              "  'in_reply_to_screen_name': None,\n",
              "  'user': {'id': 4196983835,\n",
              "   'id_str': '4196983835',\n",
              "   'name': 'WeRateDogs®',\n",
              "   'screen_name': 'dog_rates',\n",
              "   'location': 'all our links ➜',\n",
              "   'description': 'Your Only Source For Professional Dog Ratings Instagram and Facebook ➜ WeRateDogs partnerships@weratedogs.com | nonprofit: @15outof10 ⠀⠀⠀⠀⠀⠀⠀⠀⠀⠀⠀⠀',\n",
              "   'url': 'https://t.co/YPc2XqmwyC',\n",
              "   'entities': {'url': {'urls': [{'url': 'https://t.co/YPc2XqmwyC',\n",
              "       'expanded_url': 'http://links.weratedogs.com',\n",
              "       'display_url': 'links.weratedogs.com',\n",
              "       'indices': [0, 23]}]},\n",
              "    'description': {'urls': []}},\n",
              "   'protected': False,\n",
              "   'followers_count': 9307902,\n",
              "   'friends_count': 21,\n",
              "   'listed_count': 7490,\n",
              "   'created_at': 'Sun Nov 15 21:41:29 +0000 2015',\n",
              "   'favourites_count': 147016,\n",
              "   'utc_offset': None,\n",
              "   'time_zone': None,\n",
              "   'geo_enabled': True,\n",
              "   'verified': True,\n",
              "   'statuses_count': 15864,\n",
              "   'lang': None,\n",
              "   'contributors_enabled': False,\n",
              "   'is_translator': False,\n",
              "   'is_translation_enabled': False,\n",
              "   'profile_background_color': '000000',\n",
              "   'profile_background_image_url': 'http://abs.twimg.com/images/themes/theme1/bg.png',\n",
              "   'profile_background_image_url_https': 'https://abs.twimg.com/images/themes/theme1/bg.png',\n",
              "   'profile_background_tile': False,\n",
              "   'profile_image_url': 'http://pbs.twimg.com/profile_images/1532010275708223491/-SBRbLoH_normal.jpg',\n",
              "   'profile_image_url_https': 'https://pbs.twimg.com/profile_images/1532010275708223491/-SBRbLoH_normal.jpg',\n",
              "   'profile_banner_url': 'https://pbs.twimg.com/profile_banners/4196983835/1617810473',\n",
              "   'profile_link_color': 'F5ABB5',\n",
              "   'profile_sidebar_border_color': '000000',\n",
              "   'profile_sidebar_fill_color': '000000',\n",
              "   'profile_text_color': '000000',\n",
              "   'profile_use_background_image': False,\n",
              "   'has_extended_profile': False,\n",
              "   'default_profile': False,\n",
              "   'default_profile_image': False,\n",
              "   'following': False,\n",
              "   'follow_request_sent': False,\n",
              "   'notifications': False,\n",
              "   'translator_type': 'none',\n",
              "   'withheld_in_countries': []},\n",
              "  'geo': None,\n",
              "  'coordinates': None,\n",
              "  'place': None,\n",
              "  'contributors': None,\n",
              "  'is_quote_status': False,\n",
              "  'retweet_count': 3476,\n",
              "  'favorite_count': 22028,\n",
              "  'favorited': False,\n",
              "  'retweeted': False,\n",
              "  'possibly_sensitive': False,\n",
              "  'possibly_sensitive_appealable': False,\n",
              "  'lang': 'en'},\n",
              " {'created_at': 'Sun Jul 30 15:58:51 +0000 2017',\n",
              "  'id': 891689557279858688,\n",
              "  'id_str': '891689557279858688',\n",
              "  'full_text': 'This is Darla. She commenced a snooze mid meal. 13/10 happens to the best of us https://t.co/tD36da7qLQ',\n",
              "  'truncated': False,\n",
              "  'display_text_range': [0, 79],\n",
              "  'entities': {'hashtags': [],\n",
              "   'symbols': [],\n",
              "   'user_mentions': [],\n",
              "   'urls': [],\n",
              "   'media': [{'id': 891689552724799489,\n",
              "     'id_str': '891689552724799489',\n",
              "     'indices': [80, 103],\n",
              "     'media_url': 'http://pbs.twimg.com/media/DF_q7IAWsAEuuN8.jpg',\n",
              "     'media_url_https': 'https://pbs.twimg.com/media/DF_q7IAWsAEuuN8.jpg',\n",
              "     'url': 'https://t.co/tD36da7qLQ',\n",
              "     'display_url': 'pic.twitter.com/tD36da7qLQ',\n",
              "     'expanded_url': 'https://twitter.com/dog_rates/status/891689557279858688/photo/1',\n",
              "     'type': 'photo',\n",
              "     'sizes': {'thumb': {'w': 150, 'h': 150, 'resize': 'crop'},\n",
              "      'small': {'w': 510, 'h': 680, 'resize': 'fit'},\n",
              "      'medium': {'w': 901, 'h': 1200, 'resize': 'fit'},\n",
              "      'large': {'w': 1201, 'h': 1600, 'resize': 'fit'}}}]},\n",
              "  'extended_entities': {'media': [{'id': 891689552724799489,\n",
              "     'id_str': '891689552724799489',\n",
              "     'indices': [80, 103],\n",
              "     'media_url': 'http://pbs.twimg.com/media/DF_q7IAWsAEuuN8.jpg',\n",
              "     'media_url_https': 'https://pbs.twimg.com/media/DF_q7IAWsAEuuN8.jpg',\n",
              "     'url': 'https://t.co/tD36da7qLQ',\n",
              "     'display_url': 'pic.twitter.com/tD36da7qLQ',\n",
              "     'expanded_url': 'https://twitter.com/dog_rates/status/891689557279858688/photo/1',\n",
              "     'type': 'photo',\n",
              "     'sizes': {'thumb': {'w': 150, 'h': 150, 'resize': 'crop'},\n",
              "      'small': {'w': 510, 'h': 680, 'resize': 'fit'},\n",
              "      'medium': {'w': 901, 'h': 1200, 'resize': 'fit'},\n",
              "      'large': {'w': 1201, 'h': 1600, 'resize': 'fit'}}}]},\n",
              "  'source': '<a href=\"http://twitter.com/download/iphone\" rel=\"nofollow\">Twitter for iPhone</a>',\n",
              "  'in_reply_to_status_id': None,\n",
              "  'in_reply_to_status_id_str': None,\n",
              "  'in_reply_to_user_id': None,\n",
              "  'in_reply_to_user_id_str': None,\n",
              "  'in_reply_to_screen_name': None,\n",
              "  'user': {'id': 4196983835,\n",
              "   'id_str': '4196983835',\n",
              "   'name': 'WeRateDogs®',\n",
              "   'screen_name': 'dog_rates',\n",
              "   'location': 'all our links ➜',\n",
              "   'description': 'Your Only Source For Professional Dog Ratings Instagram and Facebook ➜ WeRateDogs partnerships@weratedogs.com | nonprofit: @15outof10 ⠀⠀⠀⠀⠀⠀⠀⠀⠀⠀⠀⠀',\n",
              "   'url': 'https://t.co/YPc2XqmwyC',\n",
              "   'entities': {'url': {'urls': [{'url': 'https://t.co/YPc2XqmwyC',\n",
              "       'expanded_url': 'http://links.weratedogs.com',\n",
              "       'display_url': 'links.weratedogs.com',\n",
              "       'indices': [0, 23]}]},\n",
              "    'description': {'urls': []}},\n",
              "   'protected': False,\n",
              "   'followers_count': 9307902,\n",
              "   'friends_count': 21,\n",
              "   'listed_count': 7490,\n",
              "   'created_at': 'Sun Nov 15 21:41:29 +0000 2015',\n",
              "   'favourites_count': 147016,\n",
              "   'utc_offset': None,\n",
              "   'time_zone': None,\n",
              "   'geo_enabled': True,\n",
              "   'verified': True,\n",
              "   'statuses_count': 15864,\n",
              "   'lang': None,\n",
              "   'contributors_enabled': False,\n",
              "   'is_translator': False,\n",
              "   'is_translation_enabled': False,\n",
              "   'profile_background_color': '000000',\n",
              "   'profile_background_image_url': 'http://abs.twimg.com/images/themes/theme1/bg.png',\n",
              "   'profile_background_image_url_https': 'https://abs.twimg.com/images/themes/theme1/bg.png',\n",
              "   'profile_background_tile': False,\n",
              "   'profile_image_url': 'http://pbs.twimg.com/profile_images/1532010275708223491/-SBRbLoH_normal.jpg',\n",
              "   'profile_image_url_https': 'https://pbs.twimg.com/profile_images/1532010275708223491/-SBRbLoH_normal.jpg',\n",
              "   'profile_banner_url': 'https://pbs.twimg.com/profile_banners/4196983835/1617810473',\n",
              "   'profile_link_color': 'F5ABB5',\n",
              "   'profile_sidebar_border_color': '000000',\n",
              "   'profile_sidebar_fill_color': '000000',\n",
              "   'profile_text_color': '000000',\n",
              "   'profile_use_background_image': False,\n",
              "   'has_extended_profile': False,\n",
              "   'default_profile': False,\n",
              "   'default_profile_image': False,\n",
              "   'following': False,\n",
              "   'follow_request_sent': False,\n",
              "   'notifications': False,\n",
              "   'translator_type': 'none',\n",
              "   'withheld_in_countries': []},\n",
              "  'geo': None,\n",
              "  'coordinates': None,\n",
              "  'place': None,\n",
              "  'contributors': None,\n",
              "  'is_quote_status': False,\n",
              "  'retweet_count': 7210,\n",
              "  'favorite_count': 36863,\n",
              "  'favorited': False,\n",
              "  'retweeted': False,\n",
              "  'possibly_sensitive': False,\n",
              "  'possibly_sensitive_appealable': False,\n",
              "  'lang': 'en'},\n",
              " {'created_at': 'Sat Jul 29 16:00:24 +0000 2017',\n",
              "  'id': 891327558926688256,\n",
              "  'id_str': '891327558926688256',\n",
              "  'full_text': 'This is Franklin. He would like you to stop calling him \"cute.\" He is a very fierce shark and should be respected as such. 12/10 #BarkWeek https://t.co/AtUZn91f7f',\n",
              "  'truncated': False,\n",
              "  'display_text_range': [0, 138],\n",
              "  'entities': {'hashtags': [{'text': 'BarkWeek', 'indices': [129, 138]}],\n",
              "   'symbols': [],\n",
              "   'user_mentions': [],\n",
              "   'urls': [],\n",
              "   'media': [{'id': 891327551943041024,\n",
              "     'id_str': '891327551943041024',\n",
              "     'indices': [139, 162],\n",
              "     'media_url': 'http://pbs.twimg.com/media/DF6hr6AVYAAZ8G8.jpg',\n",
              "     'media_url_https': 'https://pbs.twimg.com/media/DF6hr6AVYAAZ8G8.jpg',\n",
              "     'url': 'https://t.co/AtUZn91f7f',\n",
              "     'display_url': 'pic.twitter.com/AtUZn91f7f',\n",
              "     'expanded_url': 'https://twitter.com/dog_rates/status/891327558926688256/photo/1',\n",
              "     'type': 'photo',\n",
              "     'sizes': {'medium': {'w': 720, 'h': 540, 'resize': 'fit'},\n",
              "      'large': {'w': 720, 'h': 540, 'resize': 'fit'},\n",
              "      'thumb': {'w': 150, 'h': 150, 'resize': 'crop'},\n",
              "      'small': {'w': 680, 'h': 510, 'resize': 'fit'}}}]},\n",
              "  'extended_entities': {'media': [{'id': 891327551943041024,\n",
              "     'id_str': '891327551943041024',\n",
              "     'indices': [139, 162],\n",
              "     'media_url': 'http://pbs.twimg.com/media/DF6hr6AVYAAZ8G8.jpg',\n",
              "     'media_url_https': 'https://pbs.twimg.com/media/DF6hr6AVYAAZ8G8.jpg',\n",
              "     'url': 'https://t.co/AtUZn91f7f',\n",
              "     'display_url': 'pic.twitter.com/AtUZn91f7f',\n",
              "     'expanded_url': 'https://twitter.com/dog_rates/status/891327558926688256/photo/1',\n",
              "     'type': 'photo',\n",
              "     'sizes': {'medium': {'w': 720, 'h': 540, 'resize': 'fit'},\n",
              "      'large': {'w': 720, 'h': 540, 'resize': 'fit'},\n",
              "      'thumb': {'w': 150, 'h': 150, 'resize': 'crop'},\n",
              "      'small': {'w': 680, 'h': 510, 'resize': 'fit'}}},\n",
              "    {'id': 891327551947157504,\n",
              "     'id_str': '891327551947157504',\n",
              "     'indices': [139, 162],\n",
              "     'media_url': 'http://pbs.twimg.com/media/DF6hr6BUMAAzZgT.jpg',\n",
              "     'media_url_https': 'https://pbs.twimg.com/media/DF6hr6BUMAAzZgT.jpg',\n",
              "     'url': 'https://t.co/AtUZn91f7f',\n",
              "     'display_url': 'pic.twitter.com/AtUZn91f7f',\n",
              "     'expanded_url': 'https://twitter.com/dog_rates/status/891327558926688256/photo/1',\n",
              "     'type': 'photo',\n",
              "     'sizes': {'medium': {'w': 720, 'h': 540, 'resize': 'fit'},\n",
              "      'large': {'w': 720, 'h': 540, 'resize': 'fit'},\n",
              "      'thumb': {'w': 150, 'h': 150, 'resize': 'crop'},\n",
              "      'small': {'w': 680, 'h': 510, 'resize': 'fit'}}}]},\n",
              "  'source': '<a href=\"http://twitter.com/download/iphone\" rel=\"nofollow\">Twitter for iPhone</a>',\n",
              "  'in_reply_to_status_id': None,\n",
              "  'in_reply_to_status_id_str': None,\n",
              "  'in_reply_to_user_id': None,\n",
              "  'in_reply_to_user_id_str': None,\n",
              "  'in_reply_to_screen_name': None,\n",
              "  'user': {'id': 4196983835,\n",
              "   'id_str': '4196983835',\n",
              "   'name': 'WeRateDogs®',\n",
              "   'screen_name': 'dog_rates',\n",
              "   'location': 'all our links ➜',\n",
              "   'description': 'Your Only Source For Professional Dog Ratings Instagram and Facebook ➜ WeRateDogs partnerships@weratedogs.com | nonprofit: @15outof10 ⠀⠀⠀⠀⠀⠀⠀⠀⠀⠀⠀⠀',\n",
              "   'url': 'https://t.co/YPc2XqmwyC',\n",
              "   'entities': {'url': {'urls': [{'url': 'https://t.co/YPc2XqmwyC',\n",
              "       'expanded_url': 'http://links.weratedogs.com',\n",
              "       'display_url': 'links.weratedogs.com',\n",
              "       'indices': [0, 23]}]},\n",
              "    'description': {'urls': []}},\n",
              "   'protected': False,\n",
              "   'followers_count': 9307902,\n",
              "   'friends_count': 21,\n",
              "   'listed_count': 7490,\n",
              "   'created_at': 'Sun Nov 15 21:41:29 +0000 2015',\n",
              "   'favourites_count': 147016,\n",
              "   'utc_offset': None,\n",
              "   'time_zone': None,\n",
              "   'geo_enabled': True,\n",
              "   'verified': True,\n",
              "   'statuses_count': 15864,\n",
              "   'lang': None,\n",
              "   'contributors_enabled': False,\n",
              "   'is_translator': False,\n",
              "   'is_translation_enabled': False,\n",
              "   'profile_background_color': '000000',\n",
              "   'profile_background_image_url': 'http://abs.twimg.com/images/themes/theme1/bg.png',\n",
              "   'profile_background_image_url_https': 'https://abs.twimg.com/images/themes/theme1/bg.png',\n",
              "   'profile_background_tile': False,\n",
              "   'profile_image_url': 'http://pbs.twimg.com/profile_images/1532010275708223491/-SBRbLoH_normal.jpg',\n",
              "   'profile_image_url_https': 'https://pbs.twimg.com/profile_images/1532010275708223491/-SBRbLoH_normal.jpg',\n",
              "   'profile_banner_url': 'https://pbs.twimg.com/profile_banners/4196983835/1617810473',\n",
              "   'profile_link_color': 'F5ABB5',\n",
              "   'profile_sidebar_border_color': '000000',\n",
              "   'profile_sidebar_fill_color': '000000',\n",
              "   'profile_text_color': '000000',\n",
              "   'profile_use_background_image': False,\n",
              "   'has_extended_profile': False,\n",
              "   'default_profile': False,\n",
              "   'default_profile_image': False,\n",
              "   'following': False,\n",
              "   'follow_request_sent': False,\n",
              "   'notifications': False,\n",
              "   'translator_type': 'none',\n",
              "   'withheld_in_countries': []},\n",
              "  'geo': None,\n",
              "  'coordinates': None,\n",
              "  'place': None,\n",
              "  'contributors': None,\n",
              "  'is_quote_status': False,\n",
              "  'retweet_count': 7748,\n",
              "  'favorite_count': 35247,\n",
              "  'favorited': False,\n",
              "  'retweeted': False,\n",
              "  'possibly_sensitive': False,\n",
              "  'possibly_sensitive_appealable': False,\n",
              "  'lang': 'en'}]"
            ]
          },
          "execution_count": 11,
          "metadata": {},
          "output_type": "execute_result"
        }
      ],
      "source": [
        "tweets[0:5]"
      ]
    },
    {
      "cell_type": "markdown",
      "metadata": {
        "tags": [],
        "id": "51ZzbnPOwwyc"
      },
      "source": [
        "As we can see, the variable *'tweets'* now contains a list of dicts that need to be converted into a pandas dataFrame."
      ]
    },
    {
      "cell_type": "code",
      "execution_count": null,
      "metadata": {
        "tags": [],
        "id": "5Wf0khs8wwyc"
      },
      "outputs": [],
      "source": [
        "twitterAPI_df = pd.DataFrame(tweets)\n",
        "\n",
        "# extract the 'id', 'retweet_count', 'favorite_count'\n",
        "twitterAPI_extract_df = twitterAPI_df[['id', 'retweet_count', 'favorite_count']]"
      ]
    },
    {
      "cell_type": "code",
      "execution_count": null,
      "metadata": {
        "scrolled": true,
        "id": "QBnUNYhgwwyc",
        "outputId": "ce8190cf-9785-4989-ba47-751203447fc6"
      },
      "outputs": [
        {
          "name": "stdout",
          "output_type": "stream",
          "text": [
            "<class 'pandas.core.frame.DataFrame'>\n",
            "RangeIndex: 2326 entries, 0 to 2325\n",
            "Data columns (total 3 columns):\n",
            " #   Column          Non-Null Count  Dtype\n",
            "---  ------          --------------  -----\n",
            " 0   id              2326 non-null   int64\n",
            " 1   retweet_count   2326 non-null   int64\n",
            " 2   favorite_count  2326 non-null   int64\n",
            "dtypes: int64(3)\n",
            "memory usage: 54.6 KB\n"
          ]
        }
      ],
      "source": [
        "twitterAPI_extract_df.info()"
      ]
    },
    {
      "cell_type": "markdown",
      "metadata": {
        "extensions": {
          "jupyter_dashboards": {
            "version": 1,
            "views": {
              "grid_default": {
                "col": 4,
                "height": 4,
                "hidden": false,
                "row": 28,
                "width": 4
              },
              "report_default": {
                "hidden": false
              }
            }
          }
        },
        "id": "0yaNECOMwwyc"
      },
      "source": [
        "<a id=\"#assess\"></a>\n",
        "## Data Assessment\n",
        "In this section, the plan is to detect and document at least **eight (8) quality issues and two (2) tidiness issue** using **both** visual assessment and\n",
        "programmatic assessement.\n",
        "\n",
        "The following key points were given as a guide to the data assessment.\n",
        "\n",
        "* You only want original ratings (no retweets) that have images. Though there are 5000+ tweets in the dataset, not all are dog ratings and some are retweets.\n",
        "\n",
        "* The fact that the rating numerators are greater than the denominators does not need to be cleaned. This [unique rating system](http://knowyourmeme.com/memes/theyre-good-dogs-brent) is a big part of the popularity of WeRateDogs.\n",
        "* You do not need to gather the tweets beyond August 1st, 2017. You can, but note that you won't be able to gather the image predictions for these tweets since you don't have access to the algorithm used."
      ]
    },
    {
      "cell_type": "markdown",
      "metadata": {
        "id": "KiDHYaQ_wwyc"
      },
      "source": [
        "**Note**: Most of the initial assessment was done visually using googlesheet. Afterwards, we probed further using programmatic assessment"
      ]
    },
    {
      "cell_type": "code",
      "execution_count": null,
      "metadata": {
        "id": "y4zIO0NCwwyc",
        "outputId": "812256e8-3fce-483a-a0dc-a16be8ff3a0a"
      },
      "outputs": [
        {
          "name": "stdout",
          "output_type": "stream",
          "text": [
            "<class 'pandas.core.frame.DataFrame'>\n",
            "RangeIndex: 2356 entries, 0 to 2355\n",
            "Data columns (total 17 columns):\n",
            " #   Column                      Non-Null Count  Dtype  \n",
            "---  ------                      --------------  -----  \n",
            " 0   tweet_id                    2356 non-null   int64  \n",
            " 1   in_reply_to_status_id       78 non-null     float64\n",
            " 2   in_reply_to_user_id         78 non-null     float64\n",
            " 3   timestamp                   2356 non-null   object \n",
            " 4   source                      2356 non-null   object \n",
            " 5   text                        2356 non-null   object \n",
            " 6   retweeted_status_id         181 non-null    float64\n",
            " 7   retweeted_status_user_id    181 non-null    float64\n",
            " 8   retweeted_status_timestamp  181 non-null    object \n",
            " 9   expanded_urls               2297 non-null   object \n",
            " 10  rating_numerator            2356 non-null   int64  \n",
            " 11  rating_denominator          2356 non-null   int64  \n",
            " 12  name                        2356 non-null   object \n",
            " 13  doggo                       2356 non-null   object \n",
            " 14  floofer                     2356 non-null   object \n",
            " 15  pupper                      2356 non-null   object \n",
            " 16  puppo                       2356 non-null   object \n",
            "dtypes: float64(4), int64(3), object(10)\n",
            "memory usage: 313.0+ KB\n"
          ]
        }
      ],
      "source": [
        "twitter_archive_df.info()"
      ]
    },
    {
      "cell_type": "markdown",
      "metadata": {
        "id": "W53JElv1wwyc"
      },
      "source": [
        "*'tweet id'* and *'timestamp'* have incorrect data types"
      ]
    },
    {
      "cell_type": "code",
      "execution_count": null,
      "metadata": {
        "id": "RS9gMTtvwwyc",
        "outputId": "0ce59325-3f74-4039-b845-376a65b13e8a"
      },
      "outputs": [
        {
          "data": {
            "text/html": [
              "<div>\n",
              "<style scoped>\n",
              "    .dataframe tbody tr th:only-of-type {\n",
              "        vertical-align: middle;\n",
              "    }\n",
              "\n",
              "    .dataframe tbody tr th {\n",
              "        vertical-align: top;\n",
              "    }\n",
              "\n",
              "    .dataframe thead th {\n",
              "        text-align: right;\n",
              "    }\n",
              "</style>\n",
              "<table border=\"1\" class=\"dataframe\">\n",
              "  <thead>\n",
              "    <tr style=\"text-align: right;\">\n",
              "      <th></th>\n",
              "      <th>tweet_id</th>\n",
              "      <th>in_reply_to_status_id</th>\n",
              "      <th>in_reply_to_user_id</th>\n",
              "      <th>timestamp</th>\n",
              "      <th>source</th>\n",
              "      <th>text</th>\n",
              "      <th>retweeted_status_id</th>\n",
              "      <th>retweeted_status_user_id</th>\n",
              "      <th>retweeted_status_timestamp</th>\n",
              "      <th>expanded_urls</th>\n",
              "      <th>rating_numerator</th>\n",
              "      <th>rating_denominator</th>\n",
              "      <th>name</th>\n",
              "      <th>doggo</th>\n",
              "      <th>floofer</th>\n",
              "      <th>pupper</th>\n",
              "      <th>puppo</th>\n",
              "    </tr>\n",
              "  </thead>\n",
              "  <tbody>\n",
              "    <tr>\n",
              "      <th>2230</th>\n",
              "      <td>668237644992782336</td>\n",
              "      <td>NaN</td>\n",
              "      <td>NaN</td>\n",
              "      <td>2015-11-22 01:20:44 +0000</td>\n",
              "      <td>&lt;a href=\"http://twitter.com/download/iphone\" r...</td>\n",
              "      <td>This is Torque. He served his nickel. Better n...</td>\n",
              "      <td>NaN</td>\n",
              "      <td>NaN</td>\n",
              "      <td>NaN</td>\n",
              "      <td>https://twitter.com/dog_rates/status/668237644...</td>\n",
              "      <td>10</td>\n",
              "      <td>10</td>\n",
              "      <td>Torque</td>\n",
              "      <td>None</td>\n",
              "      <td>None</td>\n",
              "      <td>None</td>\n",
              "      <td>None</td>\n",
              "    </tr>\n",
              "    <tr>\n",
              "      <th>1290</th>\n",
              "      <td>708130923141795840</td>\n",
              "      <td>NaN</td>\n",
              "      <td>NaN</td>\n",
              "      <td>2016-03-11 03:22:23 +0000</td>\n",
              "      <td>&lt;a href=\"http://twitter.com/download/iphone\" r...</td>\n",
              "      <td>Please stop sending in non canines like this G...</td>\n",
              "      <td>NaN</td>\n",
              "      <td>NaN</td>\n",
              "      <td>NaN</td>\n",
              "      <td>https://twitter.com/dog_rates/status/708130923...</td>\n",
              "      <td>11</td>\n",
              "      <td>10</td>\n",
              "      <td>None</td>\n",
              "      <td>None</td>\n",
              "      <td>None</td>\n",
              "      <td>None</td>\n",
              "      <td>None</td>\n",
              "    </tr>\n",
              "    <tr>\n",
              "      <th>2011</th>\n",
              "      <td>672245253877968896</td>\n",
              "      <td>NaN</td>\n",
              "      <td>NaN</td>\n",
              "      <td>2015-12-03 02:45:32 +0000</td>\n",
              "      <td>&lt;a href=\"http://twitter.com/download/iphone\" r...</td>\n",
              "      <td>Meet Snickers. He's adorable. Also comes in t-...</td>\n",
              "      <td>NaN</td>\n",
              "      <td>NaN</td>\n",
              "      <td>NaN</td>\n",
              "      <td>https://twitter.com/dog_rates/status/672245253...</td>\n",
              "      <td>12</td>\n",
              "      <td>10</td>\n",
              "      <td>Snickers</td>\n",
              "      <td>None</td>\n",
              "      <td>None</td>\n",
              "      <td>None</td>\n",
              "      <td>None</td>\n",
              "    </tr>\n",
              "    <tr>\n",
              "      <th>1552</th>\n",
              "      <td>688916208532455424</td>\n",
              "      <td>NaN</td>\n",
              "      <td>NaN</td>\n",
              "      <td>2016-01-18 02:49:58 +0000</td>\n",
              "      <td>&lt;a href=\"http://twitter.com/download/iphone\" r...</td>\n",
              "      <td>This pupper just wants to say hello. 11/10 wou...</td>\n",
              "      <td>NaN</td>\n",
              "      <td>NaN</td>\n",
              "      <td>NaN</td>\n",
              "      <td>https://twitter.com/dog_rates/status/688916208...</td>\n",
              "      <td>11</td>\n",
              "      <td>10</td>\n",
              "      <td>None</td>\n",
              "      <td>None</td>\n",
              "      <td>None</td>\n",
              "      <td>pupper</td>\n",
              "      <td>None</td>\n",
              "    </tr>\n",
              "    <tr>\n",
              "      <th>479</th>\n",
              "      <td>815745968457060357</td>\n",
              "      <td>NaN</td>\n",
              "      <td>NaN</td>\n",
              "      <td>2017-01-02 02:26:09 +0000</td>\n",
              "      <td>&lt;a href=\"http://twitter.com/download/iphone\" r...</td>\n",
              "      <td>RT @dog_rates: Say hello to Levi. He's a Madag...</td>\n",
              "      <td>7.914070e+17</td>\n",
              "      <td>4.196984e+09</td>\n",
              "      <td>2016-10-26 22:31:36 +0000</td>\n",
              "      <td>https://twitter.com/dog_rates/status/791406955...</td>\n",
              "      <td>12</td>\n",
              "      <td>10</td>\n",
              "      <td>Levi</td>\n",
              "      <td>None</td>\n",
              "      <td>None</td>\n",
              "      <td>None</td>\n",
              "      <td>None</td>\n",
              "    </tr>\n",
              "  </tbody>\n",
              "</table>\n",
              "</div>"
            ],
            "text/plain": [
              "                tweet_id  in_reply_to_status_id  in_reply_to_user_id  \\\n",
              "2230  668237644992782336                    NaN                  NaN   \n",
              "1290  708130923141795840                    NaN                  NaN   \n",
              "2011  672245253877968896                    NaN                  NaN   \n",
              "1552  688916208532455424                    NaN                  NaN   \n",
              "479   815745968457060357                    NaN                  NaN   \n",
              "\n",
              "                      timestamp  \\\n",
              "2230  2015-11-22 01:20:44 +0000   \n",
              "1290  2016-03-11 03:22:23 +0000   \n",
              "2011  2015-12-03 02:45:32 +0000   \n",
              "1552  2016-01-18 02:49:58 +0000   \n",
              "479   2017-01-02 02:26:09 +0000   \n",
              "\n",
              "                                                 source  \\\n",
              "2230  <a href=\"http://twitter.com/download/iphone\" r...   \n",
              "1290  <a href=\"http://twitter.com/download/iphone\" r...   \n",
              "2011  <a href=\"http://twitter.com/download/iphone\" r...   \n",
              "1552  <a href=\"http://twitter.com/download/iphone\" r...   \n",
              "479   <a href=\"http://twitter.com/download/iphone\" r...   \n",
              "\n",
              "                                                   text  retweeted_status_id  \\\n",
              "2230  This is Torque. He served his nickel. Better n...                  NaN   \n",
              "1290  Please stop sending in non canines like this G...                  NaN   \n",
              "2011  Meet Snickers. He's adorable. Also comes in t-...                  NaN   \n",
              "1552  This pupper just wants to say hello. 11/10 wou...                  NaN   \n",
              "479   RT @dog_rates: Say hello to Levi. He's a Madag...         7.914070e+17   \n",
              "\n",
              "      retweeted_status_user_id retweeted_status_timestamp  \\\n",
              "2230                       NaN                        NaN   \n",
              "1290                       NaN                        NaN   \n",
              "2011                       NaN                        NaN   \n",
              "1552                       NaN                        NaN   \n",
              "479               4.196984e+09  2016-10-26 22:31:36 +0000   \n",
              "\n",
              "                                          expanded_urls  rating_numerator  \\\n",
              "2230  https://twitter.com/dog_rates/status/668237644...                10   \n",
              "1290  https://twitter.com/dog_rates/status/708130923...                11   \n",
              "2011  https://twitter.com/dog_rates/status/672245253...                12   \n",
              "1552  https://twitter.com/dog_rates/status/688916208...                11   \n",
              "479   https://twitter.com/dog_rates/status/791406955...                12   \n",
              "\n",
              "      rating_denominator      name doggo floofer  pupper puppo  \n",
              "2230                  10    Torque  None    None    None  None  \n",
              "1290                  10      None  None    None    None  None  \n",
              "2011                  10  Snickers  None    None    None  None  \n",
              "1552                  10      None  None    None  pupper  None  \n",
              "479                   10      Levi  None    None    None  None  "
            ]
          },
          "execution_count": 15,
          "metadata": {},
          "output_type": "execute_result"
        }
      ],
      "source": [
        "twitter_archive_df.sample(5)"
      ]
    },
    {
      "cell_type": "code",
      "execution_count": null,
      "metadata": {
        "collapsed": true,
        "jupyter": {
          "outputs_hidden": true
        },
        "tags": [],
        "id": "W7ctDRfBwwyd",
        "outputId": "0a409250-37c2-4a25-b588-c6130527ca23"
      },
      "outputs": [
        {
          "data": {
            "text/html": [
              "<div>\n",
              "<style scoped>\n",
              "    .dataframe tbody tr th:only-of-type {\n",
              "        vertical-align: middle;\n",
              "    }\n",
              "\n",
              "    .dataframe tbody tr th {\n",
              "        vertical-align: top;\n",
              "    }\n",
              "\n",
              "    .dataframe thead th {\n",
              "        text-align: right;\n",
              "    }\n",
              "</style>\n",
              "<table border=\"1\" class=\"dataframe\">\n",
              "  <thead>\n",
              "    <tr style=\"text-align: right;\">\n",
              "      <th></th>\n",
              "      <th>tweet_id</th>\n",
              "      <th>in_reply_to_status_id</th>\n",
              "      <th>in_reply_to_user_id</th>\n",
              "      <th>timestamp</th>\n",
              "      <th>source</th>\n",
              "      <th>text</th>\n",
              "      <th>retweeted_status_id</th>\n",
              "      <th>retweeted_status_user_id</th>\n",
              "      <th>retweeted_status_timestamp</th>\n",
              "      <th>expanded_urls</th>\n",
              "      <th>rating_numerator</th>\n",
              "      <th>rating_denominator</th>\n",
              "      <th>name</th>\n",
              "      <th>doggo</th>\n",
              "      <th>floofer</th>\n",
              "      <th>pupper</th>\n",
              "      <th>puppo</th>\n",
              "    </tr>\n",
              "  </thead>\n",
              "  <tbody>\n",
              "    <tr>\n",
              "      <th>30</th>\n",
              "      <td>886267009285017600</td>\n",
              "      <td>8.862664e+17</td>\n",
              "      <td>2.281182e+09</td>\n",
              "      <td>2017-07-15 16:51:35 +0000</td>\n",
              "      <td>&lt;a href=\"http://twitter.com/download/iphone\" r...</td>\n",
              "      <td>@NonWhiteHat @MayhewMayhem omg hello tanner yo...</td>\n",
              "      <td>NaN</td>\n",
              "      <td>NaN</td>\n",
              "      <td>NaN</td>\n",
              "      <td>NaN</td>\n",
              "      <td>12</td>\n",
              "      <td>10</td>\n",
              "      <td>None</td>\n",
              "      <td>None</td>\n",
              "      <td>None</td>\n",
              "      <td>None</td>\n",
              "      <td>None</td>\n",
              "    </tr>\n",
              "    <tr>\n",
              "      <th>55</th>\n",
              "      <td>881633300179243008</td>\n",
              "      <td>8.816070e+17</td>\n",
              "      <td>4.738443e+07</td>\n",
              "      <td>2017-07-02 21:58:53 +0000</td>\n",
              "      <td>&lt;a href=\"http://twitter.com/download/iphone\" r...</td>\n",
              "      <td>@roushfenway These are good dogs but 17/10 is ...</td>\n",
              "      <td>NaN</td>\n",
              "      <td>NaN</td>\n",
              "      <td>NaN</td>\n",
              "      <td>NaN</td>\n",
              "      <td>17</td>\n",
              "      <td>10</td>\n",
              "      <td>None</td>\n",
              "      <td>None</td>\n",
              "      <td>None</td>\n",
              "      <td>None</td>\n",
              "      <td>None</td>\n",
              "    </tr>\n",
              "    <tr>\n",
              "      <th>64</th>\n",
              "      <td>879674319642796034</td>\n",
              "      <td>8.795538e+17</td>\n",
              "      <td>3.105441e+09</td>\n",
              "      <td>2017-06-27 12:14:36 +0000</td>\n",
              "      <td>&lt;a href=\"http://twitter.com/download/iphone\" r...</td>\n",
              "      <td>@RealKentMurphy 14/10 confirmed</td>\n",
              "      <td>NaN</td>\n",
              "      <td>NaN</td>\n",
              "      <td>NaN</td>\n",
              "      <td>NaN</td>\n",
              "      <td>14</td>\n",
              "      <td>10</td>\n",
              "      <td>None</td>\n",
              "      <td>None</td>\n",
              "      <td>None</td>\n",
              "      <td>None</td>\n",
              "      <td>None</td>\n",
              "    </tr>\n",
              "    <tr>\n",
              "      <th>113</th>\n",
              "      <td>870726314365509632</td>\n",
              "      <td>8.707262e+17</td>\n",
              "      <td>1.648776e+07</td>\n",
              "      <td>2017-06-02 19:38:25 +0000</td>\n",
              "      <td>&lt;a href=\"http://twitter.com/download/iphone\" r...</td>\n",
              "      <td>@ComplicitOwl @ShopWeRateDogs &amp;gt;10/10 is res...</td>\n",
              "      <td>NaN</td>\n",
              "      <td>NaN</td>\n",
              "      <td>NaN</td>\n",
              "      <td>NaN</td>\n",
              "      <td>10</td>\n",
              "      <td>10</td>\n",
              "      <td>None</td>\n",
              "      <td>None</td>\n",
              "      <td>None</td>\n",
              "      <td>None</td>\n",
              "      <td>None</td>\n",
              "    </tr>\n",
              "    <tr>\n",
              "      <th>148</th>\n",
              "      <td>863427515083354112</td>\n",
              "      <td>8.634256e+17</td>\n",
              "      <td>7.759620e+07</td>\n",
              "      <td>2017-05-13 16:15:35 +0000</td>\n",
              "      <td>&lt;a href=\"http://twitter.com/download/iphone\" r...</td>\n",
              "      <td>@Jack_Septic_Eye I'd need a few more pics to p...</td>\n",
              "      <td>NaN</td>\n",
              "      <td>NaN</td>\n",
              "      <td>NaN</td>\n",
              "      <td>NaN</td>\n",
              "      <td>12</td>\n",
              "      <td>10</td>\n",
              "      <td>None</td>\n",
              "      <td>None</td>\n",
              "      <td>None</td>\n",
              "      <td>None</td>\n",
              "      <td>None</td>\n",
              "    </tr>\n",
              "    <tr>\n",
              "      <th>179</th>\n",
              "      <td>857214891891077121</td>\n",
              "      <td>8.571567e+17</td>\n",
              "      <td>1.806710e+08</td>\n",
              "      <td>2017-04-26 12:48:51 +0000</td>\n",
              "      <td>&lt;a href=\"http://twitter.com/download/iphone\" r...</td>\n",
              "      <td>@Marc_IRL pixelated af 12/10</td>\n",
              "      <td>NaN</td>\n",
              "      <td>NaN</td>\n",
              "      <td>NaN</td>\n",
              "      <td>NaN</td>\n",
              "      <td>12</td>\n",
              "      <td>10</td>\n",
              "      <td>None</td>\n",
              "      <td>None</td>\n",
              "      <td>None</td>\n",
              "      <td>None</td>\n",
              "      <td>None</td>\n",
              "    </tr>\n",
              "    <tr>\n",
              "      <th>185</th>\n",
              "      <td>856330835276025856</td>\n",
              "      <td>NaN</td>\n",
              "      <td>NaN</td>\n",
              "      <td>2017-04-24 02:15:55 +0000</td>\n",
              "      <td>&lt;a href=\"http://twitter.com/download/iphone\" r...</td>\n",
              "      <td>RT @Jenna_Marbles: @dog_rates Thanks for ratin...</td>\n",
              "      <td>8.563302e+17</td>\n",
              "      <td>66699013.0</td>\n",
              "      <td>2017-04-24 02:13:14 +0000</td>\n",
              "      <td>NaN</td>\n",
              "      <td>14</td>\n",
              "      <td>10</td>\n",
              "      <td>None</td>\n",
              "      <td>None</td>\n",
              "      <td>None</td>\n",
              "      <td>None</td>\n",
              "      <td>None</td>\n",
              "    </tr>\n",
              "    <tr>\n",
              "      <th>186</th>\n",
              "      <td>856288084350160898</td>\n",
              "      <td>8.562860e+17</td>\n",
              "      <td>2.792810e+08</td>\n",
              "      <td>2017-04-23 23:26:03 +0000</td>\n",
              "      <td>&lt;a href=\"http://twitter.com/download/iphone\" r...</td>\n",
              "      <td>@xianmcguire @Jenna_Marbles Kardashians wouldn...</td>\n",
              "      <td>NaN</td>\n",
              "      <td>NaN</td>\n",
              "      <td>NaN</td>\n",
              "      <td>NaN</td>\n",
              "      <td>14</td>\n",
              "      <td>10</td>\n",
              "      <td>None</td>\n",
              "      <td>None</td>\n",
              "      <td>None</td>\n",
              "      <td>None</td>\n",
              "      <td>None</td>\n",
              "    </tr>\n",
              "    <tr>\n",
              "      <th>188</th>\n",
              "      <td>855862651834028034</td>\n",
              "      <td>8.558616e+17</td>\n",
              "      <td>1.943518e+08</td>\n",
              "      <td>2017-04-22 19:15:32 +0000</td>\n",
              "      <td>&lt;a href=\"http://twitter.com/download/iphone\" r...</td>\n",
              "      <td>@dhmontgomery We also gave snoop dogg a 420/10...</td>\n",
              "      <td>NaN</td>\n",
              "      <td>NaN</td>\n",
              "      <td>NaN</td>\n",
              "      <td>NaN</td>\n",
              "      <td>420</td>\n",
              "      <td>10</td>\n",
              "      <td>None</td>\n",
              "      <td>None</td>\n",
              "      <td>None</td>\n",
              "      <td>None</td>\n",
              "      <td>None</td>\n",
              "    </tr>\n",
              "    <tr>\n",
              "      <th>189</th>\n",
              "      <td>855860136149123072</td>\n",
              "      <td>8.558585e+17</td>\n",
              "      <td>1.361572e+07</td>\n",
              "      <td>2017-04-22 19:05:32 +0000</td>\n",
              "      <td>&lt;a href=\"http://twitter.com/download/iphone\" r...</td>\n",
              "      <td>@s8n You tried very hard to portray this good ...</td>\n",
              "      <td>NaN</td>\n",
              "      <td>NaN</td>\n",
              "      <td>NaN</td>\n",
              "      <td>NaN</td>\n",
              "      <td>666</td>\n",
              "      <td>10</td>\n",
              "      <td>None</td>\n",
              "      <td>None</td>\n",
              "      <td>None</td>\n",
              "      <td>None</td>\n",
              "      <td>None</td>\n",
              "    </tr>\n",
              "    <tr>\n",
              "      <th>218</th>\n",
              "      <td>850333567704068097</td>\n",
              "      <td>8.503288e+17</td>\n",
              "      <td>2.195506e+07</td>\n",
              "      <td>2017-04-07 13:04:55 +0000</td>\n",
              "      <td>&lt;a href=\"http://twitter.com/download/iphone\" r...</td>\n",
              "      <td>@markhoppus MARK THAT DOG HAS SEEN AND EXPERIE...</td>\n",
              "      <td>NaN</td>\n",
              "      <td>NaN</td>\n",
              "      <td>NaN</td>\n",
              "      <td>NaN</td>\n",
              "      <td>13</td>\n",
              "      <td>10</td>\n",
              "      <td>None</td>\n",
              "      <td>None</td>\n",
              "      <td>None</td>\n",
              "      <td>None</td>\n",
              "      <td>None</td>\n",
              "    </tr>\n",
              "    <tr>\n",
              "      <th>228</th>\n",
              "      <td>848213670039564288</td>\n",
              "      <td>8.482121e+17</td>\n",
              "      <td>4.196984e+09</td>\n",
              "      <td>2017-04-01 16:41:12 +0000</td>\n",
              "      <td>&lt;a href=\"http://twitter.com/download/iphone\" r...</td>\n",
              "      <td>Jerry just apuppologized to me. He said there ...</td>\n",
              "      <td>NaN</td>\n",
              "      <td>NaN</td>\n",
              "      <td>NaN</td>\n",
              "      <td>NaN</td>\n",
              "      <td>11</td>\n",
              "      <td>10</td>\n",
              "      <td>None</td>\n",
              "      <td>None</td>\n",
              "      <td>None</td>\n",
              "      <td>None</td>\n",
              "      <td>None</td>\n",
              "    </tr>\n",
              "    <tr>\n",
              "      <th>234</th>\n",
              "      <td>847617282490613760</td>\n",
              "      <td>8.476062e+17</td>\n",
              "      <td>4.196984e+09</td>\n",
              "      <td>2017-03-31 01:11:22 +0000</td>\n",
              "      <td>&lt;a href=\"http://twitter.com/download/iphone\" r...</td>\n",
              "      <td>.@breaannanicolee PUPDATE: Cannon has a heart ...</td>\n",
              "      <td>NaN</td>\n",
              "      <td>NaN</td>\n",
              "      <td>NaN</td>\n",
              "      <td>NaN</td>\n",
              "      <td>13</td>\n",
              "      <td>10</td>\n",
              "      <td>None</td>\n",
              "      <td>None</td>\n",
              "      <td>None</td>\n",
              "      <td>None</td>\n",
              "      <td>None</td>\n",
              "    </tr>\n",
              "    <tr>\n",
              "      <th>274</th>\n",
              "      <td>840698636975636481</td>\n",
              "      <td>8.406983e+17</td>\n",
              "      <td>8.405479e+17</td>\n",
              "      <td>2017-03-11 22:59:09 +0000</td>\n",
              "      <td>&lt;a href=\"http://twitter.com/download/iphone\" r...</td>\n",
              "      <td>@0_kelvin_0 &amp;gt;10/10 is reserved for puppos s...</td>\n",
              "      <td>NaN</td>\n",
              "      <td>NaN</td>\n",
              "      <td>NaN</td>\n",
              "      <td>NaN</td>\n",
              "      <td>10</td>\n",
              "      <td>10</td>\n",
              "      <td>None</td>\n",
              "      <td>None</td>\n",
              "      <td>None</td>\n",
              "      <td>None</td>\n",
              "      <td>None</td>\n",
              "    </tr>\n",
              "    <tr>\n",
              "      <th>290</th>\n",
              "      <td>838150277551247360</td>\n",
              "      <td>8.381455e+17</td>\n",
              "      <td>2.195506e+07</td>\n",
              "      <td>2017-03-04 22:12:52 +0000</td>\n",
              "      <td>&lt;a href=\"http://twitter.com/download/iphone\" r...</td>\n",
              "      <td>@markhoppus 182/10</td>\n",
              "      <td>NaN</td>\n",
              "      <td>NaN</td>\n",
              "      <td>NaN</td>\n",
              "      <td>NaN</td>\n",
              "      <td>182</td>\n",
              "      <td>10</td>\n",
              "      <td>None</td>\n",
              "      <td>None</td>\n",
              "      <td>None</td>\n",
              "      <td>None</td>\n",
              "      <td>None</td>\n",
              "    </tr>\n",
              "    <tr>\n",
              "      <th>291</th>\n",
              "      <td>838085839343206401</td>\n",
              "      <td>8.380855e+17</td>\n",
              "      <td>2.894131e+09</td>\n",
              "      <td>2017-03-04 17:56:49 +0000</td>\n",
              "      <td>&lt;a href=\"http://twitter.com/download/iphone\" r...</td>\n",
              "      <td>@bragg6of8 @Andy_Pace_ we are still looking fo...</td>\n",
              "      <td>NaN</td>\n",
              "      <td>NaN</td>\n",
              "      <td>NaN</td>\n",
              "      <td>NaN</td>\n",
              "      <td>15</td>\n",
              "      <td>10</td>\n",
              "      <td>None</td>\n",
              "      <td>None</td>\n",
              "      <td>None</td>\n",
              "      <td>None</td>\n",
              "      <td>None</td>\n",
              "    </tr>\n",
              "    <tr>\n",
              "      <th>313</th>\n",
              "      <td>835246439529840640</td>\n",
              "      <td>8.352460e+17</td>\n",
              "      <td>2.625958e+07</td>\n",
              "      <td>2017-02-24 21:54:03 +0000</td>\n",
              "      <td>&lt;a href=\"http://twitter.com/download/iphone\" r...</td>\n",
              "      <td>@jonnysun @Lin_Manuel ok jomny I know you're e...</td>\n",
              "      <td>NaN</td>\n",
              "      <td>NaN</td>\n",
              "      <td>NaN</td>\n",
              "      <td>NaN</td>\n",
              "      <td>960</td>\n",
              "      <td>0</td>\n",
              "      <td>None</td>\n",
              "      <td>None</td>\n",
              "      <td>None</td>\n",
              "      <td>None</td>\n",
              "      <td>None</td>\n",
              "    </tr>\n",
              "    <tr>\n",
              "      <th>342</th>\n",
              "      <td>832088576586297345</td>\n",
              "      <td>8.320875e+17</td>\n",
              "      <td>3.058208e+07</td>\n",
              "      <td>2017-02-16 04:45:50 +0000</td>\n",
              "      <td>&lt;a href=\"http://twitter.com/download/iphone\" r...</td>\n",
              "      <td>@docmisterio account started on 11/15/15</td>\n",
              "      <td>NaN</td>\n",
              "      <td>NaN</td>\n",
              "      <td>NaN</td>\n",
              "      <td>NaN</td>\n",
              "      <td>11</td>\n",
              "      <td>15</td>\n",
              "      <td>None</td>\n",
              "      <td>None</td>\n",
              "      <td>None</td>\n",
              "      <td>None</td>\n",
              "      <td>None</td>\n",
              "    </tr>\n",
              "    <tr>\n",
              "      <th>346</th>\n",
              "      <td>831926988323639298</td>\n",
              "      <td>8.319030e+17</td>\n",
              "      <td>2.068372e+07</td>\n",
              "      <td>2017-02-15 18:03:45 +0000</td>\n",
              "      <td>&lt;a href=\"http://twitter.com/download/iphone\" r...</td>\n",
              "      <td>@UNC can confirm 12/10</td>\n",
              "      <td>NaN</td>\n",
              "      <td>NaN</td>\n",
              "      <td>NaN</td>\n",
              "      <td>NaN</td>\n",
              "      <td>12</td>\n",
              "      <td>10</td>\n",
              "      <td>None</td>\n",
              "      <td>None</td>\n",
              "      <td>None</td>\n",
              "      <td>None</td>\n",
              "      <td>None</td>\n",
              "    </tr>\n",
              "    <tr>\n",
              "      <th>375</th>\n",
              "      <td>828361771580813312</td>\n",
              "      <td>NaN</td>\n",
              "      <td>NaN</td>\n",
              "      <td>2017-02-05 21:56:51 +0000</td>\n",
              "      <td>&lt;a href=\"http://twitter.com\" rel=\"nofollow\"&gt;Tw...</td>\n",
              "      <td>Beebop and Doobert should start a band 12/10 w...</td>\n",
              "      <td>NaN</td>\n",
              "      <td>NaN</td>\n",
              "      <td>NaN</td>\n",
              "      <td>NaN</td>\n",
              "      <td>12</td>\n",
              "      <td>10</td>\n",
              "      <td>None</td>\n",
              "      <td>None</td>\n",
              "      <td>None</td>\n",
              "      <td>None</td>\n",
              "      <td>None</td>\n",
              "    </tr>\n",
              "    <tr>\n",
              "      <th>387</th>\n",
              "      <td>826598799820865537</td>\n",
              "      <td>8.265984e+17</td>\n",
              "      <td>4.196984e+09</td>\n",
              "      <td>2017-02-01 01:11:25 +0000</td>\n",
              "      <td>&lt;a href=\"http://twitter.com/download/iphone\" r...</td>\n",
              "      <td>I was going to do 007/10, but the joke wasn't ...</td>\n",
              "      <td>NaN</td>\n",
              "      <td>NaN</td>\n",
              "      <td>NaN</td>\n",
              "      <td>NaN</td>\n",
              "      <td>7</td>\n",
              "      <td>10</td>\n",
              "      <td>None</td>\n",
              "      <td>None</td>\n",
              "      <td>None</td>\n",
              "      <td>None</td>\n",
              "      <td>None</td>\n",
              "    </tr>\n",
              "    <tr>\n",
              "      <th>409</th>\n",
              "      <td>823333489516937216</td>\n",
              "      <td>8.233264e+17</td>\n",
              "      <td>1.582854e+09</td>\n",
              "      <td>2017-01-23 00:56:15 +0000</td>\n",
              "      <td>&lt;a href=\"http://twitter.com/download/iphone\" r...</td>\n",
              "      <td>@HistoryInPics 13/10</td>\n",
              "      <td>NaN</td>\n",
              "      <td>NaN</td>\n",
              "      <td>NaN</td>\n",
              "      <td>NaN</td>\n",
              "      <td>13</td>\n",
              "      <td>10</td>\n",
              "      <td>None</td>\n",
              "      <td>None</td>\n",
              "      <td>None</td>\n",
              "      <td>None</td>\n",
              "      <td>None</td>\n",
              "    </tr>\n",
              "    <tr>\n",
              "      <th>427</th>\n",
              "      <td>821153421864615936</td>\n",
              "      <td>8.211526e+17</td>\n",
              "      <td>1.132119e+08</td>\n",
              "      <td>2017-01-17 00:33:26 +0000</td>\n",
              "      <td>&lt;a href=\"http://twitter.com/download/iphone\" r...</td>\n",
              "      <td>@imgur for a polar bear tho I'd say 13/10 is a...</td>\n",
              "      <td>NaN</td>\n",
              "      <td>NaN</td>\n",
              "      <td>NaN</td>\n",
              "      <td>NaN</td>\n",
              "      <td>13</td>\n",
              "      <td>10</td>\n",
              "      <td>None</td>\n",
              "      <td>None</td>\n",
              "      <td>None</td>\n",
              "      <td>None</td>\n",
              "      <td>None</td>\n",
              "    </tr>\n",
              "    <tr>\n",
              "      <th>498</th>\n",
              "      <td>813130366689148928</td>\n",
              "      <td>8.131273e+17</td>\n",
              "      <td>4.196984e+09</td>\n",
              "      <td>2016-12-25 21:12:41 +0000</td>\n",
              "      <td>&lt;a href=\"http://twitter.com/download/iphone\" r...</td>\n",
              "      <td>I've been informed by multiple sources that th...</td>\n",
              "      <td>NaN</td>\n",
              "      <td>NaN</td>\n",
              "      <td>NaN</td>\n",
              "      <td>NaN</td>\n",
              "      <td>12</td>\n",
              "      <td>10</td>\n",
              "      <td>None</td>\n",
              "      <td>None</td>\n",
              "      <td>None</td>\n",
              "      <td>None</td>\n",
              "      <td>None</td>\n",
              "    </tr>\n",
              "    <tr>\n",
              "      <th>513</th>\n",
              "      <td>811647686436880384</td>\n",
              "      <td>8.116272e+17</td>\n",
              "      <td>4.196984e+09</td>\n",
              "      <td>2016-12-21 19:01:02 +0000</td>\n",
              "      <td>&lt;a href=\"http://twitter.com/download/iphone\" r...</td>\n",
              "      <td>PUPDATE: I've been informed that Augie was act...</td>\n",
              "      <td>NaN</td>\n",
              "      <td>NaN</td>\n",
              "      <td>NaN</td>\n",
              "      <td>NaN</td>\n",
              "      <td>11</td>\n",
              "      <td>10</td>\n",
              "      <td>None</td>\n",
              "      <td>None</td>\n",
              "      <td>None</td>\n",
              "      <td>None</td>\n",
              "      <td>None</td>\n",
              "    </tr>\n",
              "    <tr>\n",
              "      <th>570</th>\n",
              "      <td>801854953262350336</td>\n",
              "      <td>8.018543e+17</td>\n",
              "      <td>1.185634e+07</td>\n",
              "      <td>2016-11-24 18:28:13 +0000</td>\n",
              "      <td>&lt;a href=\"http://twitter.com/download/iphone\" r...</td>\n",
              "      <td>.@NBCSports OMG THE TINY HAT I'M GOING TO HAVE...</td>\n",
              "      <td>NaN</td>\n",
              "      <td>NaN</td>\n",
              "      <td>NaN</td>\n",
              "      <td>NaN</td>\n",
              "      <td>11</td>\n",
              "      <td>10</td>\n",
              "      <td>None</td>\n",
              "      <td>None</td>\n",
              "      <td>None</td>\n",
              "      <td>None</td>\n",
              "      <td>None</td>\n",
              "    </tr>\n",
              "    <tr>\n",
              "      <th>576</th>\n",
              "      <td>800859414831898624</td>\n",
              "      <td>8.008580e+17</td>\n",
              "      <td>2.918590e+08</td>\n",
              "      <td>2016-11-22 00:32:18 +0000</td>\n",
              "      <td>&lt;a href=\"http://twitter.com/download/iphone\" r...</td>\n",
              "      <td>@SkyWilliams doggo simply protecting you from ...</td>\n",
              "      <td>NaN</td>\n",
              "      <td>NaN</td>\n",
              "      <td>NaN</td>\n",
              "      <td>NaN</td>\n",
              "      <td>11</td>\n",
              "      <td>10</td>\n",
              "      <td>None</td>\n",
              "      <td>doggo</td>\n",
              "      <td>None</td>\n",
              "      <td>None</td>\n",
              "      <td>None</td>\n",
              "    </tr>\n",
              "    <tr>\n",
              "      <th>611</th>\n",
              "      <td>797165961484890113</td>\n",
              "      <td>7.971238e+17</td>\n",
              "      <td>2.916630e+07</td>\n",
              "      <td>2016-11-11 19:55:50 +0000</td>\n",
              "      <td>&lt;a href=\"http://twitter.com/download/iphone\" r...</td>\n",
              "      <td>@JODYHiGHROLLER it may be an 11/10 but what do...</td>\n",
              "      <td>NaN</td>\n",
              "      <td>NaN</td>\n",
              "      <td>NaN</td>\n",
              "      <td>NaN</td>\n",
              "      <td>11</td>\n",
              "      <td>10</td>\n",
              "      <td>None</td>\n",
              "      <td>None</td>\n",
              "      <td>None</td>\n",
              "      <td>None</td>\n",
              "      <td>None</td>\n",
              "    </tr>\n",
              "    <tr>\n",
              "      <th>701</th>\n",
              "      <td>786051337297522688</td>\n",
              "      <td>7.727430e+17</td>\n",
              "      <td>7.305050e+17</td>\n",
              "      <td>2016-10-12 03:50:17 +0000</td>\n",
              "      <td>&lt;a href=\"http://twitter.com/download/iphone\" r...</td>\n",
              "      <td>13/10 for breakdancing puppo @shibbnbot</td>\n",
              "      <td>NaN</td>\n",
              "      <td>NaN</td>\n",
              "      <td>NaN</td>\n",
              "      <td>NaN</td>\n",
              "      <td>13</td>\n",
              "      <td>10</td>\n",
              "      <td>None</td>\n",
              "      <td>None</td>\n",
              "      <td>None</td>\n",
              "      <td>None</td>\n",
              "      <td>puppo</td>\n",
              "    </tr>\n",
              "    <tr>\n",
              "      <th>707</th>\n",
              "      <td>785515384317313025</td>\n",
              "      <td>NaN</td>\n",
              "      <td>NaN</td>\n",
              "      <td>2016-10-10 16:20:36 +0000</td>\n",
              "      <td>&lt;a href=\"http://twitter.com/download/iphone\" r...</td>\n",
              "      <td>Today, 10/10, should be National Dog Rates Day</td>\n",
              "      <td>NaN</td>\n",
              "      <td>NaN</td>\n",
              "      <td>NaN</td>\n",
              "      <td>NaN</td>\n",
              "      <td>10</td>\n",
              "      <td>10</td>\n",
              "      <td>None</td>\n",
              "      <td>None</td>\n",
              "      <td>None</td>\n",
              "      <td>None</td>\n",
              "      <td>None</td>\n",
              "    </tr>\n",
              "    <tr>\n",
              "      <th>843</th>\n",
              "      <td>766714921925144576</td>\n",
              "      <td>7.667118e+17</td>\n",
              "      <td>4.196984e+09</td>\n",
              "      <td>2016-08-19 19:14:16 +0000</td>\n",
              "      <td>&lt;a href=\"http://twitter.com/download/iphone\" r...</td>\n",
              "      <td>His name is Charley and he already has a new s...</td>\n",
              "      <td>NaN</td>\n",
              "      <td>NaN</td>\n",
              "      <td>NaN</td>\n",
              "      <td>NaN</td>\n",
              "      <td>13</td>\n",
              "      <td>10</td>\n",
              "      <td>None</td>\n",
              "      <td>None</td>\n",
              "      <td>None</td>\n",
              "      <td>None</td>\n",
              "      <td>None</td>\n",
              "    </tr>\n",
              "    <tr>\n",
              "      <th>857</th>\n",
              "      <td>763956972077010945</td>\n",
              "      <td>7.638652e+17</td>\n",
              "      <td>1.584641e+07</td>\n",
              "      <td>2016-08-12 04:35:10 +0000</td>\n",
              "      <td>&lt;a href=\"http://twitter.com/download/iphone\" r...</td>\n",
              "      <td>@TheEllenShow I'm not sure if you know this bu...</td>\n",
              "      <td>NaN</td>\n",
              "      <td>NaN</td>\n",
              "      <td>NaN</td>\n",
              "      <td>NaN</td>\n",
              "      <td>12</td>\n",
              "      <td>10</td>\n",
              "      <td>None</td>\n",
              "      <td>doggo</td>\n",
              "      <td>None</td>\n",
              "      <td>None</td>\n",
              "      <td>None</td>\n",
              "    </tr>\n",
              "    <tr>\n",
              "      <th>967</th>\n",
              "      <td>750381685133418496</td>\n",
              "      <td>7.501805e+17</td>\n",
              "      <td>4.717297e+09</td>\n",
              "      <td>2016-07-05 17:31:49 +0000</td>\n",
              "      <td>&lt;a href=\"http://twitter.com/download/iphone\" r...</td>\n",
              "      <td>13/10 such a good doggo\\n@spaghemily</td>\n",
              "      <td>NaN</td>\n",
              "      <td>NaN</td>\n",
              "      <td>NaN</td>\n",
              "      <td>NaN</td>\n",
              "      <td>13</td>\n",
              "      <td>10</td>\n",
              "      <td>None</td>\n",
              "      <td>doggo</td>\n",
              "      <td>None</td>\n",
              "      <td>None</td>\n",
              "      <td>None</td>\n",
              "    </tr>\n",
              "    <tr>\n",
              "      <th>1005</th>\n",
              "      <td>747651430853525504</td>\n",
              "      <td>7.476487e+17</td>\n",
              "      <td>4.196984e+09</td>\n",
              "      <td>2016-06-28 04:42:46 +0000</td>\n",
              "      <td>&lt;a href=\"http://twitter.com/download/iphone\" r...</td>\n",
              "      <td>Other pupper asked not to have his identity sh...</td>\n",
              "      <td>NaN</td>\n",
              "      <td>NaN</td>\n",
              "      <td>NaN</td>\n",
              "      <td>NaN</td>\n",
              "      <td>12</td>\n",
              "      <td>10</td>\n",
              "      <td>None</td>\n",
              "      <td>None</td>\n",
              "      <td>None</td>\n",
              "      <td>pupper</td>\n",
              "      <td>None</td>\n",
              "    </tr>\n",
              "    <tr>\n",
              "      <th>1080</th>\n",
              "      <td>738891149612572673</td>\n",
              "      <td>7.384119e+17</td>\n",
              "      <td>3.589728e+08</td>\n",
              "      <td>2016-06-04 00:32:32 +0000</td>\n",
              "      <td>&lt;a href=\"http://twitter.com/download/iphone\" r...</td>\n",
              "      <td>@mount_alex3 13/10</td>\n",
              "      <td>NaN</td>\n",
              "      <td>NaN</td>\n",
              "      <td>NaN</td>\n",
              "      <td>NaN</td>\n",
              "      <td>13</td>\n",
              "      <td>10</td>\n",
              "      <td>None</td>\n",
              "      <td>None</td>\n",
              "      <td>None</td>\n",
              "      <td>None</td>\n",
              "      <td>None</td>\n",
              "    </tr>\n",
              "    <tr>\n",
              "      <th>1295</th>\n",
              "      <td>707983188426153984</td>\n",
              "      <td>7.079801e+17</td>\n",
              "      <td>2.319108e+09</td>\n",
              "      <td>2016-03-10 17:35:20 +0000</td>\n",
              "      <td>&lt;a href=\"http://twitter.com/download/iphone\" r...</td>\n",
              "      <td>@serial @MrRoles OH MY GOD I listened to all o...</td>\n",
              "      <td>NaN</td>\n",
              "      <td>NaN</td>\n",
              "      <td>NaN</td>\n",
              "      <td>NaN</td>\n",
              "      <td>12</td>\n",
              "      <td>10</td>\n",
              "      <td>None</td>\n",
              "      <td>None</td>\n",
              "      <td>None</td>\n",
              "      <td>None</td>\n",
              "      <td>None</td>\n",
              "    </tr>\n",
              "    <tr>\n",
              "      <th>1345</th>\n",
              "      <td>704491224099647488</td>\n",
              "      <td>7.044857e+17</td>\n",
              "      <td>2.878549e+07</td>\n",
              "      <td>2016-03-01 02:19:31 +0000</td>\n",
              "      <td>&lt;a href=\"http://twitter.com/download/iphone\" r...</td>\n",
              "      <td>13/10 hero af\\n@ABC</td>\n",
              "      <td>NaN</td>\n",
              "      <td>NaN</td>\n",
              "      <td>NaN</td>\n",
              "      <td>NaN</td>\n",
              "      <td>13</td>\n",
              "      <td>10</td>\n",
              "      <td>None</td>\n",
              "      <td>None</td>\n",
              "      <td>None</td>\n",
              "      <td>None</td>\n",
              "      <td>None</td>\n",
              "    </tr>\n",
              "    <tr>\n",
              "      <th>1445</th>\n",
              "      <td>696518437233913856</td>\n",
              "      <td>NaN</td>\n",
              "      <td>NaN</td>\n",
              "      <td>2016-02-08 02:18:30 +0000</td>\n",
              "      <td>&lt;a href=\"http://twitter.com/download/iphone\" r...</td>\n",
              "      <td>Oh my god 10/10 for every little hot dog pupper</td>\n",
              "      <td>NaN</td>\n",
              "      <td>NaN</td>\n",
              "      <td>NaN</td>\n",
              "      <td>NaN</td>\n",
              "      <td>10</td>\n",
              "      <td>10</td>\n",
              "      <td>None</td>\n",
              "      <td>None</td>\n",
              "      <td>None</td>\n",
              "      <td>pupper</td>\n",
              "      <td>None</td>\n",
              "    </tr>\n",
              "    <tr>\n",
              "      <th>1446</th>\n",
              "      <td>696490539101908992</td>\n",
              "      <td>6.964887e+17</td>\n",
              "      <td>4.196984e+09</td>\n",
              "      <td>2016-02-08 00:27:39 +0000</td>\n",
              "      <td>&lt;a href=\"http://twitter.com/download/iphone\" r...</td>\n",
              "      <td>After reading the comments I may have overesti...</td>\n",
              "      <td>NaN</td>\n",
              "      <td>NaN</td>\n",
              "      <td>NaN</td>\n",
              "      <td>NaN</td>\n",
              "      <td>1</td>\n",
              "      <td>10</td>\n",
              "      <td>None</td>\n",
              "      <td>None</td>\n",
              "      <td>None</td>\n",
              "      <td>None</td>\n",
              "      <td>None</td>\n",
              "    </tr>\n",
              "    <tr>\n",
              "      <th>1474</th>\n",
              "      <td>693644216740769793</td>\n",
              "      <td>6.936422e+17</td>\n",
              "      <td>4.196984e+09</td>\n",
              "      <td>2016-01-31 03:57:23 +0000</td>\n",
              "      <td>&lt;a href=\"http://twitter.com/download/iphone\" r...</td>\n",
              "      <td>BREAKING PUPDATE: I've just been notified that...</td>\n",
              "      <td>NaN</td>\n",
              "      <td>NaN</td>\n",
              "      <td>NaN</td>\n",
              "      <td>NaN</td>\n",
              "      <td>10</td>\n",
              "      <td>10</td>\n",
              "      <td>None</td>\n",
              "      <td>None</td>\n",
              "      <td>None</td>\n",
              "      <td>None</td>\n",
              "      <td>None</td>\n",
              "    </tr>\n",
              "    <tr>\n",
              "      <th>1479</th>\n",
              "      <td>693582294167244802</td>\n",
              "      <td>6.935722e+17</td>\n",
              "      <td>1.198989e+09</td>\n",
              "      <td>2016-01-30 23:51:19 +0000</td>\n",
              "      <td>&lt;a href=\"http://twitter.com/download/iphone\" r...</td>\n",
              "      <td>Personally I'd give him an 11/10. Not sure why...</td>\n",
              "      <td>NaN</td>\n",
              "      <td>NaN</td>\n",
              "      <td>NaN</td>\n",
              "      <td>NaN</td>\n",
              "      <td>11</td>\n",
              "      <td>10</td>\n",
              "      <td>None</td>\n",
              "      <td>None</td>\n",
              "      <td>None</td>\n",
              "      <td>None</td>\n",
              "      <td>None</td>\n",
              "    </tr>\n",
              "    <tr>\n",
              "      <th>1497</th>\n",
              "      <td>692423280028966913</td>\n",
              "      <td>6.924173e+17</td>\n",
              "      <td>4.196984e+09</td>\n",
              "      <td>2016-01-27 19:05:49 +0000</td>\n",
              "      <td>&lt;a href=\"http://twitter.com/download/iphone\" r...</td>\n",
              "      <td>PUPDATE: just noticed this dog has some extra ...</td>\n",
              "      <td>NaN</td>\n",
              "      <td>NaN</td>\n",
              "      <td>NaN</td>\n",
              "      <td>NaN</td>\n",
              "      <td>9</td>\n",
              "      <td>10</td>\n",
              "      <td>None</td>\n",
              "      <td>None</td>\n",
              "      <td>None</td>\n",
              "      <td>None</td>\n",
              "      <td>None</td>\n",
              "    </tr>\n",
              "    <tr>\n",
              "      <th>1523</th>\n",
              "      <td>690607260360429569</td>\n",
              "      <td>6.903413e+17</td>\n",
              "      <td>4.670367e+08</td>\n",
              "      <td>2016-01-22 18:49:36 +0000</td>\n",
              "      <td>&lt;a href=\"http://twitter.com/download/iphone\" r...</td>\n",
              "      <td>12/10 @LightningHoltt</td>\n",
              "      <td>NaN</td>\n",
              "      <td>NaN</td>\n",
              "      <td>NaN</td>\n",
              "      <td>NaN</td>\n",
              "      <td>12</td>\n",
              "      <td>10</td>\n",
              "      <td>None</td>\n",
              "      <td>None</td>\n",
              "      <td>None</td>\n",
              "      <td>None</td>\n",
              "      <td>None</td>\n",
              "    </tr>\n",
              "    <tr>\n",
              "      <th>1598</th>\n",
              "      <td>686035780142297088</td>\n",
              "      <td>6.860340e+17</td>\n",
              "      <td>4.196984e+09</td>\n",
              "      <td>2016-01-10 04:04:10 +0000</td>\n",
              "      <td>&lt;a href=\"http://twitter.com/download/iphone\" r...</td>\n",
              "      <td>Yes I do realize a rating of 4/20 would've bee...</td>\n",
              "      <td>NaN</td>\n",
              "      <td>NaN</td>\n",
              "      <td>NaN</td>\n",
              "      <td>NaN</td>\n",
              "      <td>4</td>\n",
              "      <td>20</td>\n",
              "      <td>None</td>\n",
              "      <td>None</td>\n",
              "      <td>None</td>\n",
              "      <td>None</td>\n",
              "      <td>None</td>\n",
              "    </tr>\n",
              "    <tr>\n",
              "      <th>1605</th>\n",
              "      <td>685681090388975616</td>\n",
              "      <td>6.855479e+17</td>\n",
              "      <td>4.196984e+09</td>\n",
              "      <td>2016-01-09 04:34:45 +0000</td>\n",
              "      <td>&lt;a href=\"http://twitter.com/download/iphone\" r...</td>\n",
              "      <td>Jack deserves another round of applause. If yo...</td>\n",
              "      <td>NaN</td>\n",
              "      <td>NaN</td>\n",
              "      <td>NaN</td>\n",
              "      <td>NaN</td>\n",
              "      <td>14</td>\n",
              "      <td>10</td>\n",
              "      <td>None</td>\n",
              "      <td>None</td>\n",
              "      <td>None</td>\n",
              "      <td>None</td>\n",
              "      <td>None</td>\n",
              "    </tr>\n",
              "    <tr>\n",
              "      <th>1618</th>\n",
              "      <td>684969860808454144</td>\n",
              "      <td>6.849598e+17</td>\n",
              "      <td>4.196984e+09</td>\n",
              "      <td>2016-01-07 05:28:35 +0000</td>\n",
              "      <td>&lt;a href=\"http://twitter.com/download/iphone\" r...</td>\n",
              "      <td>For those who claim this is a goat, u are wron...</td>\n",
              "      <td>NaN</td>\n",
              "      <td>NaN</td>\n",
              "      <td>NaN</td>\n",
              "      <td>NaN</td>\n",
              "      <td>5</td>\n",
              "      <td>10</td>\n",
              "      <td>None</td>\n",
              "      <td>None</td>\n",
              "      <td>None</td>\n",
              "      <td>None</td>\n",
              "      <td>None</td>\n",
              "    </tr>\n",
              "    <tr>\n",
              "      <th>1663</th>\n",
              "      <td>682808988178739200</td>\n",
              "      <td>6.827884e+17</td>\n",
              "      <td>4.196984e+09</td>\n",
              "      <td>2016-01-01 06:22:03 +0000</td>\n",
              "      <td>&lt;a href=\"http://twitter.com/download/iphone\" r...</td>\n",
              "      <td>I'm aware that I could've said 20/16, but here...</td>\n",
              "      <td>NaN</td>\n",
              "      <td>NaN</td>\n",
              "      <td>NaN</td>\n",
              "      <td>NaN</td>\n",
              "      <td>20</td>\n",
              "      <td>16</td>\n",
              "      <td>None</td>\n",
              "      <td>None</td>\n",
              "      <td>None</td>\n",
              "      <td>None</td>\n",
              "      <td>None</td>\n",
              "    </tr>\n",
              "    <tr>\n",
              "      <th>1689</th>\n",
              "      <td>681340665377193984</td>\n",
              "      <td>6.813394e+17</td>\n",
              "      <td>4.196984e+09</td>\n",
              "      <td>2015-12-28 05:07:27 +0000</td>\n",
              "      <td>&lt;a href=\"http://twitter.com/download/iphone\" r...</td>\n",
              "      <td>I've been told there's a slight possibility he...</td>\n",
              "      <td>NaN</td>\n",
              "      <td>NaN</td>\n",
              "      <td>NaN</td>\n",
              "      <td>NaN</td>\n",
              "      <td>5</td>\n",
              "      <td>10</td>\n",
              "      <td>None</td>\n",
              "      <td>None</td>\n",
              "      <td>None</td>\n",
              "      <td>None</td>\n",
              "      <td>None</td>\n",
              "    </tr>\n",
              "    <tr>\n",
              "      <th>1774</th>\n",
              "      <td>678023323247357953</td>\n",
              "      <td>6.780211e+17</td>\n",
              "      <td>4.196984e+09</td>\n",
              "      <td>2015-12-19 01:25:31 +0000</td>\n",
              "      <td>&lt;a href=\"http://twitter.com/download/iphone\" r...</td>\n",
              "      <td>After getting lost in Reese's eyes for several...</td>\n",
              "      <td>NaN</td>\n",
              "      <td>NaN</td>\n",
              "      <td>NaN</td>\n",
              "      <td>NaN</td>\n",
              "      <td>13</td>\n",
              "      <td>10</td>\n",
              "      <td>None</td>\n",
              "      <td>None</td>\n",
              "      <td>None</td>\n",
              "      <td>None</td>\n",
              "      <td>None</td>\n",
              "    </tr>\n",
              "    <tr>\n",
              "      <th>1819</th>\n",
              "      <td>676590572941893632</td>\n",
              "      <td>6.765883e+17</td>\n",
              "      <td>4.196984e+09</td>\n",
              "      <td>2015-12-15 02:32:17 +0000</td>\n",
              "      <td>&lt;a href=\"http://twitter.com/download/iphone\" r...</td>\n",
              "      <td>After some outrage from the crowd. Bubbles is ...</td>\n",
              "      <td>NaN</td>\n",
              "      <td>NaN</td>\n",
              "      <td>NaN</td>\n",
              "      <td>NaN</td>\n",
              "      <td>7</td>\n",
              "      <td>10</td>\n",
              "      <td>None</td>\n",
              "      <td>None</td>\n",
              "      <td>None</td>\n",
              "      <td>None</td>\n",
              "      <td>None</td>\n",
              "    </tr>\n",
              "    <tr>\n",
              "      <th>1844</th>\n",
              "      <td>675849018447167488</td>\n",
              "      <td>6.758457e+17</td>\n",
              "      <td>4.196984e+09</td>\n",
              "      <td>2015-12-13 01:25:37 +0000</td>\n",
              "      <td>&lt;a href=\"http://twitter.com/download/iphone\" r...</td>\n",
              "      <td>This dog is being demoted to a 9/10 for not we...</td>\n",
              "      <td>NaN</td>\n",
              "      <td>NaN</td>\n",
              "      <td>NaN</td>\n",
              "      <td>NaN</td>\n",
              "      <td>9</td>\n",
              "      <td>10</td>\n",
              "      <td>None</td>\n",
              "      <td>None</td>\n",
              "      <td>None</td>\n",
              "      <td>None</td>\n",
              "      <td>None</td>\n",
              "    </tr>\n",
              "    <tr>\n",
              "      <th>1895</th>\n",
              "      <td>674742531037511680</td>\n",
              "      <td>6.747400e+17</td>\n",
              "      <td>4.196984e+09</td>\n",
              "      <td>2015-12-10 00:08:50 +0000</td>\n",
              "      <td>&lt;a href=\"http://twitter.com/download/iphone\" r...</td>\n",
              "      <td>Some clarification is required. The dog is sin...</td>\n",
              "      <td>NaN</td>\n",
              "      <td>NaN</td>\n",
              "      <td>NaN</td>\n",
              "      <td>NaN</td>\n",
              "      <td>11</td>\n",
              "      <td>10</td>\n",
              "      <td>None</td>\n",
              "      <td>None</td>\n",
              "      <td>None</td>\n",
              "      <td>None</td>\n",
              "      <td>None</td>\n",
              "    </tr>\n",
              "    <tr>\n",
              "      <th>1905</th>\n",
              "      <td>674606911342424069</td>\n",
              "      <td>6.744689e+17</td>\n",
              "      <td>4.196984e+09</td>\n",
              "      <td>2015-12-09 15:09:55 +0000</td>\n",
              "      <td>&lt;a href=\"http://twitter.com/download/iphone\" r...</td>\n",
              "      <td>The 13/10 also takes into account this impecca...</td>\n",
              "      <td>NaN</td>\n",
              "      <td>NaN</td>\n",
              "      <td>NaN</td>\n",
              "      <td>NaN</td>\n",
              "      <td>13</td>\n",
              "      <td>10</td>\n",
              "      <td>None</td>\n",
              "      <td>None</td>\n",
              "      <td>None</td>\n",
              "      <td>None</td>\n",
              "      <td>None</td>\n",
              "    </tr>\n",
              "    <tr>\n",
              "      <th>1914</th>\n",
              "      <td>674330906434379776</td>\n",
              "      <td>6.658147e+17</td>\n",
              "      <td>1.637468e+07</td>\n",
              "      <td>2015-12-08 20:53:11 +0000</td>\n",
              "      <td>&lt;a href=\"http://twitter.com/download/iphone\" r...</td>\n",
              "      <td>13/10\\n@ABC7</td>\n",
              "      <td>NaN</td>\n",
              "      <td>NaN</td>\n",
              "      <td>NaN</td>\n",
              "      <td>NaN</td>\n",
              "      <td>13</td>\n",
              "      <td>10</td>\n",
              "      <td>None</td>\n",
              "      <td>None</td>\n",
              "      <td>None</td>\n",
              "      <td>None</td>\n",
              "      <td>None</td>\n",
              "    </tr>\n",
              "    <tr>\n",
              "      <th>1940</th>\n",
              "      <td>673716320723169284</td>\n",
              "      <td>6.737159e+17</td>\n",
              "      <td>4.196984e+09</td>\n",
              "      <td>2015-12-07 04:11:02 +0000</td>\n",
              "      <td>&lt;a href=\"http://twitter.com/download/iphone\" r...</td>\n",
              "      <td>The millennials have spoken and we've decided ...</td>\n",
              "      <td>NaN</td>\n",
              "      <td>NaN</td>\n",
              "      <td>NaN</td>\n",
              "      <td>NaN</td>\n",
              "      <td>1</td>\n",
              "      <td>10</td>\n",
              "      <td>None</td>\n",
              "      <td>None</td>\n",
              "      <td>None</td>\n",
              "      <td>None</td>\n",
              "      <td>None</td>\n",
              "    </tr>\n",
              "    <tr>\n",
              "      <th>2038</th>\n",
              "      <td>671550332464455680</td>\n",
              "      <td>6.715449e+17</td>\n",
              "      <td>4.196984e+09</td>\n",
              "      <td>2015-12-01 04:44:10 +0000</td>\n",
              "      <td>&lt;a href=\"http://twitter.com/download/iphone\" r...</td>\n",
              "      <td>After 22 minutes of careful deliberation this ...</td>\n",
              "      <td>NaN</td>\n",
              "      <td>NaN</td>\n",
              "      <td>NaN</td>\n",
              "      <td>NaN</td>\n",
              "      <td>1</td>\n",
              "      <td>10</td>\n",
              "      <td>None</td>\n",
              "      <td>None</td>\n",
              "      <td>None</td>\n",
              "      <td>None</td>\n",
              "      <td>None</td>\n",
              "    </tr>\n",
              "    <tr>\n",
              "      <th>2149</th>\n",
              "      <td>669684865554620416</td>\n",
              "      <td>6.693544e+17</td>\n",
              "      <td>4.196984e+09</td>\n",
              "      <td>2015-11-26 01:11:28 +0000</td>\n",
              "      <td>&lt;a href=\"http://twitter.com/download/iphone\" r...</td>\n",
              "      <td>After countless hours of research and hundreds...</td>\n",
              "      <td>NaN</td>\n",
              "      <td>NaN</td>\n",
              "      <td>NaN</td>\n",
              "      <td>NaN</td>\n",
              "      <td>11</td>\n",
              "      <td>10</td>\n",
              "      <td>None</td>\n",
              "      <td>None</td>\n",
              "      <td>None</td>\n",
              "      <td>None</td>\n",
              "      <td>None</td>\n",
              "    </tr>\n",
              "    <tr>\n",
              "      <th>2189</th>\n",
              "      <td>668967877119254528</td>\n",
              "      <td>6.689207e+17</td>\n",
              "      <td>2.143566e+07</td>\n",
              "      <td>2015-11-24 01:42:25 +0000</td>\n",
              "      <td>&lt;a href=\"http://twitter.com/download/iphone\" r...</td>\n",
              "      <td>12/10 good shit Bubka\\n@wane15</td>\n",
              "      <td>NaN</td>\n",
              "      <td>NaN</td>\n",
              "      <td>NaN</td>\n",
              "      <td>NaN</td>\n",
              "      <td>12</td>\n",
              "      <td>10</td>\n",
              "      <td>None</td>\n",
              "      <td>None</td>\n",
              "      <td>None</td>\n",
              "      <td>None</td>\n",
              "      <td>None</td>\n",
              "    </tr>\n",
              "    <tr>\n",
              "      <th>2298</th>\n",
              "      <td>667070482143944705</td>\n",
              "      <td>6.670655e+17</td>\n",
              "      <td>4.196984e+09</td>\n",
              "      <td>2015-11-18 20:02:51 +0000</td>\n",
              "      <td>&lt;a href=\"http://twitter.com/download/iphone\" r...</td>\n",
              "      <td>After much debate this dog is being upgraded t...</td>\n",
              "      <td>NaN</td>\n",
              "      <td>NaN</td>\n",
              "      <td>NaN</td>\n",
              "      <td>NaN</td>\n",
              "      <td>10</td>\n",
              "      <td>10</td>\n",
              "      <td>None</td>\n",
              "      <td>None</td>\n",
              "      <td>None</td>\n",
              "      <td>None</td>\n",
              "      <td>None</td>\n",
              "    </tr>\n",
              "  </tbody>\n",
              "</table>\n",
              "</div>"
            ],
            "text/plain": [
              "                tweet_id  in_reply_to_status_id  in_reply_to_user_id  \\\n",
              "30    886267009285017600           8.862664e+17         2.281182e+09   \n",
              "55    881633300179243008           8.816070e+17         4.738443e+07   \n",
              "64    879674319642796034           8.795538e+17         3.105441e+09   \n",
              "113   870726314365509632           8.707262e+17         1.648776e+07   \n",
              "148   863427515083354112           8.634256e+17         7.759620e+07   \n",
              "179   857214891891077121           8.571567e+17         1.806710e+08   \n",
              "185   856330835276025856                    NaN                  NaN   \n",
              "186   856288084350160898           8.562860e+17         2.792810e+08   \n",
              "188   855862651834028034           8.558616e+17         1.943518e+08   \n",
              "189   855860136149123072           8.558585e+17         1.361572e+07   \n",
              "218   850333567704068097           8.503288e+17         2.195506e+07   \n",
              "228   848213670039564288           8.482121e+17         4.196984e+09   \n",
              "234   847617282490613760           8.476062e+17         4.196984e+09   \n",
              "274   840698636975636481           8.406983e+17         8.405479e+17   \n",
              "290   838150277551247360           8.381455e+17         2.195506e+07   \n",
              "291   838085839343206401           8.380855e+17         2.894131e+09   \n",
              "313   835246439529840640           8.352460e+17         2.625958e+07   \n",
              "342   832088576586297345           8.320875e+17         3.058208e+07   \n",
              "346   831926988323639298           8.319030e+17         2.068372e+07   \n",
              "375   828361771580813312                    NaN                  NaN   \n",
              "387   826598799820865537           8.265984e+17         4.196984e+09   \n",
              "409   823333489516937216           8.233264e+17         1.582854e+09   \n",
              "427   821153421864615936           8.211526e+17         1.132119e+08   \n",
              "498   813130366689148928           8.131273e+17         4.196984e+09   \n",
              "513   811647686436880384           8.116272e+17         4.196984e+09   \n",
              "570   801854953262350336           8.018543e+17         1.185634e+07   \n",
              "576   800859414831898624           8.008580e+17         2.918590e+08   \n",
              "611   797165961484890113           7.971238e+17         2.916630e+07   \n",
              "701   786051337297522688           7.727430e+17         7.305050e+17   \n",
              "707   785515384317313025                    NaN                  NaN   \n",
              "843   766714921925144576           7.667118e+17         4.196984e+09   \n",
              "857   763956972077010945           7.638652e+17         1.584641e+07   \n",
              "967   750381685133418496           7.501805e+17         4.717297e+09   \n",
              "1005  747651430853525504           7.476487e+17         4.196984e+09   \n",
              "1080  738891149612572673           7.384119e+17         3.589728e+08   \n",
              "1295  707983188426153984           7.079801e+17         2.319108e+09   \n",
              "1345  704491224099647488           7.044857e+17         2.878549e+07   \n",
              "1445  696518437233913856                    NaN                  NaN   \n",
              "1446  696490539101908992           6.964887e+17         4.196984e+09   \n",
              "1474  693644216740769793           6.936422e+17         4.196984e+09   \n",
              "1479  693582294167244802           6.935722e+17         1.198989e+09   \n",
              "1497  692423280028966913           6.924173e+17         4.196984e+09   \n",
              "1523  690607260360429569           6.903413e+17         4.670367e+08   \n",
              "1598  686035780142297088           6.860340e+17         4.196984e+09   \n",
              "1605  685681090388975616           6.855479e+17         4.196984e+09   \n",
              "1618  684969860808454144           6.849598e+17         4.196984e+09   \n",
              "1663  682808988178739200           6.827884e+17         4.196984e+09   \n",
              "1689  681340665377193984           6.813394e+17         4.196984e+09   \n",
              "1774  678023323247357953           6.780211e+17         4.196984e+09   \n",
              "1819  676590572941893632           6.765883e+17         4.196984e+09   \n",
              "1844  675849018447167488           6.758457e+17         4.196984e+09   \n",
              "1895  674742531037511680           6.747400e+17         4.196984e+09   \n",
              "1905  674606911342424069           6.744689e+17         4.196984e+09   \n",
              "1914  674330906434379776           6.658147e+17         1.637468e+07   \n",
              "1940  673716320723169284           6.737159e+17         4.196984e+09   \n",
              "2038  671550332464455680           6.715449e+17         4.196984e+09   \n",
              "2149  669684865554620416           6.693544e+17         4.196984e+09   \n",
              "2189  668967877119254528           6.689207e+17         2.143566e+07   \n",
              "2298  667070482143944705           6.670655e+17         4.196984e+09   \n",
              "\n",
              "                      timestamp  \\\n",
              "30    2017-07-15 16:51:35 +0000   \n",
              "55    2017-07-02 21:58:53 +0000   \n",
              "64    2017-06-27 12:14:36 +0000   \n",
              "113   2017-06-02 19:38:25 +0000   \n",
              "148   2017-05-13 16:15:35 +0000   \n",
              "179   2017-04-26 12:48:51 +0000   \n",
              "185   2017-04-24 02:15:55 +0000   \n",
              "186   2017-04-23 23:26:03 +0000   \n",
              "188   2017-04-22 19:15:32 +0000   \n",
              "189   2017-04-22 19:05:32 +0000   \n",
              "218   2017-04-07 13:04:55 +0000   \n",
              "228   2017-04-01 16:41:12 +0000   \n",
              "234   2017-03-31 01:11:22 +0000   \n",
              "274   2017-03-11 22:59:09 +0000   \n",
              "290   2017-03-04 22:12:52 +0000   \n",
              "291   2017-03-04 17:56:49 +0000   \n",
              "313   2017-02-24 21:54:03 +0000   \n",
              "342   2017-02-16 04:45:50 +0000   \n",
              "346   2017-02-15 18:03:45 +0000   \n",
              "375   2017-02-05 21:56:51 +0000   \n",
              "387   2017-02-01 01:11:25 +0000   \n",
              "409   2017-01-23 00:56:15 +0000   \n",
              "427   2017-01-17 00:33:26 +0000   \n",
              "498   2016-12-25 21:12:41 +0000   \n",
              "513   2016-12-21 19:01:02 +0000   \n",
              "570   2016-11-24 18:28:13 +0000   \n",
              "576   2016-11-22 00:32:18 +0000   \n",
              "611   2016-11-11 19:55:50 +0000   \n",
              "701   2016-10-12 03:50:17 +0000   \n",
              "707   2016-10-10 16:20:36 +0000   \n",
              "843   2016-08-19 19:14:16 +0000   \n",
              "857   2016-08-12 04:35:10 +0000   \n",
              "967   2016-07-05 17:31:49 +0000   \n",
              "1005  2016-06-28 04:42:46 +0000   \n",
              "1080  2016-06-04 00:32:32 +0000   \n",
              "1295  2016-03-10 17:35:20 +0000   \n",
              "1345  2016-03-01 02:19:31 +0000   \n",
              "1445  2016-02-08 02:18:30 +0000   \n",
              "1446  2016-02-08 00:27:39 +0000   \n",
              "1474  2016-01-31 03:57:23 +0000   \n",
              "1479  2016-01-30 23:51:19 +0000   \n",
              "1497  2016-01-27 19:05:49 +0000   \n",
              "1523  2016-01-22 18:49:36 +0000   \n",
              "1598  2016-01-10 04:04:10 +0000   \n",
              "1605  2016-01-09 04:34:45 +0000   \n",
              "1618  2016-01-07 05:28:35 +0000   \n",
              "1663  2016-01-01 06:22:03 +0000   \n",
              "1689  2015-12-28 05:07:27 +0000   \n",
              "1774  2015-12-19 01:25:31 +0000   \n",
              "1819  2015-12-15 02:32:17 +0000   \n",
              "1844  2015-12-13 01:25:37 +0000   \n",
              "1895  2015-12-10 00:08:50 +0000   \n",
              "1905  2015-12-09 15:09:55 +0000   \n",
              "1914  2015-12-08 20:53:11 +0000   \n",
              "1940  2015-12-07 04:11:02 +0000   \n",
              "2038  2015-12-01 04:44:10 +0000   \n",
              "2149  2015-11-26 01:11:28 +0000   \n",
              "2189  2015-11-24 01:42:25 +0000   \n",
              "2298  2015-11-18 20:02:51 +0000   \n",
              "\n",
              "                                                 source  \\\n",
              "30    <a href=\"http://twitter.com/download/iphone\" r...   \n",
              "55    <a href=\"http://twitter.com/download/iphone\" r...   \n",
              "64    <a href=\"http://twitter.com/download/iphone\" r...   \n",
              "113   <a href=\"http://twitter.com/download/iphone\" r...   \n",
              "148   <a href=\"http://twitter.com/download/iphone\" r...   \n",
              "179   <a href=\"http://twitter.com/download/iphone\" r...   \n",
              "185   <a href=\"http://twitter.com/download/iphone\" r...   \n",
              "186   <a href=\"http://twitter.com/download/iphone\" r...   \n",
              "188   <a href=\"http://twitter.com/download/iphone\" r...   \n",
              "189   <a href=\"http://twitter.com/download/iphone\" r...   \n",
              "218   <a href=\"http://twitter.com/download/iphone\" r...   \n",
              "228   <a href=\"http://twitter.com/download/iphone\" r...   \n",
              "234   <a href=\"http://twitter.com/download/iphone\" r...   \n",
              "274   <a href=\"http://twitter.com/download/iphone\" r...   \n",
              "290   <a href=\"http://twitter.com/download/iphone\" r...   \n",
              "291   <a href=\"http://twitter.com/download/iphone\" r...   \n",
              "313   <a href=\"http://twitter.com/download/iphone\" r...   \n",
              "342   <a href=\"http://twitter.com/download/iphone\" r...   \n",
              "346   <a href=\"http://twitter.com/download/iphone\" r...   \n",
              "375   <a href=\"http://twitter.com\" rel=\"nofollow\">Tw...   \n",
              "387   <a href=\"http://twitter.com/download/iphone\" r...   \n",
              "409   <a href=\"http://twitter.com/download/iphone\" r...   \n",
              "427   <a href=\"http://twitter.com/download/iphone\" r...   \n",
              "498   <a href=\"http://twitter.com/download/iphone\" r...   \n",
              "513   <a href=\"http://twitter.com/download/iphone\" r...   \n",
              "570   <a href=\"http://twitter.com/download/iphone\" r...   \n",
              "576   <a href=\"http://twitter.com/download/iphone\" r...   \n",
              "611   <a href=\"http://twitter.com/download/iphone\" r...   \n",
              "701   <a href=\"http://twitter.com/download/iphone\" r...   \n",
              "707   <a href=\"http://twitter.com/download/iphone\" r...   \n",
              "843   <a href=\"http://twitter.com/download/iphone\" r...   \n",
              "857   <a href=\"http://twitter.com/download/iphone\" r...   \n",
              "967   <a href=\"http://twitter.com/download/iphone\" r...   \n",
              "1005  <a href=\"http://twitter.com/download/iphone\" r...   \n",
              "1080  <a href=\"http://twitter.com/download/iphone\" r...   \n",
              "1295  <a href=\"http://twitter.com/download/iphone\" r...   \n",
              "1345  <a href=\"http://twitter.com/download/iphone\" r...   \n",
              "1445  <a href=\"http://twitter.com/download/iphone\" r...   \n",
              "1446  <a href=\"http://twitter.com/download/iphone\" r...   \n",
              "1474  <a href=\"http://twitter.com/download/iphone\" r...   \n",
              "1479  <a href=\"http://twitter.com/download/iphone\" r...   \n",
              "1497  <a href=\"http://twitter.com/download/iphone\" r...   \n",
              "1523  <a href=\"http://twitter.com/download/iphone\" r...   \n",
              "1598  <a href=\"http://twitter.com/download/iphone\" r...   \n",
              "1605  <a href=\"http://twitter.com/download/iphone\" r...   \n",
              "1618  <a href=\"http://twitter.com/download/iphone\" r...   \n",
              "1663  <a href=\"http://twitter.com/download/iphone\" r...   \n",
              "1689  <a href=\"http://twitter.com/download/iphone\" r...   \n",
              "1774  <a href=\"http://twitter.com/download/iphone\" r...   \n",
              "1819  <a href=\"http://twitter.com/download/iphone\" r...   \n",
              "1844  <a href=\"http://twitter.com/download/iphone\" r...   \n",
              "1895  <a href=\"http://twitter.com/download/iphone\" r...   \n",
              "1905  <a href=\"http://twitter.com/download/iphone\" r...   \n",
              "1914  <a href=\"http://twitter.com/download/iphone\" r...   \n",
              "1940  <a href=\"http://twitter.com/download/iphone\" r...   \n",
              "2038  <a href=\"http://twitter.com/download/iphone\" r...   \n",
              "2149  <a href=\"http://twitter.com/download/iphone\" r...   \n",
              "2189  <a href=\"http://twitter.com/download/iphone\" r...   \n",
              "2298  <a href=\"http://twitter.com/download/iphone\" r...   \n",
              "\n",
              "                                                   text  retweeted_status_id  \\\n",
              "30    @NonWhiteHat @MayhewMayhem omg hello tanner yo...                  NaN   \n",
              "55    @roushfenway These are good dogs but 17/10 is ...                  NaN   \n",
              "64                      @RealKentMurphy 14/10 confirmed                  NaN   \n",
              "113   @ComplicitOwl @ShopWeRateDogs &gt;10/10 is res...                  NaN   \n",
              "148   @Jack_Septic_Eye I'd need a few more pics to p...                  NaN   \n",
              "179                        @Marc_IRL pixelated af 12/10                  NaN   \n",
              "185   RT @Jenna_Marbles: @dog_rates Thanks for ratin...         8.563302e+17   \n",
              "186   @xianmcguire @Jenna_Marbles Kardashians wouldn...                  NaN   \n",
              "188   @dhmontgomery We also gave snoop dogg a 420/10...                  NaN   \n",
              "189   @s8n You tried very hard to portray this good ...                  NaN   \n",
              "218   @markhoppus MARK THAT DOG HAS SEEN AND EXPERIE...                  NaN   \n",
              "228   Jerry just apuppologized to me. He said there ...                  NaN   \n",
              "234   .@breaannanicolee PUPDATE: Cannon has a heart ...                  NaN   \n",
              "274   @0_kelvin_0 &gt;10/10 is reserved for puppos s...                  NaN   \n",
              "290                                  @markhoppus 182/10                  NaN   \n",
              "291   @bragg6of8 @Andy_Pace_ we are still looking fo...                  NaN   \n",
              "313   @jonnysun @Lin_Manuel ok jomny I know you're e...                  NaN   \n",
              "342            @docmisterio account started on 11/15/15                  NaN   \n",
              "346                              @UNC can confirm 12/10                  NaN   \n",
              "375   Beebop and Doobert should start a band 12/10 w...                  NaN   \n",
              "387   I was going to do 007/10, but the joke wasn't ...                  NaN   \n",
              "409                                @HistoryInPics 13/10                  NaN   \n",
              "427   @imgur for a polar bear tho I'd say 13/10 is a...                  NaN   \n",
              "498   I've been informed by multiple sources that th...                  NaN   \n",
              "513   PUPDATE: I've been informed that Augie was act...                  NaN   \n",
              "570   .@NBCSports OMG THE TINY HAT I'M GOING TO HAVE...                  NaN   \n",
              "576   @SkyWilliams doggo simply protecting you from ...                  NaN   \n",
              "611   @JODYHiGHROLLER it may be an 11/10 but what do...                  NaN   \n",
              "701             13/10 for breakdancing puppo @shibbnbot                  NaN   \n",
              "707      Today, 10/10, should be National Dog Rates Day                  NaN   \n",
              "843   His name is Charley and he already has a new s...                  NaN   \n",
              "857   @TheEllenShow I'm not sure if you know this bu...                  NaN   \n",
              "967                13/10 such a good doggo\\n@spaghemily                  NaN   \n",
              "1005  Other pupper asked not to have his identity sh...                  NaN   \n",
              "1080                                 @mount_alex3 13/10                  NaN   \n",
              "1295  @serial @MrRoles OH MY GOD I listened to all o...                  NaN   \n",
              "1345                                13/10 hero af\\n@ABC                  NaN   \n",
              "1445    Oh my god 10/10 for every little hot dog pupper                  NaN   \n",
              "1446  After reading the comments I may have overesti...                  NaN   \n",
              "1474  BREAKING PUPDATE: I've just been notified that...                  NaN   \n",
              "1479  Personally I'd give him an 11/10. Not sure why...                  NaN   \n",
              "1497  PUPDATE: just noticed this dog has some extra ...                  NaN   \n",
              "1523                              12/10 @LightningHoltt                  NaN   \n",
              "1598  Yes I do realize a rating of 4/20 would've bee...                  NaN   \n",
              "1605  Jack deserves another round of applause. If yo...                  NaN   \n",
              "1618  For those who claim this is a goat, u are wron...                  NaN   \n",
              "1663  I'm aware that I could've said 20/16, but here...                  NaN   \n",
              "1689  I've been told there's a slight possibility he...                  NaN   \n",
              "1774  After getting lost in Reese's eyes for several...                  NaN   \n",
              "1819  After some outrage from the crowd. Bubbles is ...                  NaN   \n",
              "1844  This dog is being demoted to a 9/10 for not we...                  NaN   \n",
              "1895  Some clarification is required. The dog is sin...                  NaN   \n",
              "1905  The 13/10 also takes into account this impecca...                  NaN   \n",
              "1914                                       13/10\\n@ABC7                  NaN   \n",
              "1940  The millennials have spoken and we've decided ...                  NaN   \n",
              "2038  After 22 minutes of careful deliberation this ...                  NaN   \n",
              "2149  After countless hours of research and hundreds...                  NaN   \n",
              "2189                     12/10 good shit Bubka\\n@wane15                  NaN   \n",
              "2298  After much debate this dog is being upgraded t...                  NaN   \n",
              "\n",
              "      retweeted_status_user_id retweeted_status_timestamp expanded_urls  \\\n",
              "30                         NaN                        NaN           NaN   \n",
              "55                         NaN                        NaN           NaN   \n",
              "64                         NaN                        NaN           NaN   \n",
              "113                        NaN                        NaN           NaN   \n",
              "148                        NaN                        NaN           NaN   \n",
              "179                        NaN                        NaN           NaN   \n",
              "185                 66699013.0  2017-04-24 02:13:14 +0000           NaN   \n",
              "186                        NaN                        NaN           NaN   \n",
              "188                        NaN                        NaN           NaN   \n",
              "189                        NaN                        NaN           NaN   \n",
              "218                        NaN                        NaN           NaN   \n",
              "228                        NaN                        NaN           NaN   \n",
              "234                        NaN                        NaN           NaN   \n",
              "274                        NaN                        NaN           NaN   \n",
              "290                        NaN                        NaN           NaN   \n",
              "291                        NaN                        NaN           NaN   \n",
              "313                        NaN                        NaN           NaN   \n",
              "342                        NaN                        NaN           NaN   \n",
              "346                        NaN                        NaN           NaN   \n",
              "375                        NaN                        NaN           NaN   \n",
              "387                        NaN                        NaN           NaN   \n",
              "409                        NaN                        NaN           NaN   \n",
              "427                        NaN                        NaN           NaN   \n",
              "498                        NaN                        NaN           NaN   \n",
              "513                        NaN                        NaN           NaN   \n",
              "570                        NaN                        NaN           NaN   \n",
              "576                        NaN                        NaN           NaN   \n",
              "611                        NaN                        NaN           NaN   \n",
              "701                        NaN                        NaN           NaN   \n",
              "707                        NaN                        NaN           NaN   \n",
              "843                        NaN                        NaN           NaN   \n",
              "857                        NaN                        NaN           NaN   \n",
              "967                        NaN                        NaN           NaN   \n",
              "1005                       NaN                        NaN           NaN   \n",
              "1080                       NaN                        NaN           NaN   \n",
              "1295                       NaN                        NaN           NaN   \n",
              "1345                       NaN                        NaN           NaN   \n",
              "1445                       NaN                        NaN           NaN   \n",
              "1446                       NaN                        NaN           NaN   \n",
              "1474                       NaN                        NaN           NaN   \n",
              "1479                       NaN                        NaN           NaN   \n",
              "1497                       NaN                        NaN           NaN   \n",
              "1523                       NaN                        NaN           NaN   \n",
              "1598                       NaN                        NaN           NaN   \n",
              "1605                       NaN                        NaN           NaN   \n",
              "1618                       NaN                        NaN           NaN   \n",
              "1663                       NaN                        NaN           NaN   \n",
              "1689                       NaN                        NaN           NaN   \n",
              "1774                       NaN                        NaN           NaN   \n",
              "1819                       NaN                        NaN           NaN   \n",
              "1844                       NaN                        NaN           NaN   \n",
              "1895                       NaN                        NaN           NaN   \n",
              "1905                       NaN                        NaN           NaN   \n",
              "1914                       NaN                        NaN           NaN   \n",
              "1940                       NaN                        NaN           NaN   \n",
              "2038                       NaN                        NaN           NaN   \n",
              "2149                       NaN                        NaN           NaN   \n",
              "2189                       NaN                        NaN           NaN   \n",
              "2298                       NaN                        NaN           NaN   \n",
              "\n",
              "      rating_numerator  rating_denominator  name  doggo floofer  pupper  puppo  \n",
              "30                  12                  10  None   None    None    None   None  \n",
              "55                  17                  10  None   None    None    None   None  \n",
              "64                  14                  10  None   None    None    None   None  \n",
              "113                 10                  10  None   None    None    None   None  \n",
              "148                 12                  10  None   None    None    None   None  \n",
              "179                 12                  10  None   None    None    None   None  \n",
              "185                 14                  10  None   None    None    None   None  \n",
              "186                 14                  10  None   None    None    None   None  \n",
              "188                420                  10  None   None    None    None   None  \n",
              "189                666                  10  None   None    None    None   None  \n",
              "218                 13                  10  None   None    None    None   None  \n",
              "228                 11                  10  None   None    None    None   None  \n",
              "234                 13                  10  None   None    None    None   None  \n",
              "274                 10                  10  None   None    None    None   None  \n",
              "290                182                  10  None   None    None    None   None  \n",
              "291                 15                  10  None   None    None    None   None  \n",
              "313                960                   0  None   None    None    None   None  \n",
              "342                 11                  15  None   None    None    None   None  \n",
              "346                 12                  10  None   None    None    None   None  \n",
              "375                 12                  10  None   None    None    None   None  \n",
              "387                  7                  10  None   None    None    None   None  \n",
              "409                 13                  10  None   None    None    None   None  \n",
              "427                 13                  10  None   None    None    None   None  \n",
              "498                 12                  10  None   None    None    None   None  \n",
              "513                 11                  10  None   None    None    None   None  \n",
              "570                 11                  10  None   None    None    None   None  \n",
              "576                 11                  10  None  doggo    None    None   None  \n",
              "611                 11                  10  None   None    None    None   None  \n",
              "701                 13                  10  None   None    None    None  puppo  \n",
              "707                 10                  10  None   None    None    None   None  \n",
              "843                 13                  10  None   None    None    None   None  \n",
              "857                 12                  10  None  doggo    None    None   None  \n",
              "967                 13                  10  None  doggo    None    None   None  \n",
              "1005                12                  10  None   None    None  pupper   None  \n",
              "1080                13                  10  None   None    None    None   None  \n",
              "1295                12                  10  None   None    None    None   None  \n",
              "1345                13                  10  None   None    None    None   None  \n",
              "1445                10                  10  None   None    None  pupper   None  \n",
              "1446                 1                  10  None   None    None    None   None  \n",
              "1474                10                  10  None   None    None    None   None  \n",
              "1479                11                  10  None   None    None    None   None  \n",
              "1497                 9                  10  None   None    None    None   None  \n",
              "1523                12                  10  None   None    None    None   None  \n",
              "1598                 4                  20  None   None    None    None   None  \n",
              "1605                14                  10  None   None    None    None   None  \n",
              "1618                 5                  10  None   None    None    None   None  \n",
              "1663                20                  16  None   None    None    None   None  \n",
              "1689                 5                  10  None   None    None    None   None  \n",
              "1774                13                  10  None   None    None    None   None  \n",
              "1819                 7                  10  None   None    None    None   None  \n",
              "1844                 9                  10  None   None    None    None   None  \n",
              "1895                11                  10  None   None    None    None   None  \n",
              "1905                13                  10  None   None    None    None   None  \n",
              "1914                13                  10  None   None    None    None   None  \n",
              "1940                 1                  10  None   None    None    None   None  \n",
              "2038                 1                  10  None   None    None    None   None  \n",
              "2149                11                  10  None   None    None    None   None  \n",
              "2189                12                  10  None   None    None    None   None  \n",
              "2298                10                  10  None   None    None    None   None  "
            ]
          },
          "execution_count": 16,
          "metadata": {},
          "output_type": "execute_result"
        }
      ],
      "source": [
        "twitter_archive_df[twitter_archive_df['expanded_urls'].isnull()]"
      ]
    },
    {
      "cell_type": "markdown",
      "metadata": {
        "id": "tBEzfNFUwwyd"
      },
      "source": [
        "It is obvious from the above that some tweets do not have images, hence, making them unnesessary for our analysis."
      ]
    },
    {
      "cell_type": "code",
      "execution_count": null,
      "metadata": {
        "collapsed": true,
        "jupyter": {
          "outputs_hidden": true
        },
        "scrolled": true,
        "tags": [],
        "id": "jl8kksmewwyd",
        "outputId": "99f7144c-3a51-40bd-8c18-dd11a841bc5f"
      },
      "outputs": [
        {
          "data": {
            "text/plain": [
              "None          745\n",
              "a              55\n",
              "Charlie        12\n",
              "Cooper         11\n",
              "Lucy           11\n",
              "             ... \n",
              "Dex             1\n",
              "Ace             1\n",
              "Tayzie          1\n",
              "Grizzie         1\n",
              "Christoper      1\n",
              "Name: name, Length: 957, dtype: int64"
            ]
          },
          "execution_count": 17,
          "metadata": {},
          "output_type": "execute_result"
        }
      ],
      "source": [
        "# twitter_archive_df[twitter_archive_df.rating_numerator > 14 ]\n",
        "twitter_archive_df['name'].value_counts()"
      ]
    },
    {
      "cell_type": "markdown",
      "metadata": {
        "id": "4_A-HqYiwwyd"
      },
      "source": [
        "Names like 'None' & 'a' are invalid data."
      ]
    },
    {
      "cell_type": "code",
      "execution_count": null,
      "metadata": {
        "id": "lA5Ru7PCwwyd"
      },
      "outputs": [],
      "source": [
        "twitter_archive_df[twitter_archive_df.rating_denominator != 10]"
      ]
    },
    {
      "cell_type": "markdown",
      "metadata": {
        "id": "e4-D3sZnwwyf"
      },
      "source": [
        "Most of the rating denominators are perhaps in accurate based on our guide **(These ratings almost always have a denominator of 10)**."
      ]
    },
    {
      "cell_type": "code",
      "execution_count": null,
      "metadata": {
        "scrolled": true,
        "id": "X3HuiE_Qwwyf",
        "outputId": "1a7296d8-6257-41e0-d68b-2e624e8130d0"
      },
      "outputs": [
        {
          "name": "stdout",
          "output_type": "stream",
          "text": [
            "<class 'pandas.core.frame.DataFrame'>\n",
            "RangeIndex: 2075 entries, 0 to 2074\n",
            "Data columns (total 12 columns):\n",
            " #   Column    Non-Null Count  Dtype  \n",
            "---  ------    --------------  -----  \n",
            " 0   tweet_id  2075 non-null   int64  \n",
            " 1   jpg_url   2075 non-null   object \n",
            " 2   img_num   2075 non-null   int64  \n",
            " 3   p1        2075 non-null   object \n",
            " 4   p1_conf   2075 non-null   float64\n",
            " 5   p1_dog    2075 non-null   bool   \n",
            " 6   p2        2075 non-null   object \n",
            " 7   p2_conf   2075 non-null   float64\n",
            " 8   p2_dog    2075 non-null   bool   \n",
            " 9   p3        2075 non-null   object \n",
            " 10  p3_conf   2075 non-null   float64\n",
            " 11  p3_dog    2075 non-null   bool   \n",
            "dtypes: bool(3), float64(3), int64(2), object(4)\n",
            "memory usage: 152.1+ KB\n"
          ]
        }
      ],
      "source": [
        "image_prediction_df.info()"
      ]
    },
    {
      "cell_type": "markdown",
      "metadata": {
        "id": "ea6EOd1Nwwyf"
      },
      "source": [
        "Looking at the image prediction data frame, we can suggested that there is a structure issue here. It has to be tidied up."
      ]
    },
    {
      "cell_type": "code",
      "execution_count": null,
      "metadata": {
        "id": "7_QuyPlhwwyf",
        "outputId": "aa65b113-5cf7-4c1c-eb94-e2cd1f8026ad"
      },
      "outputs": [
        {
          "data": {
            "text/plain": [
              "0"
            ]
          },
          "execution_count": 20,
          "metadata": {},
          "output_type": "execute_result"
        }
      ],
      "source": [
        "sum(image_prediction_df['tweet_id'].duplicated())"
      ]
    },
    {
      "cell_type": "code",
      "execution_count": null,
      "metadata": {
        "id": "oUo-W1Rowwyf",
        "outputId": "ad397db6-e7f1-4b0f-fc53-5407e6e8092b"
      },
      "outputs": [
        {
          "name": "stdout",
          "output_type": "stream",
          "text": [
            "<class 'pandas.core.frame.DataFrame'>\n",
            "RangeIndex: 2326 entries, 0 to 2325\n",
            "Data columns (total 3 columns):\n",
            " #   Column          Non-Null Count  Dtype\n",
            "---  ------          --------------  -----\n",
            " 0   id              2326 non-null   int64\n",
            " 1   retweet_count   2326 non-null   int64\n",
            " 2   favorite_count  2326 non-null   int64\n",
            "dtypes: int64(3)\n",
            "memory usage: 54.6 KB\n"
          ]
        }
      ],
      "source": [
        "twitterAPI_extract_df.info()"
      ]
    },
    {
      "cell_type": "markdown",
      "metadata": {
        "id": "yFgQgmQ9wwyf"
      },
      "source": [
        "Also, the twitterAPI extract is a subset of the @WeRateDogs twitter data so we can make things look better by puting it back into its place."
      ]
    },
    {
      "cell_type": "markdown",
      "metadata": {
        "id": "9zxXdDKIwwyf"
      },
      "source": [
        "### Tidiness issues\n",
        "\n",
        "*image_prediction* table\n",
        "1. The column headers [p1, p1_conf, p1_dog, p2, p2_conf, p2_dog, p3, p3_conf, p3_dog] should be values just 4 columns.\n",
        "\n",
        "\n",
        "*twitter_archive* table\n",
        "\n",
        "2. 'doggo', 'floofer', 'pupper', 'puppo' columns should be variables of a single column.\n",
        "\n",
        "\n",
        "*twitterAPI_extract* table\n",
        "\n",
        "3. this table should be a part of the twitter archive table"
      ]
    },
    {
      "cell_type": "markdown",
      "metadata": {
        "id": "KI5mNIxqwwyg"
      },
      "source": [
        "### Quality issues\n",
        "\n",
        "\n",
        "**twitter_archive** table\n",
        "\n",
        "*Completeness*\n",
        "1. Some tweets do not have 'expanded urls' which contains the dog image\n",
        "2. missing data (retweet_count, favorite_count)\n",
        "\n",
        "*Validity*\n",
        "\n",
        "3. the retweets are not needed for analysis\n",
        "- (erroneous dog names 'a', 'very', 'not', 'this', 'the') bonus\n",
        "4. erroneous ratings - line 516 sam's rating of 24/7 is invalid, (These ratings almost always have a denominator of 10.)\n",
        "5. erroneous dtypes for (tweet_id, timestamp, retweet_count, favorite_count)\n",
        "\n",
        "**image_prediction** table\n",
        "\n",
        "*Validity:*\n",
        "\n",
        "6. erroneous dtype for (tweet_id)\n",
        "7. only the most confident prediction is required\n",
        "8. false dog breeds are not needed\n",
        "\n",
        "\n",
        "**twitterAPI_extract** table\n",
        "\n",
        "*Consistency issue*\n",
        "\n",
        "9. the column name 'id' is not consistent with the column name 'tweet_id' in the twitter archive table\n",
        "\n",
        "**Note**: some quality issues documented here were detected after the tidiness issues have been fixed."
      ]
    },
    {
      "cell_type": "markdown",
      "metadata": {
        "extensions": {
          "jupyter_dashboards": {
            "version": 1,
            "views": {
              "grid_default": {
                "col": 4,
                "height": 4,
                "hidden": false,
                "row": 32,
                "width": 4
              },
              "report_default": {
                "hidden": false
              }
            }
          }
        },
        "id": "X4UTUKR_wwyg"
      },
      "source": [
        "<a id=\"#clean\"></a>\n",
        "## Cleaning Data\n",
        "In this section, we will clean **all** of the issues documented while assessing.\n",
        "\n",
        "**First** we will make a copy of the original data before cleaning. The cleaning will also include merging individual pieces of data according to the rules of [tidy data](https://cran.r-project.org/web/packages/tidyr/vignettes/tidy-data.html)."
      ]
    },
    {
      "cell_type": "code",
      "execution_count": null,
      "metadata": {
        "id": "j-eJ1ixIwwyg"
      },
      "outputs": [],
      "source": [
        "# Make copies of original pieces of data\n",
        "\n",
        "twitter_archive_df_clean = twitter_archive_df.copy()\n",
        "image_prediction_df_clean = image_prediction_df.copy()\n",
        "twitterAPI_extract_df_clean = twitterAPI_extract_df.copy()"
      ]
    },
    {
      "cell_type": "markdown",
      "metadata": {
        "id": "zqcGA8Bpwwyg"
      },
      "source": [
        "### Tidiness Issue 1 :\n",
        "\n",
        "**The column headers (p1, p1_conf, p1_dog, p2, p2_conf, p2_dog, p3, p3_conf, p3_dog) should be values just 4 columns.**"
      ]
    },
    {
      "cell_type": "markdown",
      "metadata": {
        "id": "4lntWGVswwyg"
      },
      "source": [
        "#### Define\n",
        "\n",
        "- transform these columns (p1, p1_conf, p1_dog, p2, p2_conf, p2_dog, p3, p3_conf, p3_dog) from **wide to long** format such that we have just 4 columns:\n",
        "    - prediction_cycle - prediction - confidence - isDogBreed"
      ]
    },
    {
      "cell_type": "markdown",
      "metadata": {
        "id": "6aishsKwwwyg"
      },
      "source": [
        "#### Code"
      ]
    },
    {
      "cell_type": "code",
      "execution_count": null,
      "metadata": {
        "scrolled": true,
        "id": "Z1G4fd7Pwwyg",
        "outputId": "00963ba9-bff7-4fb8-a665-8c01ad638b70"
      },
      "outputs": [
        {
          "name": "stdout",
          "output_type": "stream",
          "text": [
            "<class 'pandas.core.frame.DataFrame'>\n",
            "RangeIndex: 2075 entries, 0 to 2074\n",
            "Data columns (total 12 columns):\n",
            " #   Column    Non-Null Count  Dtype  \n",
            "---  ------    --------------  -----  \n",
            " 0   tweet_id  2075 non-null   int64  \n",
            " 1   jpg_url   2075 non-null   object \n",
            " 2   img_num   2075 non-null   int64  \n",
            " 3   p1        2075 non-null   object \n",
            " 4   p1_conf   2075 non-null   float64\n",
            " 5   p1_dog    2075 non-null   bool   \n",
            " 6   p2        2075 non-null   object \n",
            " 7   p2_conf   2075 non-null   float64\n",
            " 8   p2_dog    2075 non-null   bool   \n",
            " 9   p3        2075 non-null   object \n",
            " 10  p3_conf   2075 non-null   float64\n",
            " 11  p3_dog    2075 non-null   bool   \n",
            "dtypes: bool(3), float64(3), int64(2), object(4)\n",
            "memory usage: 152.1+ KB\n"
          ]
        }
      ],
      "source": [
        "image_prediction_df_clean.info()"
      ]
    },
    {
      "cell_type": "markdown",
      "metadata": {
        "id": "ZvDVjLsrwwyg"
      },
      "source": [
        "**[wide_to_long formula](https://stackoverflow.com/questions/36537945/reshape-wide-to-long-in-pandas)** requires the cols to be named such that each group is a suffix."
      ]
    },
    {
      "cell_type": "code",
      "execution_count": null,
      "metadata": {
        "id": "jlbY61Oewwyg"
      },
      "outputs": [],
      "source": [
        "# rename columns\n",
        "image_prediction_df_clean.rename(columns = {'p1' : 'prediction_p1',\n",
        "                                            'p2' : 'prediction_p2',\n",
        "                                            'p3' : 'prediction_p3',\n",
        "                                            'p1_conf' : 'confidence_p1',\n",
        "                                            'p2_conf' : 'confidence_p2',\n",
        "                                            'p3_conf' : 'confidence_p3',\n",
        "                                            'p1_dog' : 'isDogBreed_p1',\n",
        "                                            'p2_dog' : 'isDogBreed_p2',\n",
        "                                            'p3_dog' : 'isDogBreed_p3'}, inplace = True)"
      ]
    },
    {
      "cell_type": "code",
      "execution_count": null,
      "metadata": {
        "id": "HRoZKYq4wwyg",
        "outputId": "53ca858b-05ad-4db2-e091-5527ded3514c"
      },
      "outputs": [
        {
          "name": "stdout",
          "output_type": "stream",
          "text": [
            "<class 'pandas.core.frame.DataFrame'>\n",
            "RangeIndex: 2075 entries, 0 to 2074\n",
            "Data columns (total 12 columns):\n",
            " #   Column         Non-Null Count  Dtype  \n",
            "---  ------         --------------  -----  \n",
            " 0   tweet_id       2075 non-null   int64  \n",
            " 1   jpg_url        2075 non-null   object \n",
            " 2   img_num        2075 non-null   int64  \n",
            " 3   prediction_p1  2075 non-null   object \n",
            " 4   confidence_p1  2075 non-null   float64\n",
            " 5   isDogBreed_p1  2075 non-null   bool   \n",
            " 6   prediction_p2  2075 non-null   object \n",
            " 7   confidence_p2  2075 non-null   float64\n",
            " 8   isDogBreed_p2  2075 non-null   bool   \n",
            " 9   prediction_p3  2075 non-null   object \n",
            " 10  confidence_p3  2075 non-null   float64\n",
            " 11  isDogBreed_p3  2075 non-null   bool   \n",
            "dtypes: bool(3), float64(3), int64(2), object(4)\n",
            "memory usage: 152.1+ KB\n"
          ]
        }
      ],
      "source": [
        "image_prediction_df_clean.info()"
      ]
    },
    {
      "cell_type": "code",
      "execution_count": null,
      "metadata": {
        "id": "Os6nKrWWwwyg"
      },
      "outputs": [],
      "source": [
        "image_prediction_df_clean = pd.wide_to_long(image_prediction_df_clean,\n",
        "               stubnames = ['prediction', 'confidence', 'isDogBreed'],\n",
        "               i = ['tweet_id', 'jpg_url', 'img_num'],\n",
        "               j = 'prediction_cycle',\n",
        "               sep = '_',\n",
        "               suffix = '\\w+')\n",
        "\n",
        "image_prediction_df_clean.reset_index(inplace = True)"
      ]
    },
    {
      "cell_type": "markdown",
      "metadata": {
        "id": "0t6sehkCwwyh"
      },
      "source": [
        "#### Test"
      ]
    },
    {
      "cell_type": "code",
      "execution_count": null,
      "metadata": {
        "id": "fzfJ682Dwwyh",
        "outputId": "ec0608a7-8861-40b4-90b3-5c12c527e62e"
      },
      "outputs": [
        {
          "data": {
            "text/html": [
              "<div>\n",
              "<style scoped>\n",
              "    .dataframe tbody tr th:only-of-type {\n",
              "        vertical-align: middle;\n",
              "    }\n",
              "\n",
              "    .dataframe tbody tr th {\n",
              "        vertical-align: top;\n",
              "    }\n",
              "\n",
              "    .dataframe thead th {\n",
              "        text-align: right;\n",
              "    }\n",
              "</style>\n",
              "<table border=\"1\" class=\"dataframe\">\n",
              "  <thead>\n",
              "    <tr style=\"text-align: right;\">\n",
              "      <th></th>\n",
              "      <th>tweet_id</th>\n",
              "      <th>jpg_url</th>\n",
              "      <th>img_num</th>\n",
              "      <th>prediction_cycle</th>\n",
              "      <th>prediction</th>\n",
              "      <th>confidence</th>\n",
              "      <th>isDogBreed</th>\n",
              "    </tr>\n",
              "  </thead>\n",
              "  <tbody>\n",
              "    <tr>\n",
              "      <th>0</th>\n",
              "      <td>666020888022790149</td>\n",
              "      <td>https://pbs.twimg.com/media/CT4udn0WwAA0aMy.jpg</td>\n",
              "      <td>1</td>\n",
              "      <td>p1</td>\n",
              "      <td>Welsh_springer_spaniel</td>\n",
              "      <td>0.465074</td>\n",
              "      <td>True</td>\n",
              "    </tr>\n",
              "    <tr>\n",
              "      <th>1</th>\n",
              "      <td>666020888022790149</td>\n",
              "      <td>https://pbs.twimg.com/media/CT4udn0WwAA0aMy.jpg</td>\n",
              "      <td>1</td>\n",
              "      <td>p2</td>\n",
              "      <td>collie</td>\n",
              "      <td>0.156665</td>\n",
              "      <td>True</td>\n",
              "    </tr>\n",
              "    <tr>\n",
              "      <th>2</th>\n",
              "      <td>666020888022790149</td>\n",
              "      <td>https://pbs.twimg.com/media/CT4udn0WwAA0aMy.jpg</td>\n",
              "      <td>1</td>\n",
              "      <td>p3</td>\n",
              "      <td>Shetland_sheepdog</td>\n",
              "      <td>0.061428</td>\n",
              "      <td>True</td>\n",
              "    </tr>\n",
              "    <tr>\n",
              "      <th>3</th>\n",
              "      <td>666029285002620928</td>\n",
              "      <td>https://pbs.twimg.com/media/CT42GRgUYAA5iDo.jpg</td>\n",
              "      <td>1</td>\n",
              "      <td>p1</td>\n",
              "      <td>redbone</td>\n",
              "      <td>0.506826</td>\n",
              "      <td>True</td>\n",
              "    </tr>\n",
              "    <tr>\n",
              "      <th>4</th>\n",
              "      <td>666029285002620928</td>\n",
              "      <td>https://pbs.twimg.com/media/CT42GRgUYAA5iDo.jpg</td>\n",
              "      <td>1</td>\n",
              "      <td>p2</td>\n",
              "      <td>miniature_pinscher</td>\n",
              "      <td>0.074192</td>\n",
              "      <td>True</td>\n",
              "    </tr>\n",
              "  </tbody>\n",
              "</table>\n",
              "</div>"
            ],
            "text/plain": [
              "             tweet_id                                          jpg_url  \\\n",
              "0  666020888022790149  https://pbs.twimg.com/media/CT4udn0WwAA0aMy.jpg   \n",
              "1  666020888022790149  https://pbs.twimg.com/media/CT4udn0WwAA0aMy.jpg   \n",
              "2  666020888022790149  https://pbs.twimg.com/media/CT4udn0WwAA0aMy.jpg   \n",
              "3  666029285002620928  https://pbs.twimg.com/media/CT42GRgUYAA5iDo.jpg   \n",
              "4  666029285002620928  https://pbs.twimg.com/media/CT42GRgUYAA5iDo.jpg   \n",
              "\n",
              "   img_num prediction_cycle              prediction  confidence  isDogBreed  \n",
              "0        1               p1  Welsh_springer_spaniel    0.465074        True  \n",
              "1        1               p2                  collie    0.156665        True  \n",
              "2        1               p3       Shetland_sheepdog    0.061428        True  \n",
              "3        1               p1                 redbone    0.506826        True  \n",
              "4        1               p2      miniature_pinscher    0.074192        True  "
            ]
          },
          "execution_count": 27,
          "metadata": {},
          "output_type": "execute_result"
        }
      ],
      "source": [
        "image_prediction_df_clean.head(5)"
      ]
    },
    {
      "cell_type": "code",
      "execution_count": null,
      "metadata": {
        "id": "uo5vzMS3wwyh",
        "outputId": "10ed617c-ee2b-47ab-8c9f-13d75d1c31fb"
      },
      "outputs": [
        {
          "data": {
            "text/html": [
              "<div>\n",
              "<style scoped>\n",
              "    .dataframe tbody tr th:only-of-type {\n",
              "        vertical-align: middle;\n",
              "    }\n",
              "\n",
              "    .dataframe tbody tr th {\n",
              "        vertical-align: top;\n",
              "    }\n",
              "\n",
              "    .dataframe thead th {\n",
              "        text-align: right;\n",
              "    }\n",
              "</style>\n",
              "<table border=\"1\" class=\"dataframe\">\n",
              "  <thead>\n",
              "    <tr style=\"text-align: right;\">\n",
              "      <th></th>\n",
              "      <th>tweet_id</th>\n",
              "      <th>jpg_url</th>\n",
              "      <th>img_num</th>\n",
              "      <th>prediction_cycle</th>\n",
              "      <th>prediction</th>\n",
              "      <th>confidence</th>\n",
              "      <th>isDogBreed</th>\n",
              "    </tr>\n",
              "  </thead>\n",
              "  <tbody>\n",
              "    <tr>\n",
              "      <th>18</th>\n",
              "      <td>666051853826850816</td>\n",
              "      <td>https://pbs.twimg.com/media/CT5KoJ1WoAAJash.jpg</td>\n",
              "      <td>1</td>\n",
              "      <td>p1</td>\n",
              "      <td>box_turtle</td>\n",
              "      <td>0.933012</td>\n",
              "      <td>False</td>\n",
              "    </tr>\n",
              "    <tr>\n",
              "      <th>19</th>\n",
              "      <td>666051853826850816</td>\n",
              "      <td>https://pbs.twimg.com/media/CT5KoJ1WoAAJash.jpg</td>\n",
              "      <td>1</td>\n",
              "      <td>p2</td>\n",
              "      <td>mud_turtle</td>\n",
              "      <td>0.045885</td>\n",
              "      <td>False</td>\n",
              "    </tr>\n",
              "    <tr>\n",
              "      <th>20</th>\n",
              "      <td>666051853826850816</td>\n",
              "      <td>https://pbs.twimg.com/media/CT5KoJ1WoAAJash.jpg</td>\n",
              "      <td>1</td>\n",
              "      <td>p3</td>\n",
              "      <td>terrapin</td>\n",
              "      <td>0.017885</td>\n",
              "      <td>False</td>\n",
              "    </tr>\n",
              "    <tr>\n",
              "      <th>23</th>\n",
              "      <td>666055525042405380</td>\n",
              "      <td>https://pbs.twimg.com/media/CT5N9tpXIAAifs1.jpg</td>\n",
              "      <td>1</td>\n",
              "      <td>p3</td>\n",
              "      <td>fur_coat</td>\n",
              "      <td>0.054449</td>\n",
              "      <td>False</td>\n",
              "    </tr>\n",
              "    <tr>\n",
              "      <th>24</th>\n",
              "      <td>666057090499244032</td>\n",
              "      <td>https://pbs.twimg.com/media/CT5PY90WoAAQGLo.jpg</td>\n",
              "      <td>1</td>\n",
              "      <td>p1</td>\n",
              "      <td>shopping_cart</td>\n",
              "      <td>0.962465</td>\n",
              "      <td>False</td>\n",
              "    </tr>\n",
              "    <tr>\n",
              "      <th>...</th>\n",
              "      <td>...</td>\n",
              "      <td>...</td>\n",
              "      <td>...</td>\n",
              "      <td>...</td>\n",
              "      <td>...</td>\n",
              "      <td>...</td>\n",
              "      <td>...</td>\n",
              "    </tr>\n",
              "    <tr>\n",
              "      <th>6213</th>\n",
              "      <td>891689557279858688</td>\n",
              "      <td>https://pbs.twimg.com/media/DF_q7IAWsAEuuN8.jpg</td>\n",
              "      <td>1</td>\n",
              "      <td>p1</td>\n",
              "      <td>paper_towel</td>\n",
              "      <td>0.170278</td>\n",
              "      <td>False</td>\n",
              "    </tr>\n",
              "    <tr>\n",
              "      <th>6215</th>\n",
              "      <td>891689557279858688</td>\n",
              "      <td>https://pbs.twimg.com/media/DF_q7IAWsAEuuN8.jpg</td>\n",
              "      <td>1</td>\n",
              "      <td>p3</td>\n",
              "      <td>spatula</td>\n",
              "      <td>0.040836</td>\n",
              "      <td>False</td>\n",
              "    </tr>\n",
              "    <tr>\n",
              "      <th>6222</th>\n",
              "      <td>892420643555336193</td>\n",
              "      <td>https://pbs.twimg.com/media/DGKD1-bXoAAIAUK.jpg</td>\n",
              "      <td>1</td>\n",
              "      <td>p1</td>\n",
              "      <td>orange</td>\n",
              "      <td>0.097049</td>\n",
              "      <td>False</td>\n",
              "    </tr>\n",
              "    <tr>\n",
              "      <th>6223</th>\n",
              "      <td>892420643555336193</td>\n",
              "      <td>https://pbs.twimg.com/media/DGKD1-bXoAAIAUK.jpg</td>\n",
              "      <td>1</td>\n",
              "      <td>p2</td>\n",
              "      <td>bagel</td>\n",
              "      <td>0.085851</td>\n",
              "      <td>False</td>\n",
              "    </tr>\n",
              "    <tr>\n",
              "      <th>6224</th>\n",
              "      <td>892420643555336193</td>\n",
              "      <td>https://pbs.twimg.com/media/DGKD1-bXoAAIAUK.jpg</td>\n",
              "      <td>1</td>\n",
              "      <td>p3</td>\n",
              "      <td>banana</td>\n",
              "      <td>0.076110</td>\n",
              "      <td>False</td>\n",
              "    </tr>\n",
              "  </tbody>\n",
              "</table>\n",
              "<p>1641 rows × 7 columns</p>\n",
              "</div>"
            ],
            "text/plain": [
              "                tweet_id                                          jpg_url  \\\n",
              "18    666051853826850816  https://pbs.twimg.com/media/CT5KoJ1WoAAJash.jpg   \n",
              "19    666051853826850816  https://pbs.twimg.com/media/CT5KoJ1WoAAJash.jpg   \n",
              "20    666051853826850816  https://pbs.twimg.com/media/CT5KoJ1WoAAJash.jpg   \n",
              "23    666055525042405380  https://pbs.twimg.com/media/CT5N9tpXIAAifs1.jpg   \n",
              "24    666057090499244032  https://pbs.twimg.com/media/CT5PY90WoAAQGLo.jpg   \n",
              "...                  ...                                              ...   \n",
              "6213  891689557279858688  https://pbs.twimg.com/media/DF_q7IAWsAEuuN8.jpg   \n",
              "6215  891689557279858688  https://pbs.twimg.com/media/DF_q7IAWsAEuuN8.jpg   \n",
              "6222  892420643555336193  https://pbs.twimg.com/media/DGKD1-bXoAAIAUK.jpg   \n",
              "6223  892420643555336193  https://pbs.twimg.com/media/DGKD1-bXoAAIAUK.jpg   \n",
              "6224  892420643555336193  https://pbs.twimg.com/media/DGKD1-bXoAAIAUK.jpg   \n",
              "\n",
              "      img_num prediction_cycle     prediction  confidence  isDogBreed  \n",
              "18          1               p1     box_turtle    0.933012       False  \n",
              "19          1               p2     mud_turtle    0.045885       False  \n",
              "20          1               p3       terrapin    0.017885       False  \n",
              "23          1               p3       fur_coat    0.054449       False  \n",
              "24          1               p1  shopping_cart    0.962465       False  \n",
              "...       ...              ...            ...         ...         ...  \n",
              "6213        1               p1    paper_towel    0.170278       False  \n",
              "6215        1               p3        spatula    0.040836       False  \n",
              "6222        1               p1         orange    0.097049       False  \n",
              "6223        1               p2          bagel    0.085851       False  \n",
              "6224        1               p3         banana    0.076110       False  \n",
              "\n",
              "[1641 rows x 7 columns]"
            ]
          },
          "execution_count": 28,
          "metadata": {},
          "output_type": "execute_result"
        }
      ],
      "source": [
        "image_prediction_df_clean[image_prediction_df_clean.isDogBreed == False]\n",
        "# image_prediction_df_clean.sort_values('confidence', ascending = False)"
      ]
    },
    {
      "cell_type": "code",
      "execution_count": null,
      "metadata": {
        "scrolled": true,
        "id": "8a5JcyFtwwyi",
        "outputId": "c9f9e384-3329-4e3c-df15-055e42954fbe"
      },
      "outputs": [
        {
          "name": "stdout",
          "output_type": "stream",
          "text": [
            "<class 'pandas.core.frame.DataFrame'>\n",
            "RangeIndex: 6225 entries, 0 to 6224\n",
            "Data columns (total 7 columns):\n",
            " #   Column            Non-Null Count  Dtype  \n",
            "---  ------            --------------  -----  \n",
            " 0   tweet_id          6225 non-null   int64  \n",
            " 1   jpg_url           6225 non-null   object \n",
            " 2   img_num           6225 non-null   int64  \n",
            " 3   prediction_cycle  6225 non-null   object \n",
            " 4   prediction        6225 non-null   object \n",
            " 5   confidence        6225 non-null   float64\n",
            " 6   isDogBreed        6225 non-null   bool   \n",
            "dtypes: bool(1), float64(1), int64(2), object(3)\n",
            "memory usage: 298.0+ KB\n"
          ]
        }
      ],
      "source": [
        "image_prediction_df_clean.info()"
      ]
    },
    {
      "cell_type": "markdown",
      "metadata": {
        "id": "UDZD9tj_wwyi"
      },
      "source": [
        "### Tidiness Issue #2:\n",
        "\n",
        "**in the twitter_archive table, 'doggo', 'floofer', 'pupper', 'puppo' columns should be variables of a single column.**"
      ]
    },
    {
      "cell_type": "markdown",
      "metadata": {
        "extensions": {
          "jupyter_dashboards": {
            "version": 1,
            "views": {
              "grid_default": {
                "hidden": true
              },
              "report_default": {
                "hidden": true
              }
            }
          }
        },
        "id": "JsiP1-jMwwyi"
      },
      "source": [
        "#### Define\n",
        "\n",
        "- **slice** the ('doggo', 'floofer', 'pupper', 'puppo') columns from the whole table\n",
        "- **combine** them in to a single column named **dog_stage** using [ffill]() and\n",
        "- **concat** it back to the twitter_archive table"
      ]
    },
    {
      "cell_type": "markdown",
      "metadata": {
        "id": "BvpFB9Glwwyi"
      },
      "source": [
        "#### Code"
      ]
    },
    {
      "cell_type": "code",
      "execution_count": null,
      "metadata": {
        "id": "L5LkbTEzwwyi",
        "outputId": "ddfbab2f-2f6a-4b36-eef4-111d08b9e950"
      },
      "outputs": [
        {
          "data": {
            "text/html": [
              "<div>\n",
              "<style scoped>\n",
              "    .dataframe tbody tr th:only-of-type {\n",
              "        vertical-align: middle;\n",
              "    }\n",
              "\n",
              "    .dataframe tbody tr th {\n",
              "        vertical-align: top;\n",
              "    }\n",
              "\n",
              "    .dataframe thead th {\n",
              "        text-align: right;\n",
              "    }\n",
              "</style>\n",
              "<table border=\"1\" class=\"dataframe\">\n",
              "  <thead>\n",
              "    <tr style=\"text-align: right;\">\n",
              "      <th></th>\n",
              "      <th>tweet_id</th>\n",
              "      <th>in_reply_to_status_id</th>\n",
              "      <th>in_reply_to_user_id</th>\n",
              "      <th>timestamp</th>\n",
              "      <th>source</th>\n",
              "      <th>text</th>\n",
              "      <th>retweeted_status_id</th>\n",
              "      <th>retweeted_status_user_id</th>\n",
              "      <th>retweeted_status_timestamp</th>\n",
              "      <th>expanded_urls</th>\n",
              "      <th>rating_numerator</th>\n",
              "      <th>rating_denominator</th>\n",
              "      <th>name</th>\n",
              "      <th>doggo</th>\n",
              "      <th>floofer</th>\n",
              "      <th>pupper</th>\n",
              "      <th>puppo</th>\n",
              "    </tr>\n",
              "  </thead>\n",
              "  <tbody>\n",
              "    <tr>\n",
              "      <th>0</th>\n",
              "      <td>892420643555336193</td>\n",
              "      <td>NaN</td>\n",
              "      <td>NaN</td>\n",
              "      <td>2017-08-01 16:23:56 +0000</td>\n",
              "      <td>&lt;a href=\"http://twitter.com/download/iphone\" r...</td>\n",
              "      <td>This is Phineas. He's a mystical boy. Only eve...</td>\n",
              "      <td>NaN</td>\n",
              "      <td>NaN</td>\n",
              "      <td>NaN</td>\n",
              "      <td>https://twitter.com/dog_rates/status/892420643...</td>\n",
              "      <td>13</td>\n",
              "      <td>10</td>\n",
              "      <td>Phineas</td>\n",
              "      <td>None</td>\n",
              "      <td>None</td>\n",
              "      <td>None</td>\n",
              "      <td>None</td>\n",
              "    </tr>\n",
              "    <tr>\n",
              "      <th>1</th>\n",
              "      <td>892177421306343426</td>\n",
              "      <td>NaN</td>\n",
              "      <td>NaN</td>\n",
              "      <td>2017-08-01 00:17:27 +0000</td>\n",
              "      <td>&lt;a href=\"http://twitter.com/download/iphone\" r...</td>\n",
              "      <td>This is Tilly. She's just checking pup on you....</td>\n",
              "      <td>NaN</td>\n",
              "      <td>NaN</td>\n",
              "      <td>NaN</td>\n",
              "      <td>https://twitter.com/dog_rates/status/892177421...</td>\n",
              "      <td>13</td>\n",
              "      <td>10</td>\n",
              "      <td>Tilly</td>\n",
              "      <td>None</td>\n",
              "      <td>None</td>\n",
              "      <td>None</td>\n",
              "      <td>None</td>\n",
              "    </tr>\n",
              "  </tbody>\n",
              "</table>\n",
              "</div>"
            ],
            "text/plain": [
              "             tweet_id  in_reply_to_status_id  in_reply_to_user_id  \\\n",
              "0  892420643555336193                    NaN                  NaN   \n",
              "1  892177421306343426                    NaN                  NaN   \n",
              "\n",
              "                   timestamp  \\\n",
              "0  2017-08-01 16:23:56 +0000   \n",
              "1  2017-08-01 00:17:27 +0000   \n",
              "\n",
              "                                              source  \\\n",
              "0  <a href=\"http://twitter.com/download/iphone\" r...   \n",
              "1  <a href=\"http://twitter.com/download/iphone\" r...   \n",
              "\n",
              "                                                text  retweeted_status_id  \\\n",
              "0  This is Phineas. He's a mystical boy. Only eve...                  NaN   \n",
              "1  This is Tilly. She's just checking pup on you....                  NaN   \n",
              "\n",
              "   retweeted_status_user_id retweeted_status_timestamp  \\\n",
              "0                       NaN                        NaN   \n",
              "1                       NaN                        NaN   \n",
              "\n",
              "                                       expanded_urls  rating_numerator  \\\n",
              "0  https://twitter.com/dog_rates/status/892420643...                13   \n",
              "1  https://twitter.com/dog_rates/status/892177421...                13   \n",
              "\n",
              "   rating_denominator     name doggo floofer pupper puppo  \n",
              "0                  10  Phineas  None    None   None  None  \n",
              "1                  10    Tilly  None    None   None  None  "
            ]
          },
          "execution_count": 30,
          "metadata": {},
          "output_type": "execute_result"
        }
      ],
      "source": [
        "# twitter_archive_df_clean = twitter_archive_df.copy()\n",
        "twitter_archive_df_clean.head(2)\n",
        "# twitter_archive_df_clean.columns"
      ]
    },
    {
      "cell_type": "code",
      "execution_count": null,
      "metadata": {
        "id": "BBX_CUNowwyi",
        "outputId": "4a9c61b7-bf5b-46d6-f02f-7a6abef7173e"
      },
      "outputs": [
        {
          "data": {
            "text/html": [
              "<div>\n",
              "<style scoped>\n",
              "    .dataframe tbody tr th:only-of-type {\n",
              "        vertical-align: middle;\n",
              "    }\n",
              "\n",
              "    .dataframe tbody tr th {\n",
              "        vertical-align: top;\n",
              "    }\n",
              "\n",
              "    .dataframe thead th {\n",
              "        text-align: right;\n",
              "    }\n",
              "</style>\n",
              "<table border=\"1\" class=\"dataframe\">\n",
              "  <thead>\n",
              "    <tr style=\"text-align: right;\">\n",
              "      <th></th>\n",
              "      <th>doggo</th>\n",
              "      <th>floofer</th>\n",
              "      <th>pupper</th>\n",
              "      <th>puppo</th>\n",
              "    </tr>\n",
              "  </thead>\n",
              "  <tbody>\n",
              "    <tr>\n",
              "      <th>0</th>\n",
              "      <td>None</td>\n",
              "      <td>None</td>\n",
              "      <td>None</td>\n",
              "      <td>None</td>\n",
              "    </tr>\n",
              "    <tr>\n",
              "      <th>1</th>\n",
              "      <td>None</td>\n",
              "      <td>None</td>\n",
              "      <td>None</td>\n",
              "      <td>None</td>\n",
              "    </tr>\n",
              "  </tbody>\n",
              "</table>\n",
              "</div>"
            ],
            "text/plain": [
              "  doggo floofer pupper puppo\n",
              "0  None    None   None  None\n",
              "1  None    None   None  None"
            ]
          },
          "execution_count": 31,
          "metadata": {},
          "output_type": "execute_result"
        }
      ],
      "source": [
        "dog_stages_df = twitter_archive_df_clean.loc[:,'doggo':'puppo']\n",
        "dog_stages_df.head(2)"
      ]
    },
    {
      "cell_type": "code",
      "execution_count": null,
      "metadata": {
        "id": "VtQ3ME-Twwyi",
        "outputId": "3365c4e8-b7c5-44ff-ae2d-0400ba69a2ad"
      },
      "outputs": [
        {
          "data": {
            "text/html": [
              "<div>\n",
              "<style scoped>\n",
              "    .dataframe tbody tr th:only-of-type {\n",
              "        vertical-align: middle;\n",
              "    }\n",
              "\n",
              "    .dataframe tbody tr th {\n",
              "        vertical-align: top;\n",
              "    }\n",
              "\n",
              "    .dataframe thead th {\n",
              "        text-align: right;\n",
              "    }\n",
              "</style>\n",
              "<table border=\"1\" class=\"dataframe\">\n",
              "  <thead>\n",
              "    <tr style=\"text-align: right;\">\n",
              "      <th></th>\n",
              "      <th>doggo</th>\n",
              "      <th>floofer</th>\n",
              "      <th>pupper</th>\n",
              "      <th>puppo</th>\n",
              "    </tr>\n",
              "  </thead>\n",
              "  <tbody>\n",
              "    <tr>\n",
              "      <th>1201</th>\n",
              "      <td>NaN</td>\n",
              "      <td>NaN</td>\n",
              "      <td>pupper</td>\n",
              "      <td>NaN</td>\n",
              "    </tr>\n",
              "    <tr>\n",
              "      <th>2284</th>\n",
              "      <td>NaN</td>\n",
              "      <td>NaN</td>\n",
              "      <td>NaN</td>\n",
              "      <td>NaN</td>\n",
              "    </tr>\n",
              "  </tbody>\n",
              "</table>\n",
              "</div>"
            ],
            "text/plain": [
              "     doggo floofer  pupper puppo\n",
              "1201   NaN     NaN  pupper   NaN\n",
              "2284   NaN     NaN     NaN   NaN"
            ]
          },
          "execution_count": 32,
          "metadata": {},
          "output_type": "execute_result"
        }
      ],
      "source": [
        "# change \"None\" to numpy Nan\n",
        "dog_stages_df.replace(to_replace = \"None\", value = np.nan, inplace = True)\n",
        "\n",
        "dog_stages_df.sample(2)"
      ]
    },
    {
      "cell_type": "markdown",
      "metadata": {
        "id": "RDykbOx3wwyi"
      },
      "source": [
        "fill the NaN values with the respective dog stage in the row such that only the last value is retained\n",
        "\n",
        "**Note**: this will not consider the few cases where the dog stage is more than one. Afterall, each dog can only be in one dog stage at a time."
      ]
    },
    {
      "cell_type": "code",
      "execution_count": null,
      "metadata": {
        "id": "cn-lNZViwwyi",
        "outputId": "e18ecb05-1de2-462d-d049-e41ba45b47b6"
      },
      "outputs": [
        {
          "data": {
            "text/plain": [
              "dog_stage\n",
              "pupper       257\n",
              "doggo         83\n",
              "puppo         30\n",
              "floofer       10\n",
              "dtype: int64"
            ]
          },
          "execution_count": 33,
          "metadata": {},
          "output_type": "execute_result"
        }
      ],
      "source": [
        "# forward fill the the NaN values and save to a new column\n",
        "\n",
        "dog_stages_df = dog_stages_df.ffill(axis=1).iloc[:, -1].to_frame('dog_stage')\n",
        "dog_stages_df.value_counts()"
      ]
    },
    {
      "cell_type": "code",
      "execution_count": null,
      "metadata": {
        "id": "4O_TQpYIwwyj"
      },
      "outputs": [],
      "source": [
        "# join the slice back to the whole dataframe\n",
        "twitter_archive_df_clean = pd.concat([twitter_archive_df_clean.loc[:,'tweet_id':'name'], dog_stages_df], axis = 1)"
      ]
    },
    {
      "cell_type": "markdown",
      "metadata": {
        "id": "kzxVSRlEwwyj"
      },
      "source": [
        "#### Test"
      ]
    },
    {
      "cell_type": "code",
      "execution_count": null,
      "metadata": {
        "id": "DYifeyDYwwyj",
        "outputId": "1089ade0-1fa6-4dee-ff58-708d75729256"
      },
      "outputs": [
        {
          "data": {
            "text/html": [
              "<div>\n",
              "<style scoped>\n",
              "    .dataframe tbody tr th:only-of-type {\n",
              "        vertical-align: middle;\n",
              "    }\n",
              "\n",
              "    .dataframe tbody tr th {\n",
              "        vertical-align: top;\n",
              "    }\n",
              "\n",
              "    .dataframe thead th {\n",
              "        text-align: right;\n",
              "    }\n",
              "</style>\n",
              "<table border=\"1\" class=\"dataframe\">\n",
              "  <thead>\n",
              "    <tr style=\"text-align: right;\">\n",
              "      <th></th>\n",
              "      <th>tweet_id</th>\n",
              "      <th>in_reply_to_status_id</th>\n",
              "      <th>in_reply_to_user_id</th>\n",
              "      <th>timestamp</th>\n",
              "      <th>source</th>\n",
              "      <th>text</th>\n",
              "      <th>retweeted_status_id</th>\n",
              "      <th>retweeted_status_user_id</th>\n",
              "      <th>retweeted_status_timestamp</th>\n",
              "      <th>expanded_urls</th>\n",
              "      <th>rating_numerator</th>\n",
              "      <th>rating_denominator</th>\n",
              "      <th>name</th>\n",
              "      <th>dog_stage</th>\n",
              "    </tr>\n",
              "  </thead>\n",
              "  <tbody>\n",
              "    <tr>\n",
              "      <th>0</th>\n",
              "      <td>892420643555336193</td>\n",
              "      <td>NaN</td>\n",
              "      <td>NaN</td>\n",
              "      <td>2017-08-01 16:23:56 +0000</td>\n",
              "      <td>&lt;a href=\"http://twitter.com/download/iphone\" r...</td>\n",
              "      <td>This is Phineas. He's a mystical boy. Only eve...</td>\n",
              "      <td>NaN</td>\n",
              "      <td>NaN</td>\n",
              "      <td>NaN</td>\n",
              "      <td>https://twitter.com/dog_rates/status/892420643...</td>\n",
              "      <td>13</td>\n",
              "      <td>10</td>\n",
              "      <td>Phineas</td>\n",
              "      <td>NaN</td>\n",
              "    </tr>\n",
              "    <tr>\n",
              "      <th>1</th>\n",
              "      <td>892177421306343426</td>\n",
              "      <td>NaN</td>\n",
              "      <td>NaN</td>\n",
              "      <td>2017-08-01 00:17:27 +0000</td>\n",
              "      <td>&lt;a href=\"http://twitter.com/download/iphone\" r...</td>\n",
              "      <td>This is Tilly. She's just checking pup on you....</td>\n",
              "      <td>NaN</td>\n",
              "      <td>NaN</td>\n",
              "      <td>NaN</td>\n",
              "      <td>https://twitter.com/dog_rates/status/892177421...</td>\n",
              "      <td>13</td>\n",
              "      <td>10</td>\n",
              "      <td>Tilly</td>\n",
              "      <td>NaN</td>\n",
              "    </tr>\n",
              "  </tbody>\n",
              "</table>\n",
              "</div>"
            ],
            "text/plain": [
              "             tweet_id  in_reply_to_status_id  in_reply_to_user_id  \\\n",
              "0  892420643555336193                    NaN                  NaN   \n",
              "1  892177421306343426                    NaN                  NaN   \n",
              "\n",
              "                   timestamp  \\\n",
              "0  2017-08-01 16:23:56 +0000   \n",
              "1  2017-08-01 00:17:27 +0000   \n",
              "\n",
              "                                              source  \\\n",
              "0  <a href=\"http://twitter.com/download/iphone\" r...   \n",
              "1  <a href=\"http://twitter.com/download/iphone\" r...   \n",
              "\n",
              "                                                text  retweeted_status_id  \\\n",
              "0  This is Phineas. He's a mystical boy. Only eve...                  NaN   \n",
              "1  This is Tilly. She's just checking pup on you....                  NaN   \n",
              "\n",
              "   retweeted_status_user_id retweeted_status_timestamp  \\\n",
              "0                       NaN                        NaN   \n",
              "1                       NaN                        NaN   \n",
              "\n",
              "                                       expanded_urls  rating_numerator  \\\n",
              "0  https://twitter.com/dog_rates/status/892420643...                13   \n",
              "1  https://twitter.com/dog_rates/status/892177421...                13   \n",
              "\n",
              "   rating_denominator     name dog_stage  \n",
              "0                  10  Phineas       NaN  \n",
              "1                  10    Tilly       NaN  "
            ]
          },
          "execution_count": 35,
          "metadata": {},
          "output_type": "execute_result"
        }
      ],
      "source": [
        "twitter_archive_df_clean.head(2)"
      ]
    },
    {
      "cell_type": "markdown",
      "metadata": {
        "id": "5GqmhV7Awwyj"
      },
      "source": [
        "### Tidiness issue #3:\n",
        "**twitterAPI_extract table should be a part of the twitter archive table***"
      ]
    },
    {
      "cell_type": "markdown",
      "metadata": {
        "id": "IaPEdqfEwwyj"
      },
      "source": [
        "#### define\n",
        "\n",
        "**join** the twitterAPI data to the twitter archive table using the 'tweet id'\n",
        "\n",
        "> before this we need to treat the **quality issue #8** - rename the 'id' column to 'tweet_id' to avoid inconsistency\n"
      ]
    },
    {
      "cell_type": "markdown",
      "metadata": {
        "id": "mk-oGXLJwwyj"
      },
      "source": [
        "#### code"
      ]
    },
    {
      "cell_type": "code",
      "execution_count": null,
      "metadata": {
        "id": "I7j-TD41wwyj",
        "outputId": "67eba2ef-ffb6-48d3-b0eb-9c4ec2f1d7fe"
      },
      "outputs": [
        {
          "name": "stdout",
          "output_type": "stream",
          "text": [
            "<class 'pandas.core.frame.DataFrame'>\n",
            "RangeIndex: 2326 entries, 0 to 2325\n",
            "Data columns (total 3 columns):\n",
            " #   Column          Non-Null Count  Dtype\n",
            "---  ------          --------------  -----\n",
            " 0   id              2326 non-null   int64\n",
            " 1   retweet_count   2326 non-null   int64\n",
            " 2   favorite_count  2326 non-null   int64\n",
            "dtypes: int64(3)\n",
            "memory usage: 54.6 KB\n"
          ]
        }
      ],
      "source": [
        "twitterAPI_extract_df.info()"
      ]
    },
    {
      "cell_type": "code",
      "execution_count": null,
      "metadata": {
        "id": "hw1QOvENwwyk"
      },
      "outputs": [],
      "source": [
        "twitterAPI_extract_df_clean.rename(columns = {'id' : 'tweet_id'}, inplace =  True)\n",
        "\n",
        "twitter_archive_df_clean = pd.merge(twitter_archive_df_clean, twitterAPI_extract_df_clean, on='tweet_id', how = 'outer')"
      ]
    },
    {
      "cell_type": "markdown",
      "metadata": {
        "id": "PgJK0RVEwwyk"
      },
      "source": [
        "#### Test"
      ]
    },
    {
      "cell_type": "code",
      "execution_count": null,
      "metadata": {
        "id": "oF657gzywwyk",
        "outputId": "ed1862c9-a23e-46a1-a1af-203c8d187741"
      },
      "outputs": [
        {
          "data": {
            "text/html": [
              "<div>\n",
              "<style scoped>\n",
              "    .dataframe tbody tr th:only-of-type {\n",
              "        vertical-align: middle;\n",
              "    }\n",
              "\n",
              "    .dataframe tbody tr th {\n",
              "        vertical-align: top;\n",
              "    }\n",
              "\n",
              "    .dataframe thead th {\n",
              "        text-align: right;\n",
              "    }\n",
              "</style>\n",
              "<table border=\"1\" class=\"dataframe\">\n",
              "  <thead>\n",
              "    <tr style=\"text-align: right;\">\n",
              "      <th></th>\n",
              "      <th>tweet_id</th>\n",
              "      <th>in_reply_to_status_id</th>\n",
              "      <th>in_reply_to_user_id</th>\n",
              "      <th>timestamp</th>\n",
              "      <th>source</th>\n",
              "      <th>text</th>\n",
              "      <th>retweeted_status_id</th>\n",
              "      <th>retweeted_status_user_id</th>\n",
              "      <th>retweeted_status_timestamp</th>\n",
              "      <th>expanded_urls</th>\n",
              "      <th>rating_numerator</th>\n",
              "      <th>rating_denominator</th>\n",
              "      <th>name</th>\n",
              "      <th>dog_stage</th>\n",
              "      <th>retweet_count</th>\n",
              "      <th>favorite_count</th>\n",
              "    </tr>\n",
              "  </thead>\n",
              "  <tbody>\n",
              "    <tr>\n",
              "      <th>0</th>\n",
              "      <td>892420643555336193</td>\n",
              "      <td>NaN</td>\n",
              "      <td>NaN</td>\n",
              "      <td>2017-08-01 16:23:56 +0000</td>\n",
              "      <td>&lt;a href=\"http://twitter.com/download/iphone\" r...</td>\n",
              "      <td>This is Phineas. He's a mystical boy. Only eve...</td>\n",
              "      <td>NaN</td>\n",
              "      <td>NaN</td>\n",
              "      <td>NaN</td>\n",
              "      <td>https://twitter.com/dog_rates/status/892420643...</td>\n",
              "      <td>13</td>\n",
              "      <td>10</td>\n",
              "      <td>Phineas</td>\n",
              "      <td>NaN</td>\n",
              "      <td>6996.0</td>\n",
              "      <td>33768.0</td>\n",
              "    </tr>\n",
              "    <tr>\n",
              "      <th>1</th>\n",
              "      <td>892177421306343426</td>\n",
              "      <td>NaN</td>\n",
              "      <td>NaN</td>\n",
              "      <td>2017-08-01 00:17:27 +0000</td>\n",
              "      <td>&lt;a href=\"http://twitter.com/download/iphone\" r...</td>\n",
              "      <td>This is Tilly. She's just checking pup on you....</td>\n",
              "      <td>NaN</td>\n",
              "      <td>NaN</td>\n",
              "      <td>NaN</td>\n",
              "      <td>https://twitter.com/dog_rates/status/892177421...</td>\n",
              "      <td>13</td>\n",
              "      <td>10</td>\n",
              "      <td>Tilly</td>\n",
              "      <td>NaN</td>\n",
              "      <td>5295.0</td>\n",
              "      <td>29292.0</td>\n",
              "    </tr>\n",
              "  </tbody>\n",
              "</table>\n",
              "</div>"
            ],
            "text/plain": [
              "             tweet_id  in_reply_to_status_id  in_reply_to_user_id  \\\n",
              "0  892420643555336193                    NaN                  NaN   \n",
              "1  892177421306343426                    NaN                  NaN   \n",
              "\n",
              "                   timestamp  \\\n",
              "0  2017-08-01 16:23:56 +0000   \n",
              "1  2017-08-01 00:17:27 +0000   \n",
              "\n",
              "                                              source  \\\n",
              "0  <a href=\"http://twitter.com/download/iphone\" r...   \n",
              "1  <a href=\"http://twitter.com/download/iphone\" r...   \n",
              "\n",
              "                                                text  retweeted_status_id  \\\n",
              "0  This is Phineas. He's a mystical boy. Only eve...                  NaN   \n",
              "1  This is Tilly. She's just checking pup on you....                  NaN   \n",
              "\n",
              "   retweeted_status_user_id retweeted_status_timestamp  \\\n",
              "0                       NaN                        NaN   \n",
              "1                       NaN                        NaN   \n",
              "\n",
              "                                       expanded_urls  rating_numerator  \\\n",
              "0  https://twitter.com/dog_rates/status/892420643...                13   \n",
              "1  https://twitter.com/dog_rates/status/892177421...                13   \n",
              "\n",
              "   rating_denominator     name dog_stage  retweet_count  favorite_count  \n",
              "0                  10  Phineas       NaN         6996.0         33768.0  \n",
              "1                  10    Tilly       NaN         5295.0         29292.0  "
            ]
          },
          "execution_count": 38,
          "metadata": {},
          "output_type": "execute_result"
        }
      ],
      "source": [
        "twitter_archive_df_clean.head(2)"
      ]
    },
    {
      "cell_type": "code",
      "execution_count": null,
      "metadata": {
        "id": "A4p_ZPKjwwyk",
        "outputId": "6b7b6663-4f19-4348-929b-80c03f643260"
      },
      "outputs": [
        {
          "name": "stdout",
          "output_type": "stream",
          "text": [
            "<class 'pandas.core.frame.DataFrame'>\n",
            "Int64Index: 2356 entries, 0 to 2355\n",
            "Data columns (total 16 columns):\n",
            " #   Column                      Non-Null Count  Dtype  \n",
            "---  ------                      --------------  -----  \n",
            " 0   tweet_id                    2356 non-null   int64  \n",
            " 1   in_reply_to_status_id       78 non-null     float64\n",
            " 2   in_reply_to_user_id         78 non-null     float64\n",
            " 3   timestamp                   2356 non-null   object \n",
            " 4   source                      2356 non-null   object \n",
            " 5   text                        2356 non-null   object \n",
            " 6   retweeted_status_id         181 non-null    float64\n",
            " 7   retweeted_status_user_id    181 non-null    float64\n",
            " 8   retweeted_status_timestamp  181 non-null    object \n",
            " 9   expanded_urls               2297 non-null   object \n",
            " 10  rating_numerator            2356 non-null   int64  \n",
            " 11  rating_denominator          2356 non-null   int64  \n",
            " 12  name                        2356 non-null   object \n",
            " 13  dog_stage                   380 non-null    object \n",
            " 14  retweet_count               2326 non-null   float64\n",
            " 15  favorite_count              2326 non-null   float64\n",
            "dtypes: float64(6), int64(3), object(7)\n",
            "memory usage: 312.9+ KB\n"
          ]
        }
      ],
      "source": [
        "twitter_archive_df_clean.info()"
      ]
    },
    {
      "cell_type": "markdown",
      "metadata": {
        "id": "kPfB-w0Nwwyk"
      },
      "source": [
        "'retweet_count' & 'favorite_count' have incorrect datatypes"
      ]
    },
    {
      "cell_type": "code",
      "execution_count": null,
      "metadata": {
        "id": "CKJK2h1Wwwyk"
      },
      "outputs": [],
      "source": [
        "# twitter_archive_df_clean.expanded_urls.value_counts()\n",
        "# twitter_archive_df_clean.expanded_urls = twitter_archive_df_clean.expanded_urls.str.split(',', expand = True)"
      ]
    },
    {
      "cell_type": "code",
      "execution_count": null,
      "metadata": {
        "scrolled": true,
        "id": "6jHX89-Gwwyk"
      },
      "outputs": [],
      "source": [
        "# img = pd.DataFrame(twitter_archive_df_clean.expanded_urls, columns = ['img'])\n",
        "# HTML(img.to_html(escape=False, formatters=dict(expanded_urls = url_to_image_html)))\n",
        "\n",
        "# img.head(3)"
      ]
    },
    {
      "cell_type": "markdown",
      "metadata": {
        "id": "ar3iztupwwyl"
      },
      "source": [
        "### Cleaning Issue 1: twitter_archive data\n",
        "\n",
        "Some tweets do not have 'expanded urls' which contains the dog image"
      ]
    },
    {
      "cell_type": "markdown",
      "metadata": {
        "id": "byA75h6Twwyl"
      },
      "source": [
        "#### Define\n",
        "\n",
        "At this point, we have no way of gathering these missing data. So we will just move on."
      ]
    },
    {
      "cell_type": "code",
      "execution_count": null,
      "metadata": {
        "id": "ZFLQjC72wwyl",
        "outputId": "ef390aa1-7614-4b04-a3f9-723f482f2a03"
      },
      "outputs": [
        {
          "data": {
            "text/plain": [
              "59"
            ]
          },
          "execution_count": 42,
          "metadata": {},
          "output_type": "execute_result"
        }
      ],
      "source": [
        "twitter_archive_df_clean.expanded_urls.isna().sum()"
      ]
    },
    {
      "cell_type": "markdown",
      "metadata": {
        "id": "3wTIi8gtwwyl"
      },
      "source": [
        "### Cleaning Issue 2: twitter_archive\n",
        "\n",
        "**missing data (retweet_count, favorite_count)**"
      ]
    },
    {
      "cell_type": "markdown",
      "metadata": {
        "id": "D2guocTqwwyl"
      },
      "source": [
        "#### Define\n",
        "\n",
        "You will notice that the dtypes for the *'retweet_count\"* and *'favorite_count'* columns changed to *float* after the meger with the twitter_archive_df. So we need to change them back to *int*.\n",
        "\n",
        "However, when we try this, it reminds us of the **missing values** in these columns. Let's clean this up, first then we will change the dtypes under **quality issue 5**"
      ]
    },
    {
      "cell_type": "code",
      "execution_count": null,
      "metadata": {
        "id": "Hxv3KSCEwwyl",
        "outputId": "76d4b55c-8917-4d7f-9e5e-57ea3538c917"
      },
      "outputs": [
        {
          "data": {
            "text/plain": [
              "30"
            ]
          },
          "execution_count": 43,
          "metadata": {},
          "output_type": "execute_result"
        }
      ],
      "source": [
        "twitter_archive_df_clean.retweet_count.isna().sum()"
      ]
    },
    {
      "cell_type": "code",
      "execution_count": null,
      "metadata": {
        "id": "5OfzPuWhwwyl",
        "outputId": "6f04bbff-4437-4042-bd74-461259fca25d"
      },
      "outputs": [
        {
          "data": {
            "text/plain": [
              "1039    144647.0\n",
              "413     123902.0\n",
              "534     111491.0\n",
              "135     108764.0\n",
              "1079    107079.0\n",
              "          ...   \n",
              "887          NaN\n",
              "890          NaN\n",
              "932          NaN\n",
              "1139         NaN\n",
              "1726         NaN\n",
              "Name: favorite_count, Length: 2356, dtype: float64"
            ]
          },
          "execution_count": 44,
          "metadata": {},
          "output_type": "execute_result"
        }
      ],
      "source": [
        "twitter_archive_df_clean.favorite_count.sort_values(ascending=False)"
      ]
    },
    {
      "cell_type": "markdown",
      "metadata": {
        "id": "f6ZPcjjfwwyl"
      },
      "source": [
        "> we shall [fill these NaNs with the mode](https://vitalflux.com/pandas-impute-missing-values-mean-median-mode/) since the data is skewed (see viz)."
      ]
    },
    {
      "cell_type": "code",
      "execution_count": null,
      "metadata": {
        "scrolled": true,
        "id": "n5m1--jGwwym",
        "outputId": "c0dad1b2-c8da-4930-a860-c7e4079e08f7"
      },
      "outputs": [
        {
          "name": "stderr",
          "output_type": "stream",
          "text": [
            "C:\\Users\\MAX.NG\\anaconda3\\lib\\site-packages\\seaborn\\_decorators.py:36: FutureWarning: Pass the following variable as a keyword arg: x. From version 0.12, the only valid positional argument will be `data`, and passing other arguments without an explicit keyword will result in an error or misinterpretation.\n",
            "  warnings.warn(\n"
          ]
        },
        {
          "data": {
            "image/png": "[encoded data removed]",
            "text/plain": [
              "<Figure size 432x288 with 1 Axes>"
            ]
          },
          "metadata": {
            "needs_background": "light"
          },
          "output_type": "display_data"
        }
      ],
      "source": [
        "sns.boxplot(twitter_archive_df_clean.retweet_count);"
      ]
    },
    {
      "cell_type": "code",
      "execution_count": null,
      "metadata": {
        "id": "eM4h9zr2wwym",
        "outputId": "6ae9046a-037e-427f-8924-7c478a9446db"
      },
      "outputs": [
        {
          "name": "stderr",
          "output_type": "stream",
          "text": [
            "C:\\Users\\MAX.NG\\anaconda3\\lib\\site-packages\\seaborn\\_decorators.py:36: FutureWarning: Pass the following variable as a keyword arg: x. From version 0.12, the only valid positional argument will be `data`, and passing other arguments without an explicit keyword will result in an error or misinterpretation.\n",
            "  warnings.warn(\n"
          ]
        },
        {
          "data": {
            "image/png": "[encoded data removed]",
            "text/plain": [
              "<Figure size 432x288 with 1 Axes>"
            ]
          },
          "metadata": {
            "needs_background": "light"
          },
          "output_type": "display_data"
        }
      ],
      "source": [
        "sns.boxplot(twitter_archive_df_clean.favorite_count);"
      ]
    },
    {
      "cell_type": "markdown",
      "metadata": {
        "id": "72fLQ3eWwwym"
      },
      "source": [
        "### Code"
      ]
    },
    {
      "cell_type": "code",
      "execution_count": null,
      "metadata": {
        "id": "cBhqjgt9wwym"
      },
      "outputs": [],
      "source": [
        "# some times, we can have more than 1 modes hence the index [0]\n",
        "mode_retweet = twitter_archive_df_clean.retweet_count.mode()[0]\n",
        "mode_favorite = twitter_archive_df_clean.favorite_count.mode()[0]\n",
        "\n",
        "twitter_archive_df_clean.retweet_count = twitter_archive_df_clean.retweet_count.fillna(mode_retweet)\n",
        "twitter_archive_df_clean.favorite_count = twitter_archive_df_clean.favorite_count.fillna(mode_favorite)"
      ]
    },
    {
      "cell_type": "markdown",
      "metadata": {
        "id": "ssat1pVcwwym"
      },
      "source": [
        "#### Test"
      ]
    },
    {
      "cell_type": "code",
      "execution_count": null,
      "metadata": {
        "id": "moNg2cvZwwym",
        "outputId": "906670da-bef9-41b6-f6e0-e1593743eba4"
      },
      "outputs": [
        {
          "data": {
            "text/plain": [
              "0"
            ]
          },
          "execution_count": 48,
          "metadata": {},
          "output_type": "execute_result"
        }
      ],
      "source": [
        "sum(twitter_archive_df_clean.retweet_count.isna())"
      ]
    },
    {
      "cell_type": "code",
      "execution_count": null,
      "metadata": {
        "id": "baSmWTASwwym",
        "outputId": "9bbf6825-eede-40f9-af25-b45ae04e61b7"
      },
      "outputs": [
        {
          "data": {
            "text/plain": [
              "0"
            ]
          },
          "execution_count": 49,
          "metadata": {},
          "output_type": "execute_result"
        }
      ],
      "source": [
        "sum(twitter_archive_df_clean.favorite_count.isna())"
      ]
    },
    {
      "cell_type": "markdown",
      "metadata": {
        "id": "1pKFCN7Uwwym"
      },
      "source": [
        "### Cleaning Issue 3: twitter_archive\n",
        "\n",
        "**the retweets are not needed for analysis**"
      ]
    },
    {
      "cell_type": "markdown",
      "metadata": {
        "id": "ha3qqzCgwwyn"
      },
      "source": [
        "#### Define\n",
        "\n",
        "- **drop** the rows where the 'retweeted_status_id' or the in_reply_to_status_id column is not blank.\n",
        "\n",
        "- then **drop** the ('in_reply_to_status_id', 'in_reply_to_user_id', 'retweeted_status_id', 'retweeted_status_user_id', 'retweeted_status_timestamp') columns."
      ]
    },
    {
      "cell_type": "code",
      "execution_count": null,
      "metadata": {
        "id": "EU2zIzozwwyn"
      },
      "outputs": [],
      "source": [
        "# twitter_archive_df_clean[twitter_archive_df_clean.retweeted_status_id.notna()]"
      ]
    },
    {
      "cell_type": "markdown",
      "metadata": {
        "id": "894qyaClwwyn"
      },
      "source": [
        "#### Code"
      ]
    },
    {
      "cell_type": "code",
      "execution_count": null,
      "metadata": {
        "id": "qds7tFYywwyn"
      },
      "outputs": [],
      "source": [
        "# you can use a function here\n",
        "\n",
        "twitter_archive_df_clean = twitter_archive_df_clean[twitter_archive_df_clean.retweeted_status_id.isnull()]\n",
        "\n",
        "twitter_archive_df_clean = twitter_archive_df_clean[twitter_archive_df_clean.in_reply_to_status_id.isna()]\n",
        "\n",
        "twitter_archive_df_clean.drop(['in_reply_to_status_id', 'in_reply_to_user_id', 'retweeted_status_id', 'retweeted_status_user_id', 'retweeted_status_timestamp'], axis = 1, inplace = True)"
      ]
    },
    {
      "cell_type": "markdown",
      "metadata": {
        "id": "l9_sC8ZYwwyo"
      },
      "source": [
        "#### Test"
      ]
    },
    {
      "cell_type": "code",
      "execution_count": null,
      "metadata": {
        "id": "oIITh_DAwwyo",
        "outputId": "e649414f-0ef6-4a67-c16c-57f810138e33"
      },
      "outputs": [
        {
          "name": "stdout",
          "output_type": "stream",
          "text": [
            "<class 'pandas.core.frame.DataFrame'>\n",
            "Int64Index: 2097 entries, 0 to 2355\n",
            "Data columns (total 11 columns):\n",
            " #   Column              Non-Null Count  Dtype  \n",
            "---  ------              --------------  -----  \n",
            " 0   tweet_id            2097 non-null   int64  \n",
            " 1   timestamp           2097 non-null   object \n",
            " 2   source              2097 non-null   object \n",
            " 3   text                2097 non-null   object \n",
            " 4   expanded_urls       2094 non-null   object \n",
            " 5   rating_numerator    2097 non-null   int64  \n",
            " 6   rating_denominator  2097 non-null   int64  \n",
            " 7   name                2097 non-null   object \n",
            " 8   dog_stage           336 non-null    object \n",
            " 9   retweet_count       2097 non-null   float64\n",
            " 10  favorite_count      2097 non-null   float64\n",
            "dtypes: float64(2), int64(3), object(6)\n",
            "memory usage: 196.6+ KB\n"
          ]
        }
      ],
      "source": [
        "twitter_archive_df_clean.info()"
      ]
    },
    {
      "cell_type": "markdown",
      "metadata": {
        "id": "TVEtWRNdwwyo"
      },
      "source": [
        "### Cleaning Issue 4 - twitter_archive\n",
        "**erroneous ratings - line 516 sam's rating of 24/7 is invalid, (These ratings almost always have a denominator of 10.)**"
      ]
    },
    {
      "cell_type": "markdown",
      "metadata": {
        "id": "Bq5CLLq1wwyp"
      },
      "source": [
        "#### Define\n",
        "Since the data in this category are a few (17), we will drop them so that it doesn't impact our measure of distribution."
      ]
    },
    {
      "cell_type": "code",
      "execution_count": null,
      "metadata": {
        "collapsed": true,
        "id": "iy52tYVAwwyp"
      },
      "outputs": [],
      "source": [
        "twitter_archive_df_clean[twitter_archive_df_clean.rating_denominator != 10]"
      ]
    },
    {
      "cell_type": "markdown",
      "metadata": {
        "id": "Vmp9l6qHwwyp"
      },
      "source": [
        "#### Code"
      ]
    },
    {
      "cell_type": "code",
      "execution_count": null,
      "metadata": {
        "id": "v79pvwX-wwyp"
      },
      "outputs": [],
      "source": [
        "twitter_archive_df_clean = twitter_archive_df_clean[twitter_archive_df_clean.rating_denominator == 10]"
      ]
    },
    {
      "cell_type": "markdown",
      "metadata": {
        "id": "qUG4hnoMwwyp"
      },
      "source": [
        "#### Test"
      ]
    },
    {
      "cell_type": "code",
      "execution_count": null,
      "metadata": {
        "id": "BAOA-obowwyp",
        "outputId": "ba3eaf6d-a224-4a77-e63b-680361739fee"
      },
      "outputs": [
        {
          "data": {
            "text/plain": [
              "tweet_id              0\n",
              "timestamp             0\n",
              "source                0\n",
              "text                  0\n",
              "expanded_urls         0\n",
              "rating_numerator      0\n",
              "rating_denominator    0\n",
              "name                  0\n",
              "dog_stage             0\n",
              "retweet_count         0\n",
              "favorite_count        0\n",
              "dtype: int64"
            ]
          },
          "execution_count": 55,
          "metadata": {},
          "output_type": "execute_result"
        }
      ],
      "source": [
        "twitter_archive_df_clean[twitter_archive_df_clean.rating_denominator != 10].count()"
      ]
    },
    {
      "cell_type": "markdown",
      "metadata": {
        "id": "gUIW0se2wwyp"
      },
      "source": [
        "### Cleaning Issue 5: twitter_archive\n",
        "\n",
        "**erroneous dtypes for (tweet_id, timestamp, retweet_count, favorite_count)**"
      ]
    },
    {
      "cell_type": "markdown",
      "metadata": {
        "id": "AcDmgQ84wwyp"
      },
      "source": [
        "#### Define"
      ]
    },
    {
      "cell_type": "markdown",
      "metadata": {
        "id": "7XY_AYstwwyp"
      },
      "source": [
        "- convert tweet_id from **int** to **str** dtype and\n",
        "- timestamp to **datetime** dtype\n",
        "- convert retweet_count, favorite_count to **int**"
      ]
    },
    {
      "cell_type": "markdown",
      "metadata": {
        "id": "FEH8vMNQwwyp"
      },
      "source": [
        "#### Code"
      ]
    },
    {
      "cell_type": "code",
      "execution_count": null,
      "metadata": {
        "id": "Hj32JELPwwyp"
      },
      "outputs": [],
      "source": [
        "twitter_archive_df_clean.tweet_id = twitter_archive_df_clean.tweet_id.astype(str)\n",
        "\n",
        "twitter_archive_df_clean.timestamp = pd.to_datetime(twitter_archive_df_clean.timestamp)\n",
        "\n",
        "# change dtype from float to int\n",
        "twitter_archive_df_clean.retweet_count = twitter_archive_df_clean.retweet_count.astype('int64')\n",
        "\n",
        "twitter_archive_df_clean.favorite_count = twitter_archive_df_clean.favorite_count.astype('int64')"
      ]
    },
    {
      "cell_type": "markdown",
      "metadata": {
        "id": "I_ivaC2dwwyq"
      },
      "source": [
        "#### Test"
      ]
    },
    {
      "cell_type": "code",
      "execution_count": null,
      "metadata": {
        "scrolled": true,
        "id": "TjtvewYvwwyq",
        "outputId": "45eae305-f91d-47f6-a435-88964e52ff7a"
      },
      "outputs": [
        {
          "name": "stdout",
          "output_type": "stream",
          "text": [
            "<class 'pandas.core.frame.DataFrame'>\n",
            "Int64Index: 2080 entries, 0 to 2355\n",
            "Data columns (total 11 columns):\n",
            " #   Column              Non-Null Count  Dtype              \n",
            "---  ------              --------------  -----              \n",
            " 0   tweet_id            2080 non-null   object             \n",
            " 1   timestamp           2080 non-null   datetime64[ns, UTC]\n",
            " 2   source              2080 non-null   object             \n",
            " 3   text                2080 non-null   object             \n",
            " 4   expanded_urls       2077 non-null   object             \n",
            " 5   rating_numerator    2080 non-null   int64              \n",
            " 6   rating_denominator  2080 non-null   int64              \n",
            " 7   name                2080 non-null   object             \n",
            " 8   dog_stage           336 non-null    object             \n",
            " 9   retweet_count       2080 non-null   int64              \n",
            " 10  favorite_count      2080 non-null   int64              \n",
            "dtypes: datetime64[ns, UTC](1), int64(4), object(6)\n",
            "memory usage: 195.0+ KB\n"
          ]
        }
      ],
      "source": [
        "twitter_archive_df_clean.info()"
      ]
    },
    {
      "cell_type": "markdown",
      "metadata": {
        "id": "JKjuuziCwwyq"
      },
      "source": [
        "### Cleaning Issue 6: image_prediction data\n",
        "**erroneous dtype for (tweet_id)**"
      ]
    },
    {
      "cell_type": "code",
      "execution_count": null,
      "metadata": {
        "id": "qHXC53iEwwyq",
        "outputId": "62ed28ea-9fff-4ecb-9091-335ceee47ed8"
      },
      "outputs": [
        {
          "name": "stdout",
          "output_type": "stream",
          "text": [
            "<class 'pandas.core.frame.DataFrame'>\n",
            "RangeIndex: 6225 entries, 0 to 6224\n",
            "Data columns (total 7 columns):\n",
            " #   Column            Non-Null Count  Dtype  \n",
            "---  ------            --------------  -----  \n",
            " 0   tweet_id          6225 non-null   int64  \n",
            " 1   jpg_url           6225 non-null   object \n",
            " 2   img_num           6225 non-null   int64  \n",
            " 3   prediction_cycle  6225 non-null   object \n",
            " 4   prediction        6225 non-null   object \n",
            " 5   confidence        6225 non-null   float64\n",
            " 6   isDogBreed        6225 non-null   bool   \n",
            "dtypes: bool(1), float64(1), int64(2), object(3)\n",
            "memory usage: 298.0+ KB\n"
          ]
        }
      ],
      "source": [
        "image_prediction_df_clean.info()"
      ]
    },
    {
      "cell_type": "markdown",
      "metadata": {
        "id": "13gzYWZWwwyq"
      },
      "source": [
        "#### Define\n",
        "\n",
        "- convert the dtype from **int** to **str** dtype"
      ]
    },
    {
      "cell_type": "markdown",
      "metadata": {
        "id": "kmWF8UgCwwyq"
      },
      "source": [
        "#### Code"
      ]
    },
    {
      "cell_type": "code",
      "execution_count": null,
      "metadata": {
        "id": "tNsh-6fVwwyq"
      },
      "outputs": [],
      "source": [
        "# image_prediction_df_clean.tweet_id = image_prediction_df_clean.tweet_id.map(str)\n",
        "# image_prediction_df.tweet_id = image_prediction_df_clean.tweet_id.astype(pd.Int64Dtype())\n",
        "# pd.to_numeric(image_prediction_df_clean.tweet_id, errors = 'coerce', downcast='signed')\n",
        "image_prediction_df_clean.tweet_id = image_prediction_df_clean.tweet_id.astype(str)"
      ]
    },
    {
      "cell_type": "markdown",
      "metadata": {
        "id": "SXfhqDqYwwyq"
      },
      "source": [
        "#### Test"
      ]
    },
    {
      "cell_type": "code",
      "execution_count": null,
      "metadata": {
        "scrolled": true,
        "id": "lEB_6cc3wwyq",
        "outputId": "c677bb52-4458-4eff-fae0-d414ef714e00"
      },
      "outputs": [
        {
          "name": "stdout",
          "output_type": "stream",
          "text": [
            "<class 'pandas.core.frame.DataFrame'>\n",
            "RangeIndex: 6225 entries, 0 to 6224\n",
            "Data columns (total 7 columns):\n",
            " #   Column            Non-Null Count  Dtype  \n",
            "---  ------            --------------  -----  \n",
            " 0   tweet_id          6225 non-null   object \n",
            " 1   jpg_url           6225 non-null   object \n",
            " 2   img_num           6225 non-null   int64  \n",
            " 3   prediction_cycle  6225 non-null   object \n",
            " 4   prediction        6225 non-null   object \n",
            " 5   confidence        6225 non-null   float64\n",
            " 6   isDogBreed        6225 non-null   bool   \n",
            "dtypes: bool(1), float64(1), int64(1), object(4)\n",
            "memory usage: 298.0+ KB\n"
          ]
        }
      ],
      "source": [
        "image_prediction_df_clean.info()"
      ]
    },
    {
      "cell_type": "markdown",
      "metadata": {
        "id": "uV1TtU02wwyr"
      },
      "source": [
        "### Cleaning Issue 7: image_prediction data\n",
        "**false dog breeds are not needed**"
      ]
    },
    {
      "cell_type": "markdown",
      "metadata": {
        "id": "cXD1HFp4wwyr"
      },
      "source": [
        "#### Define\n",
        "**drop** all rows where the prediction is not a breed of dog. That is, isDogBreed is False."
      ]
    },
    {
      "cell_type": "code",
      "execution_count": null,
      "metadata": {
        "id": "XcG3_GjAwwyr",
        "outputId": "902d21b6-31b2-4229-c8e2-812b4c372361"
      },
      "outputs": [
        {
          "data": {
            "text/plain": [
              "tweet_id            1641\n",
              "jpg_url             1641\n",
              "img_num             1641\n",
              "prediction_cycle    1641\n",
              "prediction          1641\n",
              "confidence          1641\n",
              "isDogBreed          1641\n",
              "dtype: int64"
            ]
          },
          "execution_count": 61,
          "metadata": {},
          "output_type": "execute_result"
        }
      ],
      "source": [
        "image_prediction_df_clean[image_prediction_df_clean.isDogBreed == False].count()"
      ]
    },
    {
      "cell_type": "markdown",
      "metadata": {
        "id": "lY_3DJYqwwys"
      },
      "source": [
        "#### Code"
      ]
    },
    {
      "cell_type": "code",
      "execution_count": null,
      "metadata": {
        "id": "-cPScAmewwys"
      },
      "outputs": [],
      "source": [
        "image_prediction_df_clean = image_prediction_df_clean[image_prediction_df_clean.isDogBreed == True]"
      ]
    },
    {
      "cell_type": "markdown",
      "metadata": {
        "id": "WHu05KIKwwys"
      },
      "source": [
        "#### Test"
      ]
    },
    {
      "cell_type": "code",
      "execution_count": null,
      "metadata": {
        "id": "Yuxop4b1wwys",
        "outputId": "f2ce198d-d4a6-467b-c540-14ffd4ff5e4d"
      },
      "outputs": [
        {
          "data": {
            "text/plain": [
              "tweet_id            0\n",
              "jpg_url             0\n",
              "img_num             0\n",
              "prediction_cycle    0\n",
              "prediction          0\n",
              "confidence          0\n",
              "isDogBreed          0\n",
              "dtype: int64"
            ]
          },
          "execution_count": 63,
          "metadata": {},
          "output_type": "execute_result"
        }
      ],
      "source": [
        "image_prediction_df_clean[image_prediction_df_clean.isDogBreed == False].count()"
      ]
    },
    {
      "cell_type": "markdown",
      "metadata": {
        "id": "E8dQgzgDwwys"
      },
      "source": [
        "### Cleaning Issue 8: image_prediction data\n",
        "**only the most confident prediction is required**"
      ]
    },
    {
      "cell_type": "markdown",
      "metadata": {
        "id": "_wdVbkIQwwys"
      },
      "source": [
        "#### Define\n",
        "**Group** the data by the predictions and pick the prediction with the highest confidence."
      ]
    },
    {
      "cell_type": "code",
      "execution_count": null,
      "metadata": {
        "id": "DcyT8GIRwwys",
        "outputId": "757aa723-b2bc-4bba-bb82-cc569465cc1f"
      },
      "outputs": [
        {
          "data": {
            "text/plain": [
              "4584"
            ]
          },
          "execution_count": 64,
          "metadata": {},
          "output_type": "execute_result"
        }
      ],
      "source": [
        "image_prediction_df_clean.tweet_id.count()"
      ]
    },
    {
      "cell_type": "markdown",
      "metadata": {
        "id": "sLUreM-zwwys"
      },
      "source": [
        "#### Code"
      ]
    },
    {
      "cell_type": "code",
      "execution_count": null,
      "metadata": {
        "id": "ntG8aNJdwwys",
        "outputId": "e260341a-4c66-4b3c-8df6-9f296ccba1a9"
      },
      "outputs": [
        {
          "data": {
            "text/plain": [
              "p2    1553\n",
              "p1    1532\n",
              "p3    1499\n",
              "Name: prediction_cycle, dtype: int64"
            ]
          },
          "execution_count": 65,
          "metadata": {},
          "output_type": "execute_result"
        }
      ],
      "source": [
        "stat_cols = ['tweet_id', 'jpg_url', 'img_num']\n",
        "var_cols = ['confidence', 'prediction_cycle', 'prediction', 'isDogBreed']\n",
        "image_prediction_df_clean.prediction_cycle.value_counts()"
      ]
    },
    {
      "cell_type": "code",
      "execution_count": null,
      "metadata": {
        "id": "ZHc0De1wwwys"
      },
      "outputs": [],
      "source": [
        "image_prediction_df_clean = image_prediction_df_clean.groupby(stat_cols)[var_cols].max().reset_index()"
      ]
    },
    {
      "cell_type": "markdown",
      "metadata": {
        "id": "_R5VjqIDwwys"
      },
      "source": [
        "#### Test"
      ]
    },
    {
      "cell_type": "code",
      "execution_count": null,
      "metadata": {
        "id": "4OrSkzq0wwys",
        "outputId": "23d28665-9d86-4963-9fa2-1dd9de307a01"
      },
      "outputs": [
        {
          "data": {
            "text/html": [
              "<div>\n",
              "<style scoped>\n",
              "    .dataframe tbody tr th:only-of-type {\n",
              "        vertical-align: middle;\n",
              "    }\n",
              "\n",
              "    .dataframe tbody tr th {\n",
              "        vertical-align: top;\n",
              "    }\n",
              "\n",
              "    .dataframe thead th {\n",
              "        text-align: right;\n",
              "    }\n",
              "</style>\n",
              "<table border=\"1\" class=\"dataframe\">\n",
              "  <thead>\n",
              "    <tr style=\"text-align: right;\">\n",
              "      <th></th>\n",
              "      <th>tweet_id</th>\n",
              "      <th>jpg_url</th>\n",
              "      <th>img_num</th>\n",
              "      <th>confidence</th>\n",
              "      <th>prediction_cycle</th>\n",
              "      <th>prediction</th>\n",
              "      <th>isDogBreed</th>\n",
              "    </tr>\n",
              "  </thead>\n",
              "  <tbody>\n",
              "    <tr>\n",
              "      <th>1664</th>\n",
              "      <td>871762521631449091</td>\n",
              "      <td>https://pbs.twimg.com/media/DBkfY58XcAEdzZy.jpg</td>\n",
              "      <td>2</td>\n",
              "      <td>0.921393</td>\n",
              "      <td>p3</td>\n",
              "      <td>golden_retriever</td>\n",
              "      <td>True</td>\n",
              "    </tr>\n",
              "    <tr>\n",
              "      <th>1056</th>\n",
              "      <td>751456908746354688</td>\n",
              "      <td>https://pbs.twimg.com/ext_tw_video_thumb/75145...</td>\n",
              "      <td>1</td>\n",
              "      <td>0.714409</td>\n",
              "      <td>p3</td>\n",
              "      <td>golden_retriever</td>\n",
              "      <td>True</td>\n",
              "    </tr>\n",
              "    <tr>\n",
              "      <th>28</th>\n",
              "      <td>666435652385423360</td>\n",
              "      <td>https://pbs.twimg.com/media/CT-nsTQWEAEkyDn.jpg</td>\n",
              "      <td>1</td>\n",
              "      <td>0.184130</td>\n",
              "      <td>p1</td>\n",
              "      <td>Chesapeake_Bay_retriever</td>\n",
              "      <td>True</td>\n",
              "    </tr>\n",
              "    <tr>\n",
              "      <th>143</th>\n",
              "      <td>669353438988365824</td>\n",
              "      <td>https://pbs.twimg.com/media/CUoFZTyW4AE70iD.jpg</td>\n",
              "      <td>1</td>\n",
              "      <td>0.212343</td>\n",
              "      <td>p3</td>\n",
              "      <td>chow</td>\n",
              "      <td>True</td>\n",
              "    </tr>\n",
              "    <tr>\n",
              "      <th>1271</th>\n",
              "      <td>790581949425475584</td>\n",
              "      <td>https://pbs.twimg.com/media/Cvi2FiKWgAAif1u.jpg</td>\n",
              "      <td>2</td>\n",
              "      <td>0.000153</td>\n",
              "      <td>p3</td>\n",
              "      <td>malinois</td>\n",
              "      <td>True</td>\n",
              "    </tr>\n",
              "  </tbody>\n",
              "</table>\n",
              "</div>"
            ],
            "text/plain": [
              "                tweet_id                                            jpg_url  \\\n",
              "1664  871762521631449091    https://pbs.twimg.com/media/DBkfY58XcAEdzZy.jpg   \n",
              "1056  751456908746354688  https://pbs.twimg.com/ext_tw_video_thumb/75145...   \n",
              "28    666435652385423360    https://pbs.twimg.com/media/CT-nsTQWEAEkyDn.jpg   \n",
              "143   669353438988365824    https://pbs.twimg.com/media/CUoFZTyW4AE70iD.jpg   \n",
              "1271  790581949425475584    https://pbs.twimg.com/media/Cvi2FiKWgAAif1u.jpg   \n",
              "\n",
              "      img_num  confidence prediction_cycle                prediction  \\\n",
              "1664        2    0.921393               p3          golden_retriever   \n",
              "1056        1    0.714409               p3          golden_retriever   \n",
              "28          1    0.184130               p1  Chesapeake_Bay_retriever   \n",
              "143         1    0.212343               p3                      chow   \n",
              "1271        2    0.000153               p3                  malinois   \n",
              "\n",
              "      isDogBreed  \n",
              "1664        True  \n",
              "1056        True  \n",
              "28          True  \n",
              "143         True  \n",
              "1271        True  "
            ]
          },
          "execution_count": 67,
          "metadata": {},
          "output_type": "execute_result"
        }
      ],
      "source": [
        "image_prediction_df_clean.sample(5)"
      ]
    },
    {
      "cell_type": "code",
      "execution_count": null,
      "metadata": {
        "id": "stA50akXwwys",
        "outputId": "468cf80b-dc0e-4df3-b6a3-36fafd2980fa"
      },
      "outputs": [
        {
          "name": "stdout",
          "output_type": "stream",
          "text": [
            "<class 'pandas.core.frame.DataFrame'>\n",
            "RangeIndex: 1751 entries, 0 to 1750\n",
            "Data columns (total 7 columns):\n",
            " #   Column            Non-Null Count  Dtype  \n",
            "---  ------            --------------  -----  \n",
            " 0   tweet_id          1751 non-null   object \n",
            " 1   jpg_url           1751 non-null   object \n",
            " 2   img_num           1751 non-null   int64  \n",
            " 3   confidence        1751 non-null   float64\n",
            " 4   prediction_cycle  1751 non-null   object \n",
            " 5   prediction        1751 non-null   object \n",
            " 6   isDogBreed        1751 non-null   bool   \n",
            "dtypes: bool(1), float64(1), int64(1), object(4)\n",
            "memory usage: 83.9+ KB\n"
          ]
        }
      ],
      "source": [
        "image_prediction_df_clean.info()"
      ]
    },
    {
      "cell_type": "markdown",
      "metadata": {
        "id": "VQSIhAHhwwyt"
      },
      "source": [
        "- Finally lets merge the twiiter data and the image prediction"
      ]
    },
    {
      "cell_type": "code",
      "execution_count": null,
      "metadata": {
        "scrolled": true,
        "id": "A8nROrWAwwyt",
        "outputId": "ec75d657-5bc3-49fb-861b-0baaa4af2a69"
      },
      "outputs": [
        {
          "name": "stdout",
          "output_type": "stream",
          "text": [
            "<class 'pandas.core.frame.DataFrame'>\n",
            "Int64Index: 2080 entries, 0 to 2355\n",
            "Data columns (total 11 columns):\n",
            " #   Column              Non-Null Count  Dtype              \n",
            "---  ------              --------------  -----              \n",
            " 0   tweet_id            2080 non-null   object             \n",
            " 1   timestamp           2080 non-null   datetime64[ns, UTC]\n",
            " 2   source              2080 non-null   object             \n",
            " 3   text                2080 non-null   object             \n",
            " 4   expanded_urls       2077 non-null   object             \n",
            " 5   rating_numerator    2080 non-null   int64              \n",
            " 6   rating_denominator  2080 non-null   int64              \n",
            " 7   name                2080 non-null   object             \n",
            " 8   dog_stage           336 non-null    object             \n",
            " 9   retweet_count       2080 non-null   int64              \n",
            " 10  favorite_count      2080 non-null   int64              \n",
            "dtypes: datetime64[ns, UTC](1), int64(4), object(6)\n",
            "memory usage: 195.0+ KB\n"
          ]
        }
      ],
      "source": [
        "twitter_archive_df_clean.info()"
      ]
    },
    {
      "cell_type": "code",
      "execution_count": null,
      "metadata": {
        "id": "l96F5Q9Zwwyt"
      },
      "outputs": [],
      "source": [
        "master_twitter_df = twitter_archive_df_clean.merge(image_prediction_df_clean[['tweet_id', 'jpg_url', 'prediction']], how = 'outer', on = 'tweet_id')"
      ]
    },
    {
      "cell_type": "code",
      "execution_count": null,
      "metadata": {
        "scrolled": true,
        "id": "Yoh6i1nOwwyt",
        "outputId": "41056b81-0996-40f8-a658-a0fadf17cdb0"
      },
      "outputs": [
        {
          "name": "stdout",
          "output_type": "stream",
          "text": [
            "<class 'pandas.core.frame.DataFrame'>\n",
            "Int64Index: 1650 entries, 1 to 2079\n",
            "Data columns (total 13 columns):\n",
            " #   Column              Non-Null Count  Dtype              \n",
            "---  ------              --------------  -----              \n",
            " 0   tweet_id            1650 non-null   object             \n",
            " 1   timestamp           1650 non-null   datetime64[ns, UTC]\n",
            " 2   source              1650 non-null   object             \n",
            " 3   text                1650 non-null   object             \n",
            " 4   expanded_urls       1650 non-null   object             \n",
            " 5   rating_numerator    1650 non-null   float64            \n",
            " 6   rating_denominator  1650 non-null   float64            \n",
            " 7   name                1650 non-null   object             \n",
            " 8   dog_stage           257 non-null    object             \n",
            " 9   retweet_count       1650 non-null   float64            \n",
            " 10  favorite_count      1650 non-null   float64            \n",
            " 11  jpg_url             1650 non-null   object             \n",
            " 12  prediction          1650 non-null   object             \n",
            "dtypes: datetime64[ns, UTC](1), float64(4), object(8)\n",
            "memory usage: 180.5+ KB\n"
          ]
        }
      ],
      "source": [
        "# drop NaN in the prediction and text columns\n",
        "master_twitter_df.dropna(subset=['prediction', 'text'], inplace = True)\n",
        "\n",
        "# master_twitter_df.prediction.dropna( inplace= True)\n",
        "master_twitter_df.info()"
      ]
    },
    {
      "cell_type": "code",
      "execution_count": null,
      "metadata": {
        "id": "U2RI64fPwwyt",
        "outputId": "d1e75b5c-773f-4301-e998-dc5121a7b685"
      },
      "outputs": [
        {
          "name": "stdout",
          "output_type": "stream",
          "text": [
            "<class 'pandas.core.frame.DataFrame'>\n",
            "Int64Index: 1650 entries, 1 to 2079\n",
            "Data columns (total 13 columns):\n",
            " #   Column              Non-Null Count  Dtype              \n",
            "---  ------              --------------  -----              \n",
            " 0   tweet_id            1650 non-null   object             \n",
            " 1   timestamp           1650 non-null   datetime64[ns, UTC]\n",
            " 2   source              1650 non-null   object             \n",
            " 3   text                1650 non-null   object             \n",
            " 4   expanded_urls       1650 non-null   object             \n",
            " 5   rating_numerator    1650 non-null   float64            \n",
            " 6   rating_denominator  1650 non-null   float64            \n",
            " 7   name                1650 non-null   object             \n",
            " 8   dog_stage           257 non-null    object             \n",
            " 9   retweet_count       1650 non-null   float64            \n",
            " 10  favorite_count      1650 non-null   float64            \n",
            " 11  jpg_url             1650 non-null   object             \n",
            " 12  dogBreed            1650 non-null   object             \n",
            "dtypes: datetime64[ns, UTC](1), float64(4), object(8)\n",
            "memory usage: 180.5+ KB\n"
          ]
        }
      ],
      "source": [
        "# rename prediction to dogbreed for clarity\n",
        "master_twitter_df.rename(columns = {'prediction' : 'dogBreed'}, inplace =  True)\n",
        "master_twitter_df.info()"
      ]
    },
    {
      "cell_type": "code",
      "execution_count": null,
      "metadata": {
        "id": "f61MenSXwwyt"
      },
      "outputs": [],
      "source": [
        "# change dtype from float to int\n",
        "master_twitter_df.retweet_count = master_twitter_df.retweet_count.astype('int64')\n",
        "\n",
        "master_twitter_df.favorite_count = master_twitter_df.favorite_count.astype('int64')"
      ]
    },
    {
      "cell_type": "markdown",
      "metadata": {
        "id": "txR2_ueAwwyt"
      },
      "source": [
        "## Storing Data\n",
        "The gathered, assessed, and cleaned master dataset is saved to a CSV file named \"twitter_archive_master.csv\"."
      ]
    },
    {
      "cell_type": "code",
      "execution_count": null,
      "metadata": {
        "id": "dtvbsXetwwyt"
      },
      "outputs": [],
      "source": [
        "master_twitter_df.to_csv('twitter_master.csv', index = False)\n",
        "# master_twitter_df.to_sql('twitter_archive_master.sql', con = 'sqlalchemy.engine', index = False)"
      ]
    }
  ],
  "metadata": {
    "extensions": {
      "jupyter_dashboards": {
        "activeView": "report_default",
        "version": 1,
        "views": {
          "grid_default": {
            "cellMargin": 10,
            "defaultCellHeight": 20,
            "maxColumns": 12,
            "name": "grid",
            "type": "grid"
          },
          "report_default": {
            "name": "report",
            "type": "report"
          }
        }
      }
    },
    "kernelspec": {
      "display_name": "Python 3 (ipykernel)",
      "language": "python",
      "name": "python3"
    },
    "language_info": {
      "codemirror_mode": {
        "name": "ipython",
        "version": 3
      },
      "file_extension": ".py",
      "mimetype": "text/x-python",
      "name": "python",
      "nbconvert_exporter": "python",
      "pygments_lexer": "ipython3",
      "version": "3.9.12"
    },
    "colab": {
      "provenance": []
    }
  },
  "nbformat": 4,
  "nbformat_minor": 0
}